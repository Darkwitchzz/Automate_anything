{
 "cells": [
  {
   "cell_type": "code",
   "execution_count": 7,
   "id": "3b8bb739-cec8-41fe-8edd-a25679b742ae",
   "metadata": {},
   "outputs": [
    {
     "ename": "NoSuchElementException",
     "evalue": "Message: no such element: Unable to locate element: {\"method\":\"xpath\",\"selector\":\"/html/body/nav/div/a\"}\n  (Session info: chrome=137.0.7151.104); For documentation on this error, please visit: https://www.selenium.dev/documentation/webdriver/troubleshooting/errors#no-such-element-exception\nStacktrace:\n\tGetHandleVerifier [0x0x7ff74864fe75+79173]\n\tGetHandleVerifier [0x0x7ff74864fed0+79264]\n\t(No symbol) [0x0x7ff748409e5a]\n\t(No symbol) [0x0x7ff748460586]\n\t(No symbol) [0x0x7ff74846083c]\n\t(No symbol) [0x0x7ff7484b4247]\n\t(No symbol) [0x0x7ff7484889af]\n\t(No symbol) [0x0x7ff7484b100d]\n\t(No symbol) [0x0x7ff748488743]\n\t(No symbol) [0x0x7ff7484514c1]\n\t(No symbol) [0x0x7ff748452253]\n\tGetHandleVerifier [0x0x7ff74891a2ad+3004797]\n\tGetHandleVerifier [0x0x7ff7489146fd+2981325]\n\tGetHandleVerifier [0x0x7ff748933350+3107360]\n\tGetHandleVerifier [0x0x7ff74866a9fe+188622]\n\tGetHandleVerifier [0x0x7ff74867228f+219487]\n\tGetHandleVerifier [0x0x7ff748658dc4+115860]\n\tGetHandleVerifier [0x0x7ff748658f79+116297]\n\tGetHandleVerifier [0x0x7ff74863f528+11256]\n\tBaseThreadInitThunk [0x0x7ff9f38d7374+20]\n\tRtlUserThreadStart [0x0x7ff9f41fcc91+33]\n",
     "output_type": "error",
     "traceback": [
      "\u001b[1;31m---------------------------------------------------------------------------\u001b[0m",
      "\u001b[1;31mNoSuchElementException\u001b[0m                    Traceback (most recent call last)",
      "Cell \u001b[1;32mIn[7], line 64\u001b[0m\n\u001b[0;32m     61\u001b[0m username \u001b[38;5;241m=\u001b[39m \u001b[38;5;124m\"\u001b[39m\u001b[38;5;124mautomated\u001b[39m\u001b[38;5;124m\"\u001b[39m\n\u001b[0;32m     62\u001b[0m password \u001b[38;5;241m=\u001b[39m os\u001b[38;5;241m.\u001b[39mgetenv(\u001b[38;5;124m\"\u001b[39m\u001b[38;5;124mPASSWORD\u001b[39m\u001b[38;5;124m\"\u001b[39m)\n\u001b[1;32m---> 64\u001b[0m \u001b[38;5;28mprint\u001b[39m(\u001b[43mmain\u001b[49m\u001b[43m(\u001b[49m\u001b[43m)\u001b[49m)\n",
      "Cell \u001b[1;32mIn[7], line 47\u001b[0m, in \u001b[0;36mmain\u001b[1;34m()\u001b[0m\n\u001b[0;32m     44\u001b[0m \u001b[38;5;28;01mdef\u001b[39;00m \u001b[38;5;21mmain\u001b[39m():\n\u001b[0;32m     46\u001b[0m   driver \u001b[38;5;241m=\u001b[39m get_driver()\n\u001b[1;32m---> 47\u001b[0m   \u001b[43mlogin\u001b[49m\u001b[43m(\u001b[49m\u001b[43mdriver\u001b[49m\u001b[43m,\u001b[49m\u001b[43m \u001b[49m\u001b[43musername\u001b[49m\u001b[43m,\u001b[49m\u001b[43m \u001b[49m\u001b[43mpassword\u001b[49m\u001b[43m)\u001b[49m\n\u001b[0;32m     49\u001b[0m   current_time \u001b[38;5;241m=\u001b[39m time\u001b[38;5;241m.\u001b[39mtime()\n\u001b[0;32m     50\u001b[0m   future_time \u001b[38;5;241m=\u001b[39m current_time \u001b[38;5;241m+\u001b[39m \u001b[38;5;241m60\u001b[39m\n",
      "Cell \u001b[1;32mIn[7], line 35\u001b[0m, in \u001b[0;36mlogin\u001b[1;34m(driver, username, password)\u001b[0m\n\u001b[0;32m     33\u001b[0m driver\u001b[38;5;241m.\u001b[39mfind_element(by\u001b[38;5;241m=\u001b[39m\u001b[38;5;124m\"\u001b[39m\u001b[38;5;124mid\u001b[39m\u001b[38;5;124m\"\u001b[39m, value\u001b[38;5;241m=\u001b[39m\u001b[38;5;124m\"\u001b[39m\u001b[38;5;124mid_username\u001b[39m\u001b[38;5;124m\"\u001b[39m)\u001b[38;5;241m.\u001b[39msend_keys(username)\n\u001b[0;32m     34\u001b[0m driver\u001b[38;5;241m.\u001b[39mfind_element(by\u001b[38;5;241m=\u001b[39m\u001b[38;5;124m\"\u001b[39m\u001b[38;5;124mid\u001b[39m\u001b[38;5;124m\"\u001b[39m, value\u001b[38;5;241m=\u001b[39m\u001b[38;5;124m\"\u001b[39m\u001b[38;5;124mid_password\u001b[39m\u001b[38;5;124m\"\u001b[39m)\u001b[38;5;241m.\u001b[39msend_keys(password \u001b[38;5;241m+\u001b[39m Keys\u001b[38;5;241m.\u001b[39mRETURN)\n\u001b[1;32m---> 35\u001b[0m \u001b[43mdriver\u001b[49m\u001b[38;5;241;43m.\u001b[39;49m\u001b[43mfind_element\u001b[49m\u001b[43m(\u001b[49m\u001b[43mby\u001b[49m\u001b[38;5;241;43m=\u001b[39;49m\u001b[38;5;124;43m\"\u001b[39;49m\u001b[38;5;124;43mxpath\u001b[39;49m\u001b[38;5;124;43m\"\u001b[39;49m\u001b[43m,\u001b[49m\u001b[43m \u001b[49m\u001b[43mvalue\u001b[49m\u001b[38;5;241;43m=\u001b[39;49m\u001b[38;5;124;43m\"\u001b[39;49m\u001b[38;5;124;43m/html/body/nav/div/a\u001b[39;49m\u001b[38;5;124;43m\"\u001b[39;49m\u001b[43m)\u001b[49m\u001b[38;5;241m.\u001b[39mclick()\n",
      "File \u001b[1;32mC:\\Users\\Athitawat\\lib\\site-packages\\selenium\\webdriver\\remote\\webdriver.py:917\u001b[0m, in \u001b[0;36mWebDriver.find_element\u001b[1;34m(self, by, value)\u001b[0m\n\u001b[0;32m    914\u001b[0m         \u001b[38;5;28;01mraise\u001b[39;00m NoSuchElementException(\u001b[38;5;124mf\u001b[39m\u001b[38;5;124m\"\u001b[39m\u001b[38;5;124mCannot locate relative element with: \u001b[39m\u001b[38;5;132;01m{\u001b[39;00mby\u001b[38;5;241m.\u001b[39mroot\u001b[38;5;132;01m}\u001b[39;00m\u001b[38;5;124m\"\u001b[39m)\n\u001b[0;32m    915\u001b[0m     \u001b[38;5;28;01mreturn\u001b[39;00m elements[\u001b[38;5;241m0\u001b[39m]\n\u001b[1;32m--> 917\u001b[0m \u001b[38;5;28;01mreturn\u001b[39;00m \u001b[38;5;28;43mself\u001b[39;49m\u001b[38;5;241;43m.\u001b[39;49m\u001b[43mexecute\u001b[49m\u001b[43m(\u001b[49m\u001b[43mCommand\u001b[49m\u001b[38;5;241;43m.\u001b[39;49m\u001b[43mFIND_ELEMENT\u001b[49m\u001b[43m,\u001b[49m\u001b[43m \u001b[49m\u001b[43m{\u001b[49m\u001b[38;5;124;43m\"\u001b[39;49m\u001b[38;5;124;43musing\u001b[39;49m\u001b[38;5;124;43m\"\u001b[39;49m\u001b[43m:\u001b[49m\u001b[43m \u001b[49m\u001b[43mby\u001b[49m\u001b[43m,\u001b[49m\u001b[43m \u001b[49m\u001b[38;5;124;43m\"\u001b[39;49m\u001b[38;5;124;43mvalue\u001b[39;49m\u001b[38;5;124;43m\"\u001b[39;49m\u001b[43m:\u001b[49m\u001b[43m \u001b[49m\u001b[43mvalue\u001b[49m\u001b[43m}\u001b[49m\u001b[43m)\u001b[49m[\u001b[38;5;124m\"\u001b[39m\u001b[38;5;124mvalue\u001b[39m\u001b[38;5;124m\"\u001b[39m]\n",
      "File \u001b[1;32mC:\\Users\\Athitawat\\lib\\site-packages\\selenium\\webdriver\\remote\\webdriver.py:448\u001b[0m, in \u001b[0;36mWebDriver.execute\u001b[1;34m(self, driver_command, params)\u001b[0m\n\u001b[0;32m    446\u001b[0m response \u001b[38;5;241m=\u001b[39m \u001b[38;5;28mself\u001b[39m\u001b[38;5;241m.\u001b[39mcommand_executor\u001b[38;5;241m.\u001b[39mexecute(driver_command, params)\n\u001b[0;32m    447\u001b[0m \u001b[38;5;28;01mif\u001b[39;00m response:\n\u001b[1;32m--> 448\u001b[0m     \u001b[38;5;28;43mself\u001b[39;49m\u001b[38;5;241;43m.\u001b[39;49m\u001b[43merror_handler\u001b[49m\u001b[38;5;241;43m.\u001b[39;49m\u001b[43mcheck_response\u001b[49m\u001b[43m(\u001b[49m\u001b[43mresponse\u001b[49m\u001b[43m)\u001b[49m\n\u001b[0;32m    449\u001b[0m     response[\u001b[38;5;124m\"\u001b[39m\u001b[38;5;124mvalue\u001b[39m\u001b[38;5;124m\"\u001b[39m] \u001b[38;5;241m=\u001b[39m \u001b[38;5;28mself\u001b[39m\u001b[38;5;241m.\u001b[39m_unwrap_value(response\u001b[38;5;241m.\u001b[39mget(\u001b[38;5;124m\"\u001b[39m\u001b[38;5;124mvalue\u001b[39m\u001b[38;5;124m\"\u001b[39m, \u001b[38;5;28;01mNone\u001b[39;00m))\n\u001b[0;32m    450\u001b[0m     \u001b[38;5;28;01mreturn\u001b[39;00m response\n",
      "File \u001b[1;32mC:\\Users\\Athitawat\\lib\\site-packages\\selenium\\webdriver\\remote\\errorhandler.py:232\u001b[0m, in \u001b[0;36mErrorHandler.check_response\u001b[1;34m(self, response)\u001b[0m\n\u001b[0;32m    230\u001b[0m         alert_text \u001b[38;5;241m=\u001b[39m value[\u001b[38;5;124m\"\u001b[39m\u001b[38;5;124malert\u001b[39m\u001b[38;5;124m\"\u001b[39m]\u001b[38;5;241m.\u001b[39mget(\u001b[38;5;124m\"\u001b[39m\u001b[38;5;124mtext\u001b[39m\u001b[38;5;124m\"\u001b[39m)\n\u001b[0;32m    231\u001b[0m     \u001b[38;5;28;01mraise\u001b[39;00m exception_class(message, screen, stacktrace, alert_text)  \u001b[38;5;66;03m# type: ignore[call-arg]  # mypy is not smart enough here\u001b[39;00m\n\u001b[1;32m--> 232\u001b[0m \u001b[38;5;28;01mraise\u001b[39;00m exception_class(message, screen, stacktrace)\n",
      "\u001b[1;31mNoSuchElementException\u001b[0m: Message: no such element: Unable to locate element: {\"method\":\"xpath\",\"selector\":\"/html/body/nav/div/a\"}\n  (Session info: chrome=137.0.7151.104); For documentation on this error, please visit: https://www.selenium.dev/documentation/webdriver/troubleshooting/errors#no-such-element-exception\nStacktrace:\n\tGetHandleVerifier [0x0x7ff74864fe75+79173]\n\tGetHandleVerifier [0x0x7ff74864fed0+79264]\n\t(No symbol) [0x0x7ff748409e5a]\n\t(No symbol) [0x0x7ff748460586]\n\t(No symbol) [0x0x7ff74846083c]\n\t(No symbol) [0x0x7ff7484b4247]\n\t(No symbol) [0x0x7ff7484889af]\n\t(No symbol) [0x0x7ff7484b100d]\n\t(No symbol) [0x0x7ff748488743]\n\t(No symbol) [0x0x7ff7484514c1]\n\t(No symbol) [0x0x7ff748452253]\n\tGetHandleVerifier [0x0x7ff74891a2ad+3004797]\n\tGetHandleVerifier [0x0x7ff7489146fd+2981325]\n\tGetHandleVerifier [0x0x7ff748933350+3107360]\n\tGetHandleVerifier [0x0x7ff74866a9fe+188622]\n\tGetHandleVerifier [0x0x7ff74867228f+219487]\n\tGetHandleVerifier [0x0x7ff748658dc4+115860]\n\tGetHandleVerifier [0x0x7ff748658f79+116297]\n\tGetHandleVerifier [0x0x7ff74863f528+11256]\n\tBaseThreadInitThunk [0x0x7ff9f38d7374+20]\n\tRtlUserThreadStart [0x0x7ff9f41fcc91+33]\n"
     ]
    }
   ],
   "source": [
    "from selenium import webdriver\n",
    "from selenium.webdriver.common import options\n",
    "from selenium.webdriver.common.keys import Keys\n",
    "from datetime import datetime\n",
    "import time\n",
    "from dotenv import load_dotenv\n",
    "import os\n",
    "\n",
    "def get_driver():\n",
    "  \n",
    "  options = webdriver.ChromeOptions()\n",
    "  options.add_argument(\"disable-infobars\")\n",
    "  options.add_argument(\"start-maximized\")\n",
    "  options.add_argument(\"disable-dev-shm-usage\")\n",
    "  options.add_argument(\"no-sandbox\")\n",
    "  options.add_argument(\"disable-blink-features=AutomationControlled\")\n",
    "  # options.add_argument(\"--headless\")\n",
    "  options.add_experimental_option(\"excludeSwitches\", [\"enable-automation\"])\n",
    "  \n",
    "  driver = webdriver.Chrome(options=options)\n",
    "  driver.get(\"https://automated.pythonanywhere.com/login/\")\n",
    "\n",
    "  return driver\n",
    "\n",
    "def clean_text(text):\n",
    "  \n",
    "  output = float(text.split(\": \")[-1])\n",
    "  \n",
    "  return output\n",
    "\n",
    "def login(driver, username, password):\n",
    "  \n",
    "  driver.find_element(by=\"id\", value=\"id_username\").send_keys(username)\n",
    "  driver.find_element(by=\"id\", value=\"id_password\").send_keys(password + Keys.RETURN)\n",
    "  driver.find_element(by=\"xpath\", value=\"/html/body/nav/div/a\").click()\n",
    "  # print(driver.current_url)\n",
    "\n",
    "def save_text(text):\n",
    "\n",
    "  datetime_now = datetime.now().strftime(\"%Y-%m-%d %H:%M:%S\")\n",
    "  with open (f\"{datetime_now}.txt\", \"w\") as file:\n",
    "    file.write(str(text))\n",
    "  \n",
    "def main():\n",
    "  \n",
    "  driver = get_driver()\n",
    "  login(driver, username, password)\n",
    "\n",
    "  current_time = time.time()\n",
    "  future_time = current_time + 60\n",
    "\n",
    "  while time.time() < future_time:\n",
    "    time.sleep(2)\n",
    "    web_text = driver.find_element(by=\"id\", value=\"displaytimer\").text\n",
    "    text = clean_text(web_text)\n",
    "    save_text(text)\n",
    "  \n",
    "  driver.quit()\n",
    "\n",
    "load_dotenv(\"credentials.env\")\n",
    "username = \"automated\"\n",
    "password = os.getenv(\"PASSWORD\")\n",
    "\n",
    "print(main())"
   ]
  },
  {
   "cell_type": "code",
   "execution_count": 1,
   "id": "0567d95f-6d25-424a-b68d-fffeb2f56264",
   "metadata": {},
   "outputs": [],
   "source": [
    "from dotenv import load_dotenv\n",
    "import os"
   ]
  },
  {
   "cell_type": "code",
   "execution_count": 3,
   "id": "e2ecf1fc-91bb-48f2-a954-d2ba8dc94938",
   "metadata": {},
   "outputs": [
    {
     "data": {
      "text/plain": [
       "True"
      ]
     },
     "execution_count": 3,
     "metadata": {},
     "output_type": "execute_result"
    }
   ],
   "source": [
    "load_dotenv(\"credentials.env\")"
   ]
  },
  {
   "cell_type": "code",
   "execution_count": null,
   "id": "8039b5bd-83b9-410d-aac6-ad52d2831c14",
   "metadata": {},
   "outputs": [],
   "source": []
  }
 ],
 "metadata": {
  "kernelspec": {
   "display_name": "Python 3 (ipykernel)",
   "language": "python",
   "name": "python3"
  },
  "language_info": {
   "codemirror_mode": {
    "name": "ipython",
    "version": 3
   },
   "file_extension": ".py",
   "mimetype": "text/x-python",
   "name": "python",
   "nbconvert_exporter": "python",
   "pygments_lexer": "ipython3",
   "version": "3.9.16"
  }
 },
 "nbformat": 4,
 "nbformat_minor": 5
}
