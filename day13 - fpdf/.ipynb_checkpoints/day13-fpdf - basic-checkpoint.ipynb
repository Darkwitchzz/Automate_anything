{
 "cells": [
  {
   "cell_type": "code",
   "execution_count": 21,
   "id": "fb74bb11-957f-4f51-ab61-f33e1e47fc59",
   "metadata": {},
   "outputs": [
    {
     "data": {
      "text/plain": [
       "''"
      ]
     },
     "execution_count": 21,
     "metadata": {},
     "output_type": "execute_result"
    }
   ],
   "source": [
    "from fpdf import FPDF\n",
    "\n",
    "# def write_text(style=\"B\", size=16, w=0, h=50, txt=\"\", ln=1, align=\"\", border=\"\"):\n",
    "#     pdf.set_font(family=\"Arial\", style=style, size=size)\n",
    "#     pdf.cell(w=w, h=h, txt=txt, ln=ln, align=align, border=border)\n",
    "\n",
    "pdf = FPDF(orientation=\"P\", unit=\"pt\", format=\"A4\")\n",
    "\n",
    "pdf.add_page()\n",
    "pdf.image(\"orange.png\", w=80, h=80)\n",
    "\n",
    "pdf.set_font(family=\"Arial\", style=\"B\", size=24)\n",
    "pdf.cell(w=0, h=50, txt=\"Orange Shake\", ln=1, align=\"C\")\n",
    "\n",
    "pdf.set_font(family=\"Arial\", style=\"B\", size=16)\n",
    "pdf.cell(w=0, h=25, txt=\"Description\", ln=1, align=\"\")\n",
    "\n",
    "text_body = \"\"\"\n",
    "The orange, also called sweet orange to distinguish it from the bitter orange (Citrus × aurantium), is the fruit of a tree in the family Rutaceae. Botanically, this is the hybrid Citrus × sinensis, between the pomelo (Citrus maxima) and the mandarin orange (Citrus reticulata). The chloroplast genome, and therefore the maternal line, is that of pomelo. There are many related hybrids including of mandarins and sweet orange. The sweet orange has had its full genome sequenced.\n",
    "\"\"\"\n",
    "\n",
    "pdf.set_font(family=\"Arial\", style=\"\", size=16)\n",
    "pdf.multi_cell(w=0, h=15, txt=text_body)\n",
    "\n",
    "pdf.set_font(family=\"Arial\", style=\"B\", size=16)\n",
    "pdf.cell(w=125, h=25, txt=\"Carbohydrates:\", ln=0, align=\"\")\n",
    "\n",
    "pdf.set_font(family=\"Arial\", style=\"\", size=16)\n",
    "pdf.cell(w=125, h=25, txt=\"11.75 g\", ln=1, align=\"\")\n",
    "\n",
    "pdf.set_font(family=\"Arial\", style=\"B\", size=16)\n",
    "pdf.cell(w=125, h=25, txt=\"Fat:\", ln=0, align=\"\")\n",
    "\n",
    "pdf.set_font(family=\"Arial\", style=\"\", size=16)\n",
    "pdf.cell(w=125, h=25, txt=\"0.12 g\", ln=1, align=\"\")\n",
    "\n",
    "pdf.set_font(family=\"Arial\", style=\"B\", size=16)\n",
    "pdf.cell(w=125, h=25, txt=\"Protein:\", ln=0, align=\"\")\n",
    "\n",
    "pdf.set_font(family=\"Arial\", style=\"\", size=16)\n",
    "pdf.cell(w=125, h=25, txt=\"0.94 g\", ln=1, align=\"\")\n",
    "\n",
    "pdf.output(\"output.pdf\")"
   ]
  },
  {
   "cell_type": "markdown",
   "id": "d9f4518e-ed5c-4d3e-891d-476cc900d5df",
   "metadata": {},
   "source": [
    "# STEP BY STEP"
   ]
  },
  {
   "cell_type": "code",
   "execution_count": 2,
   "id": "6d979f88-a07e-48fd-945f-7e93f79e1643",
   "metadata": {},
   "outputs": [],
   "source": [
    "from fpdf import FPDF"
   ]
  },
  {
   "cell_type": "code",
   "execution_count": 3,
   "id": "029f7daa-60ea-4907-8bb6-28c777de13d4",
   "metadata": {},
   "outputs": [],
   "source": [
    "pdf = FPDF(orientation=\"P\", unit=\"pt\", format=\"A4\")"
   ]
  },
  {
   "cell_type": "code",
   "execution_count": 4,
   "id": "b61055c9-2ccf-4234-b506-3ef4ac0e31ef",
   "metadata": {},
   "outputs": [],
   "source": [
    "pdf.add_page()"
   ]
  },
  {
   "cell_type": "code",
   "execution_count": 5,
   "id": "1463c9c3-5751-497d-b144-b8b7ab190b59",
   "metadata": {},
   "outputs": [],
   "source": [
    "pdf.image(\"orange.png\", w=80, h=80)"
   ]
  },
  {
   "cell_type": "code",
   "execution_count": 6,
   "id": "de752f47-60da-49af-b2ba-13d9a98cb7e6",
   "metadata": {},
   "outputs": [],
   "source": [
    "pdf.set_font(family=\"Arial\", style=\"B\", size=24)\n",
    "pdf.cell(w=0, h=50, txt=\"Orange Shake\", ln=1, align=\"C\")"
   ]
  },
  {
   "cell_type": "code",
   "execution_count": 7,
   "id": "c257ded8-db62-42ad-a825-a1f1605c0176",
   "metadata": {},
   "outputs": [
    {
     "data": {
      "text/plain": [
       "''"
      ]
     },
     "execution_count": 7,
     "metadata": {},
     "output_type": "execute_result"
    }
   ],
   "source": [
    "pdf.output(\"output.pdf\")"
   ]
  },
  {
   "cell_type": "code",
   "execution_count": null,
   "id": "90347635-109a-49c1-a237-09df8b9dff59",
   "metadata": {},
   "outputs": [],
   "source": []
  }
 ],
 "metadata": {
  "kernelspec": {
   "display_name": "Python 3 (ipykernel)",
   "language": "python",
   "name": "python3"
  },
  "language_info": {
   "codemirror_mode": {
    "name": "ipython",
    "version": 3
   },
   "file_extension": ".py",
   "mimetype": "text/x-python",
   "name": "python",
   "nbconvert_exporter": "python",
   "pygments_lexer": "ipython3",
   "version": "3.9.16"
  }
 },
 "nbformat": 4,
 "nbformat_minor": 5
}
