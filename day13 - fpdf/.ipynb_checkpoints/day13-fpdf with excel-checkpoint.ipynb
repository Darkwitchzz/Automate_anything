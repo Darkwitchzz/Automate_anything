{
 "cells": [
  {
   "cell_type": "code",
   "execution_count": null,
   "id": "38cd7910-e5e8-4b29-a49c-397c94c87eb0",
   "metadata": {},
   "outputs": [],
   "source": [
    "from fpdf import FPDF\n",
    "import pandas as pd\n",
    "\n",
    "df = pd.read_excel(\"data.xlsx\")\n",
    "\n",
    "for index, row in df.iterrows():   \n",
    "    pdf = FPDF(orientation=\"P\", unit=\"pt\", format=\"A4\")\n",
    "    pdf.add_page()\n",
    "    \n",
    "    for column in df.columns:\n",
    "\n",
    "        if column == \"name\":            \n",
    "            animal_name = row[column]\n",
    "            pdf.set_font(family=\"Arial\", style=\"B\", size=24)\n",
    "            pdf.cell(w=0, h=50, txt=animal_name, ln=1, align=\"C\")\n",
    "\n",
    "        else:       \n",
    "            pdf.set_font(family=\"Arial\", style=\"B\", size=16)\n",
    "            pdf.cell(w=150, h=25, txt=f\"{column.title()}:\", ln=0)\n",
    "\n",
    "            pdf.set_font(family=\"Arial\", size=16)\n",
    "            pdf.cell(w=150, h=25, txt=row[column], ln=1)\n",
    "\n",
    "    pdf.output(f\"{animal_name}.pdf\")"
   ]
  },
  {
   "cell_type": "markdown",
   "id": "71e5aeb4-ebad-45c4-88ec-d6b495716ba7",
   "metadata": {},
   "source": [
    "# Step by step"
   ]
  },
  {
   "cell_type": "code",
   "execution_count": 2,
   "id": "bd3ce992-3236-4ff6-a371-70ed274953d1",
   "metadata": {},
   "outputs": [],
   "source": [
    "from fpdf import FPDF\n",
    "import pandas as pd"
   ]
  },
  {
   "cell_type": "code",
   "execution_count": 4,
   "id": "3157e320-9d4c-41ff-b7f6-545270c89bb0",
   "metadata": {},
   "outputs": [],
   "source": [
    "df = pd.read_excel(\"data.xlsx\")"
   ]
  },
  {
   "cell_type": "code",
   "execution_count": 26,
   "id": "e98a2173-d99b-4a83-8a41-3ed367f77257",
   "metadata": {},
   "outputs": [
    {
     "name": "stdout",
     "output_type": "stream",
     "text": [
      "0\n",
      "name        Malayan Tiger\n",
      "kingdom          Animalia\n",
      "phylum           Chordata\n",
      "class            Mammalia\n",
      "order           Carnivora\n",
      "suborder       Feliformia\n",
      "Name: 0, dtype: object\n",
      "1\n",
      "name        American Black Bear\n",
      "kingdom                Animalia\n",
      "phylum                 Chordata\n",
      "class                  Mammalia\n",
      "order                 Carnivora\n",
      "suborder                Ursidae\n",
      "Name: 1, dtype: object\n",
      "2\n",
      "name          Bumblebee\n",
      "kingdom        Animalia\n",
      "phylum       Arthropoda\n",
      "class           Insecta\n",
      "order       Hymenopetra\n",
      "suborder         Apidae\n",
      "Name: 2, dtype: object\n"
     ]
    }
   ],
   "source": [
    "for index, row in df.iterrows():\n",
    "    print(index)\n",
    "    print(row)"
   ]
  },
  {
   "cell_type": "code",
   "execution_count": 30,
   "id": "980a0638-45ea-4673-a4a6-090c4abeeec9",
   "metadata": {},
   "outputs": [
    {
     "name": "stdout",
     "output_type": "stream",
     "text": [
      "name\n",
      "kingdom\n",
      "phylum\n",
      "class\n",
      "order\n",
      "suborder\n"
     ]
    }
   ],
   "source": [
    "for column in df.columns:\n",
    "    print(column)"
   ]
  },
  {
   "cell_type": "code",
   "execution_count": 7,
   "id": "d0bce99e-3806-4197-b9e2-b8d512a1af63",
   "metadata": {},
   "outputs": [],
   "source": [
    "pdf = FPDF(orientation=\"P\", unit=\"pt\", format=\"A4\")"
   ]
  },
  {
   "cell_type": "code",
   "execution_count": 8,
   "id": "55526368-35a7-4d57-8844-c048a9398df2",
   "metadata": {},
   "outputs": [],
   "source": [
    "pdf.add_page()"
   ]
  },
  {
   "cell_type": "code",
   "execution_count": 34,
   "id": "52a0fc28-3ab8-41b6-97a2-800a87b111e8",
   "metadata": {},
   "outputs": [],
   "source": [
    "for index, row in df.iterrows():   \n",
    "    pdf = FPDF(orientation=\"P\", unit=\"pt\", format=\"A4\")\n",
    "    pdf.add_page()\n",
    "    \n",
    "    for column in df.columns:\n",
    "\n",
    "        if column == \"name\":            \n",
    "            animal_name = row[column]\n",
    "            pdf.set_font(family=\"Arial\", style=\"B\", size=24)\n",
    "            pdf.cell(w=0, h=50, txt=animal_name, ln=1, align=\"C\")\n",
    "\n",
    "        else:       \n",
    "            pdf.set_font(family=\"Arial\", style=\"B\", size=16)\n",
    "            pdf.cell(w=150, h=25, txt=f\"{column.title()}:\", ln=0)\n",
    "\n",
    "            pdf.set_font(family=\"Arial\", size=16)\n",
    "            pdf.cell(w=150, h=25, txt=row[column], ln=1)\n",
    "\n",
    "    pdf.output(f\"{animal_name}.pdf\")"
   ]
  },
  {
   "cell_type": "code",
   "execution_count": null,
   "id": "084f32e6-7b9a-4f76-9d00-deaba013e147",
   "metadata": {},
   "outputs": [],
   "source": []
  }
 ],
 "metadata": {
  "kernelspec": {
   "display_name": "Python 3 (ipykernel)",
   "language": "python",
   "name": "python3"
  },
  "language_info": {
   "codemirror_mode": {
    "name": "ipython",
    "version": 3
   },
   "file_extension": ".py",
   "mimetype": "text/x-python",
   "name": "python",
   "nbconvert_exporter": "python",
   "pygments_lexer": "ipython3",
   "version": "3.9.16"
  }
 },
 "nbformat": 4,
 "nbformat_minor": 5
}
