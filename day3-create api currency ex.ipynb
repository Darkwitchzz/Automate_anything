{
 "cells": [
  {
   "cell_type": "code",
   "execution_count": null,
   "id": "2959672e-9e4c-486d-bf76-c8f0fd0d3cc3",
   "metadata": {},
   "outputs": [
    {
     "name": "stdout",
     "output_type": "stream",
     "text": [
      " * Serving Flask app '__main__'\n",
      " * Debug mode: on\n"
     ]
    },
    {
     "name": "stderr",
     "output_type": "stream",
     "text": [
      "WARNING: This is a development server. Do not use it in a production deployment. Use a production WSGI server instead.\n",
      " * Running on http://127.0.0.1:5000\n",
      "Press CTRL+C to quit\n",
      "127.0.0.1 - - [15/Jun/2025 12:40:07] \"GET / HTTP/1.1\" 200 -\n",
      "127.0.0.1 - - [15/Jun/2025 12:40:07] \"GET /favicon.ico HTTP/1.1\" 404 -\n",
      "127.0.0.1 - - [15/Jun/2025 12:40:28] \"GET /api/v1/usd-thb HTTP/1.1\" 200 -\n"
     ]
    }
   ],
   "source": [
    "from flask import Flask, jsonify\n",
    "import requests\n",
    "from bs4 import BeautifulSoup\n",
    "\n",
    "app = Flask(__name__)\n",
    "\n",
    "@app.route(\"/\")\n",
    "def home():\n",
    "    return \"<h1>Currency Rate API</h1> <p>example url : /api/v1/usd-thb</p>\"\n",
    "\n",
    "@app.route(\"/api/v1/<input_currency>-<output_currency>\")\n",
    "def api(input_currency, output_currency):\n",
    "    rate = get_currency(input_currency, output_currency)\n",
    "    json = {\n",
    "        \"input_currency\": input_currency,\n",
    "        \"output_currency\": output_currency,\n",
    "        \"rate\": rate\n",
    "        }\n",
    "    return jsonify(json)\n",
    "    \n",
    "def get_currency(from_currency, to_currency):\n",
    "\n",
    "    url = f\"https://www.x-rates.com/calculator/?from={from_currency}&to={to_currency}&amount=1\"\n",
    "    \n",
    "    response = requests.get(url)\n",
    "    \n",
    "    soup = BeautifulSoup(response.text, \"html.parser\")\n",
    "    \n",
    "    # rate = soup.find_all(name=\"span\", class_=\"ccOutputRslt\")[0].text\n",
    "    rate = float(soup.find(name=\"span\", class_=\"ccOutputRslt\").get_text().split()[0])\n",
    "\n",
    "    return rate\n",
    "    \n",
    "app.run(debug=True, use_reloader=False)"
   ]
  },
  {
   "cell_type": "code",
   "execution_count": 7,
   "id": "766bf20c-38f0-414c-bcb7-472b852c0d9e",
   "metadata": {},
   "outputs": [],
   "source": [
    "app = Flask(__name__)"
   ]
  },
  {
   "cell_type": "code",
   "execution_count": 8,
   "id": "eb753a89-0f0e-4eeb-809f-ea7ffa631939",
   "metadata": {},
   "outputs": [],
   "source": [
    "@app.route(\"/\")\n",
    "def home():\n",
    "    return \"<h1>Hello world!!</h1>\""
   ]
  },
  {
   "cell_type": "code",
   "execution_count": 10,
   "id": "f0188aac-bcd5-40dd-8b7a-f70f299f4293",
   "metadata": {},
   "outputs": [
    {
     "name": "stdout",
     "output_type": "stream",
     "text": [
      " * Serving Flask app '__main__'\n",
      " * Debug mode: on\n"
     ]
    },
    {
     "name": "stderr",
     "output_type": "stream",
     "text": [
      "WARNING: This is a development server. Do not use it in a production deployment. Use a production WSGI server instead.\n",
      " * Running on http://127.0.0.1:5000\n",
      "Press CTRL+C to quit\n",
      " * Restarting with stat\n"
     ]
    },
    {
     "ename": "SystemExit",
     "evalue": "1",
     "output_type": "error",
     "traceback": [
      "An exception has occurred, use %tb to see the full traceback.\n",
      "\u001b[1;31mSystemExit\u001b[0m\u001b[1;31m:\u001b[0m 1\n"
     ]
    }
   ],
   "source": [
    "app.run()"
   ]
  },
  {
   "cell_type": "code",
   "execution_count": null,
   "id": "692feede-85d8-4f8c-8259-71cf9cb79e78",
   "metadata": {},
   "outputs": [],
   "source": []
  }
 ],
 "metadata": {
  "kernelspec": {
   "display_name": "Python 3 (ipykernel)",
   "language": "python",
   "name": "python3"
  },
  "language_info": {
   "codemirror_mode": {
    "name": "ipython",
    "version": 3
   },
   "file_extension": ".py",
   "mimetype": "text/x-python",
   "name": "python",
   "nbconvert_exporter": "python",
   "pygments_lexer": "ipython3",
   "version": "3.9.16"
  }
 },
 "nbformat": 4,
 "nbformat_minor": 5
}
