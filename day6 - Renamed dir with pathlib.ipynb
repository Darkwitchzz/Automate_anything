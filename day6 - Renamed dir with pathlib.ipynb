{
 "cells": [
  {
   "cell_type": "code",
   "execution_count": 49,
   "id": "0c3a92b6-e4f5-4ba1-aa7e-eb21551d1c1a",
   "metadata": {},
   "outputs": [],
   "source": [
    "from pathlib import Path\n",
    "file_paths = Path(r\"C:\\Users\\Athitawat\\Automate_Everything\")\n",
    "\n",
    "# Filter only folder_path \n",
    "path_list = [paths for paths in file_paths.glob(\"*\") if paths.is_dir() and not paths.name.startswith(\".\")]\n",
    "\n",
    "# Locate to folder that stored file\n",
    "for path in path_list:\n",
    "\n",
    "    # Filter only text file\n",
    "    for dir_path in path.glob(\"*.txt\"):\n",
    "        new_name = path.stem + \"-\" + dir_path.name\n",
    "        new_path = dir_path.with_name(new_name)\n",
    "        dir_path.rename(new_path)"
   ]
  },
  {
   "cell_type": "markdown",
   "id": "31b15a71-3fe4-4e7f-9c3d-2de65dc455c8",
   "metadata": {},
   "source": [
    "# Steo by step"
   ]
  },
  {
   "cell_type": "code",
   "execution_count": 1,
   "id": "45182351-25c9-4390-9623-7894ad275886",
   "metadata": {},
   "outputs": [],
   "source": [
    "from pathlib import Path"
   ]
  },
  {
   "cell_type": "code",
   "execution_count": 2,
   "id": "84c2d396-de76-451d-922d-dd421325a950",
   "metadata": {},
   "outputs": [],
   "source": [
    "file_paths = Path(r\"C:\\Users\\Athitawat\\Automate_Everything\")"
   ]
  },
  {
   "cell_type": "code",
   "execution_count": 6,
   "id": "7938b18b-0761-40a9-92cf-250870623d38",
   "metadata": {},
   "outputs": [
    {
     "data": {
      "text/plain": [
       "WindowsPath('C:/Users/Athitawat/Automate_Everything')"
      ]
     },
     "execution_count": 6,
     "metadata": {},
     "output_type": "execute_result"
    }
   ],
   "source": [
    "file_paths"
   ]
  },
  {
   "cell_type": "code",
   "execution_count": 7,
   "id": "d0c39598-c573-4e3e-b5eb-f1a74b30a34b",
   "metadata": {},
   "outputs": [],
   "source": [
    "path_list = [paths for paths in file_paths.glob(\"*\") if paths.is_dir() and not paths.name.startswith(\".\") and not paths.name.startswith(\"day\")]"
   ]
  },
  {
   "cell_type": "code",
   "execution_count": 8,
   "id": "c85ed5f5-0f7b-439e-8b23-55fd21afb57e",
   "metadata": {},
   "outputs": [
    {
     "data": {
      "text/plain": [
       "[WindowsPath('C:/Users/Athitawat/Automate_Everything/December'),\n",
       " WindowsPath('C:/Users/Athitawat/Automate_Everything/Noverber')]"
      ]
     },
     "execution_count": 8,
     "metadata": {},
     "output_type": "execute_result"
    }
   ],
   "source": [
    "path_list"
   ]
  },
  {
   "cell_type": "code",
   "execution_count": 46,
   "id": "16c14b1f-d631-4278-9d94-e905b71b11b0",
   "metadata": {},
   "outputs": [
    {
     "data": {
      "text/plain": [
       "[WindowsPath('C:/Users/Athitawat/Automate_Everything/December'),\n",
       " WindowsPath('C:/Users/Athitawat/Automate_Everything/Noverber')]"
      ]
     },
     "execution_count": 46,
     "metadata": {},
     "output_type": "execute_result"
    }
   ],
   "source": [
    "path_list"
   ]
  },
  {
   "cell_type": "code",
   "execution_count": 53,
   "id": "47bf0fb8-4889-4f70-97d7-b427efacf158",
   "metadata": {},
   "outputs": [
    {
     "name": "stdout",
     "output_type": "stream",
     "text": [
      "C:\\Users\\Athitawat\\Automate_Everything\\December\n",
      "('C:\\\\', 'Users', 'Athitawat', 'Automate_Everything', 'December')\n",
      "December\n",
      "December\n",
      "C:\\Users\\Athitawat\\Automate_Everything\\Noverber\n",
      "('C:\\\\', 'Users', 'Athitawat', 'Automate_Everything', 'Noverber')\n",
      "Noverber\n",
      "Noverber\n"
     ]
    }
   ],
   "source": [
    "for path in path_list:\n",
    "    print(path)\n",
    "    print(path.parts)\n",
    "    print(path.name)\n",
    "    print(path.stem)"
   ]
  },
  {
   "cell_type": "code",
   "execution_count": 54,
   "id": "7a15a96b-af14-4fea-9622-3bfa6435149e",
   "metadata": {},
   "outputs": [
    {
     "name": "stdout",
     "output_type": "stream",
     "text": [
      "December-December-ghi.txt\n",
      "December-December-jkl.txt\n",
      "Noverber-Noverber-abc.txt\n",
      "Noverber-Noverber-def.txt\n"
     ]
    }
   ],
   "source": [
    "for path in path_list:\n",
    "    for dir_path in path.glob(\"*.txt\"):\n",
    "        new_name = path.stem + \"-\" + dir_path.name\n",
    "        print(new_name)"
   ]
  },
  {
   "cell_type": "code",
   "execution_count": 29,
   "id": "ceb916eb-ae86-4f04-91a6-c9fd8791a238",
   "metadata": {},
   "outputs": [
    {
     "name": "stdout",
     "output_type": "stream",
     "text": [
      "C:\\Users\\Athitawat\\Automate_Everything\\.git\n",
      "C:\\Users\\Athitawat\\Automate_Everything\\.ipynb_checkpoints\n",
      "C:\\Users\\Athitawat\\Automate_Everything\\data.txt\n",
      "C:\\Users\\Athitawat\\Automate_Everything\\day1-currency rate bs4.ipynb\n",
      "C:\\Users\\Athitawat\\Automate_Everything\\day2 - newapis.ipynb\n",
      "C:\\Users\\Athitawat\\Automate_Everything\\day2 - weather forecast.ipynb\n",
      "C:\\Users\\Athitawat\\Automate_Everything\\day3-create api currency ex.ipynb\n",
      "C:\\Users\\Athitawat\\Automate_Everything\\day4 - Graph api facebook api.ipynb\n",
      "C:\\Users\\Athitawat\\Automate_Everything\\day5 - spelling_check langtool api.ipynb\n",
      "C:\\Users\\Athitawat\\Automate_Everything\\day6 - Renamed dir with pathlib.ipynb\n",
      "C:\\Users\\Athitawat\\Automate_Everything\\December\n",
      "C:\\Users\\Athitawat\\Automate_Everything\\image.jpg\n",
      "C:\\Users\\Athitawat\\Automate_Everything\\Noverber\n"
     ]
    }
   ],
   "source": [
    "for paths in file_paths.glob(\"*\"):\n",
    "    print(paths)"
   ]
  },
  {
   "cell_type": "code",
   "execution_count": 30,
   "id": "cd15a366-83a5-4297-b02e-45cda97a2ad5",
   "metadata": {},
   "outputs": [
    {
     "name": "stdout",
     "output_type": "stream",
     "text": [
      "C:\\Users\\Athitawat\\Automate_Everything\\.git\n",
      "C:\\Users\\Athitawat\\Automate_Everything\\.ipynb_checkpoints\n",
      "C:\\Users\\Athitawat\\Automate_Everything\\data.txt\n",
      "C:\\Users\\Athitawat\\Automate_Everything\\day1-currency rate bs4.ipynb\n",
      "C:\\Users\\Athitawat\\Automate_Everything\\day2 - newapis.ipynb\n",
      "C:\\Users\\Athitawat\\Automate_Everything\\day2 - weather forecast.ipynb\n",
      "C:\\Users\\Athitawat\\Automate_Everything\\day3-create api currency ex.ipynb\n",
      "C:\\Users\\Athitawat\\Automate_Everything\\day4 - Graph api facebook api.ipynb\n",
      "C:\\Users\\Athitawat\\Automate_Everything\\day5 - spelling_check langtool api.ipynb\n",
      "C:\\Users\\Athitawat\\Automate_Everything\\day6 - Renamed dir with pathlib.ipynb\n",
      "C:\\Users\\Athitawat\\Automate_Everything\\December\n",
      "C:\\Users\\Athitawat\\Automate_Everything\\image.jpg\n",
      "C:\\Users\\Athitawat\\Automate_Everything\\Noverber\n",
      "C:\\Users\\Athitawat\\Automate_Everything\\.git\\COMMIT_EDITMSG\n",
      "C:\\Users\\Athitawat\\Automate_Everything\\.git\\config\n",
      "C:\\Users\\Athitawat\\Automate_Everything\\.git\\description\n",
      "C:\\Users\\Athitawat\\Automate_Everything\\.git\\FETCH_HEAD\n",
      "C:\\Users\\Athitawat\\Automate_Everything\\.git\\HEAD\n",
      "C:\\Users\\Athitawat\\Automate_Everything\\.git\\hooks\n",
      "C:\\Users\\Athitawat\\Automate_Everything\\.git\\index\n",
      "C:\\Users\\Athitawat\\Automate_Everything\\.git\\info\n",
      "C:\\Users\\Athitawat\\Automate_Everything\\.git\\logs\n",
      "C:\\Users\\Athitawat\\Automate_Everything\\.git\\objects\n",
      "C:\\Users\\Athitawat\\Automate_Everything\\.git\\ORIG_HEAD\n",
      "C:\\Users\\Athitawat\\Automate_Everything\\.git\\packed-refs\n",
      "C:\\Users\\Athitawat\\Automate_Everything\\.git\\refs\n",
      "C:\\Users\\Athitawat\\Automate_Everything\\.git\\hooks\\applypatch-msg.sample\n",
      "C:\\Users\\Athitawat\\Automate_Everything\\.git\\hooks\\commit-msg.sample\n",
      "C:\\Users\\Athitawat\\Automate_Everything\\.git\\hooks\\fsmonitor-watchman.sample\n",
      "C:\\Users\\Athitawat\\Automate_Everything\\.git\\hooks\\post-update.sample\n",
      "C:\\Users\\Athitawat\\Automate_Everything\\.git\\hooks\\pre-applypatch.sample\n",
      "C:\\Users\\Athitawat\\Automate_Everything\\.git\\hooks\\pre-commit.sample\n",
      "C:\\Users\\Athitawat\\Automate_Everything\\.git\\hooks\\pre-merge-commit.sample\n",
      "C:\\Users\\Athitawat\\Automate_Everything\\.git\\hooks\\pre-push.sample\n",
      "C:\\Users\\Athitawat\\Automate_Everything\\.git\\hooks\\pre-rebase.sample\n",
      "C:\\Users\\Athitawat\\Automate_Everything\\.git\\hooks\\pre-receive.sample\n",
      "C:\\Users\\Athitawat\\Automate_Everything\\.git\\hooks\\prepare-commit-msg.sample\n",
      "C:\\Users\\Athitawat\\Automate_Everything\\.git\\hooks\\push-to-checkout.sample\n",
      "C:\\Users\\Athitawat\\Automate_Everything\\.git\\hooks\\sendemail-validate.sample\n",
      "C:\\Users\\Athitawat\\Automate_Everything\\.git\\hooks\\update.sample\n",
      "C:\\Users\\Athitawat\\Automate_Everything\\.git\\info\\exclude\n",
      "C:\\Users\\Athitawat\\Automate_Everything\\.git\\logs\\HEAD\n",
      "C:\\Users\\Athitawat\\Automate_Everything\\.git\\logs\\refs\n",
      "C:\\Users\\Athitawat\\Automate_Everything\\.git\\logs\\refs\\heads\n",
      "C:\\Users\\Athitawat\\Automate_Everything\\.git\\logs\\refs\\remotes\n",
      "C:\\Users\\Athitawat\\Automate_Everything\\.git\\logs\\refs\\heads\\master\n",
      "C:\\Users\\Athitawat\\Automate_Everything\\.git\\logs\\refs\\remotes\\Automate_anything\n",
      "C:\\Users\\Athitawat\\Automate_Everything\\.git\\logs\\refs\\remotes\\Automate_anything\\master\n",
      "C:\\Users\\Athitawat\\Automate_Everything\\.git\\objects\\12\n",
      "C:\\Users\\Athitawat\\Automate_Everything\\.git\\objects\\16\n",
      "C:\\Users\\Athitawat\\Automate_Everything\\.git\\objects\\1d\n",
      "C:\\Users\\Athitawat\\Automate_Everything\\.git\\objects\\1f\n",
      "C:\\Users\\Athitawat\\Automate_Everything\\.git\\objects\\26\n",
      "C:\\Users\\Athitawat\\Automate_Everything\\.git\\objects\\27\n",
      "C:\\Users\\Athitawat\\Automate_Everything\\.git\\objects\\30\n",
      "C:\\Users\\Athitawat\\Automate_Everything\\.git\\objects\\32\n",
      "C:\\Users\\Athitawat\\Automate_Everything\\.git\\objects\\36\n",
      "C:\\Users\\Athitawat\\Automate_Everything\\.git\\objects\\44\n",
      "C:\\Users\\Athitawat\\Automate_Everything\\.git\\objects\\49\n",
      "C:\\Users\\Athitawat\\Automate_Everything\\.git\\objects\\4b\n",
      "C:\\Users\\Athitawat\\Automate_Everything\\.git\\objects\\4c\n",
      "C:\\Users\\Athitawat\\Automate_Everything\\.git\\objects\\56\n",
      "C:\\Users\\Athitawat\\Automate_Everything\\.git\\objects\\58\n",
      "C:\\Users\\Athitawat\\Automate_Everything\\.git\\objects\\63\n",
      "C:\\Users\\Athitawat\\Automate_Everything\\.git\\objects\\69\n",
      "C:\\Users\\Athitawat\\Automate_Everything\\.git\\objects\\6b\n",
      "C:\\Users\\Athitawat\\Automate_Everything\\.git\\objects\\70\n",
      "C:\\Users\\Athitawat\\Automate_Everything\\.git\\objects\\76\n",
      "C:\\Users\\Athitawat\\Automate_Everything\\.git\\objects\\77\n",
      "C:\\Users\\Athitawat\\Automate_Everything\\.git\\objects\\7a\n",
      "C:\\Users\\Athitawat\\Automate_Everything\\.git\\objects\\86\n",
      "C:\\Users\\Athitawat\\Automate_Everything\\.git\\objects\\89\n",
      "C:\\Users\\Athitawat\\Automate_Everything\\.git\\objects\\90\n",
      "C:\\Users\\Athitawat\\Automate_Everything\\.git\\objects\\91\n",
      "C:\\Users\\Athitawat\\Automate_Everything\\.git\\objects\\95\n",
      "C:\\Users\\Athitawat\\Automate_Everything\\.git\\objects\\9f\n",
      "C:\\Users\\Athitawat\\Automate_Everything\\.git\\objects\\a9\n",
      "C:\\Users\\Athitawat\\Automate_Everything\\.git\\objects\\b0\n",
      "C:\\Users\\Athitawat\\Automate_Everything\\.git\\objects\\b3\n",
      "C:\\Users\\Athitawat\\Automate_Everything\\.git\\objects\\b6\n",
      "C:\\Users\\Athitawat\\Automate_Everything\\.git\\objects\\bd\n",
      "C:\\Users\\Athitawat\\Automate_Everything\\.git\\objects\\c0\n",
      "C:\\Users\\Athitawat\\Automate_Everything\\.git\\objects\\c4\n",
      "C:\\Users\\Athitawat\\Automate_Everything\\.git\\objects\\cc\n",
      "C:\\Users\\Athitawat\\Automate_Everything\\.git\\objects\\cf\n",
      "C:\\Users\\Athitawat\\Automate_Everything\\.git\\objects\\d9\n",
      "C:\\Users\\Athitawat\\Automate_Everything\\.git\\objects\\ea\n",
      "C:\\Users\\Athitawat\\Automate_Everything\\.git\\objects\\ec\n",
      "C:\\Users\\Athitawat\\Automate_Everything\\.git\\objects\\f1\n",
      "C:\\Users\\Athitawat\\Automate_Everything\\.git\\objects\\f2\n",
      "C:\\Users\\Athitawat\\Automate_Everything\\.git\\objects\\f7\n",
      "C:\\Users\\Athitawat\\Automate_Everything\\.git\\objects\\f8\n",
      "C:\\Users\\Athitawat\\Automate_Everything\\.git\\objects\\fb\n",
      "C:\\Users\\Athitawat\\Automate_Everything\\.git\\objects\\info\n",
      "C:\\Users\\Athitawat\\Automate_Everything\\.git\\objects\\pack\n",
      "C:\\Users\\Athitawat\\Automate_Everything\\.git\\objects\\12\\8dc5d48f14d3f9cadda4761203d18c6c97a25e\n",
      "C:\\Users\\Athitawat\\Automate_Everything\\.git\\objects\\16\\96f4c2cf4ed3118a3d758641c56e3840b00a9a\n",
      "C:\\Users\\Athitawat\\Automate_Everything\\.git\\objects\\1d\\a4472992ba54e983923ba449b8c01a3d8360ef\n",
      "C:\\Users\\Athitawat\\Automate_Everything\\.git\\objects\\1f\\b5605839ccf34f95beb825f23a72a48828f579\n",
      "C:\\Users\\Athitawat\\Automate_Everything\\.git\\objects\\26\\a810f929abd4443b667093b7fa05d1cdd9e217\n",
      "C:\\Users\\Athitawat\\Automate_Everything\\.git\\objects\\27\\090b0b668463c4ee7408d3122d1afee3799f1d\n",
      "C:\\Users\\Athitawat\\Automate_Everything\\.git\\objects\\30\\bdb5e16cd50dbf61d14014f563be3bc7c337eb\n",
      "C:\\Users\\Athitawat\\Automate_Everything\\.git\\objects\\32\\77d63ef9065898d8a6bf45ad2170ed3754f2a6\n",
      "C:\\Users\\Athitawat\\Automate_Everything\\.git\\objects\\36\\3fcab7ed6e9634e198cf5555ceb88932c9a245\n",
      "C:\\Users\\Athitawat\\Automate_Everything\\.git\\objects\\44\\031feeeb89c94841b6678f392c269e328b5d7d\n",
      "C:\\Users\\Athitawat\\Automate_Everything\\.git\\objects\\49\\a612e2a67105148c4a98a8905e9eeeab0dce76\n",
      "C:\\Users\\Athitawat\\Automate_Everything\\.git\\objects\\4b\\825dc642cb6eb9a060e54bf8d69288fbee4904\n",
      "C:\\Users\\Athitawat\\Automate_Everything\\.git\\objects\\4c\\52a93cf0f7a287df6c3c244ca765a0e2010a51\n",
      "C:\\Users\\Athitawat\\Automate_Everything\\.git\\objects\\56\\62dd3aa086c338ccabdb9f6e015f592952042f\n",
      "C:\\Users\\Athitawat\\Automate_Everything\\.git\\objects\\58\\283211b7ed6bfe7ca6375fa785d2fd6ddaa055\n",
      "C:\\Users\\Athitawat\\Automate_Everything\\.git\\objects\\63\\bd5b8652512e94c9e208e67278ad55522b0073\n",
      "C:\\Users\\Athitawat\\Automate_Everything\\.git\\objects\\69\\80c7606260e41399a90e5005b247dda3374fb5\n",
      "C:\\Users\\Athitawat\\Automate_Everything\\.git\\objects\\6b\\b9066cad1319a568051640d7aa965afc9cb18a\n",
      "C:\\Users\\Athitawat\\Automate_Everything\\.git\\objects\\70\\952f058f464748bf0f6bb55c50808ea45220db\n",
      "C:\\Users\\Athitawat\\Automate_Everything\\.git\\objects\\76\\167780ad86c0d1ca617b901be2a8fbf0b9cd78\n",
      "C:\\Users\\Athitawat\\Automate_Everything\\.git\\objects\\77\\761166ee134dcfbab0d7eb2c407d21fefc784d\n",
      "C:\\Users\\Athitawat\\Automate_Everything\\.git\\objects\\7a\\91fd09c9b6b813137a0cbef43b28e09a681029\n",
      "C:\\Users\\Athitawat\\Automate_Everything\\.git\\objects\\86\\2d8b54cd9dd3f31133c32bf41a254537adf8dd\n",
      "C:\\Users\\Athitawat\\Automate_Everything\\.git\\objects\\89\\5eb7760d491b05f031e14e422c7529a02754be\n",
      "C:\\Users\\Athitawat\\Automate_Everything\\.git\\objects\\90\\dcb3a385e8c85fdfa45847e5f99b46c106811f\n",
      "C:\\Users\\Athitawat\\Automate_Everything\\.git\\objects\\91\\f8413453a6fc4cbf50dbeb23a855c6de261f7b\n",
      "C:\\Users\\Athitawat\\Automate_Everything\\.git\\objects\\95\\03545c86dbab1693e4a0a8b2866ecfc4dcee1e\n",
      "C:\\Users\\Athitawat\\Automate_Everything\\.git\\objects\\9f\\e2a3987ecfd6ad68cbf228066dbc40e40f4c5d\n",
      "C:\\Users\\Athitawat\\Automate_Everything\\.git\\objects\\a9\\d11614999ecef36454738d286fe5de58cbafd6\n",
      "C:\\Users\\Athitawat\\Automate_Everything\\.git\\objects\\b0\\8a1edd44b18c09e7bb3f47868a4b967b23d54c\n",
      "C:\\Users\\Athitawat\\Automate_Everything\\.git\\objects\\b3\\1f9111f680d2bad555c0ecbde07bb0381ed59a\n",
      "C:\\Users\\Athitawat\\Automate_Everything\\.git\\objects\\b6\\9e4eef5955fb7f1e4588a188d82a325b8332f1\n",
      "C:\\Users\\Athitawat\\Automate_Everything\\.git\\objects\\b6\\d56daae124851717ea2063e719b5376afe8d2a\n",
      "C:\\Users\\Athitawat\\Automate_Everything\\.git\\objects\\bd\\50f5ae11cfbd79f97cb2a13d545eea6bf2da21\n",
      "C:\\Users\\Athitawat\\Automate_Everything\\.git\\objects\\c0\\40cc5038b1d1ae3fde21e4fae13ce40475805a\n",
      "C:\\Users\\Athitawat\\Automate_Everything\\.git\\objects\\c4\\5ed717cc021705c56f84374fc0baa75cf929c4\n",
      "C:\\Users\\Athitawat\\Automate_Everything\\.git\\objects\\cc\\05d5daeb98618fdbee125e694bb5276f448c04\n",
      "C:\\Users\\Athitawat\\Automate_Everything\\.git\\objects\\cf\\e529bed42a7ada8d7ff765ccd0dfe99bd7ad47\n",
      "C:\\Users\\Athitawat\\Automate_Everything\\.git\\objects\\d9\\3f90f168899a3f298c7c09fcf9cbc9e3b13187\n",
      "C:\\Users\\Athitawat\\Automate_Everything\\.git\\objects\\ea\\1038c0497c9ac6018a63ef7a73361072d10d10\n",
      "C:\\Users\\Athitawat\\Automate_Everything\\.git\\objects\\ec\\c3e319d66497db54ffd83288fb11b835ec761d\n",
      "C:\\Users\\Athitawat\\Automate_Everything\\.git\\objects\\f1\\e2a09c02a931af5f9cd0a2932b3f7cc2e23079\n",
      "C:\\Users\\Athitawat\\Automate_Everything\\.git\\objects\\f2\\cca807b022b5020b12e1b7f164f7b3c43136fa\n",
      "C:\\Users\\Athitawat\\Automate_Everything\\.git\\objects\\f7\\0ca5f0403881177fd30dcb8b825e729c2f3256\n",
      "C:\\Users\\Athitawat\\Automate_Everything\\.git\\objects\\f8\\81e586d9f46673b453a28172a5d7936f55571e\n",
      "C:\\Users\\Athitawat\\Automate_Everything\\.git\\objects\\fb\\3495374142cf7be0110e0e3eb28c669238af1c\n",
      "C:\\Users\\Athitawat\\Automate_Everything\\.git\\refs\\heads\n",
      "C:\\Users\\Athitawat\\Automate_Everything\\.git\\refs\\remotes\n",
      "C:\\Users\\Athitawat\\Automate_Everything\\.git\\refs\\tags\n",
      "C:\\Users\\Athitawat\\Automate_Everything\\.git\\refs\\heads\\master\n",
      "C:\\Users\\Athitawat\\Automate_Everything\\.git\\refs\\remotes\\Automate_anything\n",
      "C:\\Users\\Athitawat\\Automate_Everything\\.git\\refs\\remotes\\Automate_anything\\master\n",
      "C:\\Users\\Athitawat\\Automate_Everything\\.ipynb_checkpoints\\data-checkpoint.txt\n",
      "C:\\Users\\Athitawat\\Automate_Everything\\.ipynb_checkpoints\\day1-currency rate bs4-checkpoint.ipynb\n",
      "C:\\Users\\Athitawat\\Automate_Everything\\.ipynb_checkpoints\\day2 - newapis-checkpoint.ipynb\n",
      "C:\\Users\\Athitawat\\Automate_Everything\\.ipynb_checkpoints\\day2 - weather forecast-checkpoint.ipynb\n",
      "C:\\Users\\Athitawat\\Automate_Everything\\.ipynb_checkpoints\\day3-create api currency ex-checkpoint.ipynb\n",
      "C:\\Users\\Athitawat\\Automate_Everything\\.ipynb_checkpoints\\day4 - Graph api facebook api-checkpoint.ipynb\n",
      "C:\\Users\\Athitawat\\Automate_Everything\\.ipynb_checkpoints\\day5 - spelling_check langtool api-checkpoint.ipynb\n",
      "C:\\Users\\Athitawat\\Automate_Everything\\.ipynb_checkpoints\\day6 - Renamed dir with pathlib-checkpoint.ipynb\n",
      "C:\\Users\\Athitawat\\Automate_Everything\\.ipynb_checkpoints\\fu-checkpoint.ipynb\n",
      "C:\\Users\\Athitawat\\Automate_Everything\\.ipynb_checkpoints\\image-checkpoint.jpg\n",
      "C:\\Users\\Athitawat\\Automate_Everything\\December\\.ipynb_checkpoints\n",
      "C:\\Users\\Athitawat\\Automate_Everything\\December\\December-ghi.txt\n",
      "C:\\Users\\Athitawat\\Automate_Everything\\December\\December-jkl.txt\n",
      "C:\\Users\\Athitawat\\Automate_Everything\\Noverber\\.ipynb_checkpoints\n",
      "C:\\Users\\Athitawat\\Automate_Everything\\Noverber\\Noverber-abc.txt\n",
      "C:\\Users\\Athitawat\\Automate_Everything\\Noverber\\Noverber-def.txt\n"
     ]
    }
   ],
   "source": [
    "for paths in file_paths.glob(\"**/*\"):\n",
    "    print(paths)"
   ]
  },
  {
   "cell_type": "code",
   "execution_count": 40,
   "id": "7c856199-eca6-4079-847e-353fdd142aa7",
   "metadata": {},
   "outputs": [
    {
     "name": "stdout",
     "output_type": "stream",
     "text": [
      "C:\\Users\\Athitawat\\Automate_Everything\\December\n",
      "C:\\Users\\Athitawat\\Automate_Everything\\Noverber\n",
      "C:\\Users\\Athitawat\\Automate_Everything\\.git\\hooks\n",
      "C:\\Users\\Athitawat\\Automate_Everything\\.git\\info\n",
      "C:\\Users\\Athitawat\\Automate_Everything\\.git\\logs\n",
      "C:\\Users\\Athitawat\\Automate_Everything\\.git\\objects\n",
      "C:\\Users\\Athitawat\\Automate_Everything\\.git\\refs\n",
      "C:\\Users\\Athitawat\\Automate_Everything\\.git\\logs\\refs\n",
      "C:\\Users\\Athitawat\\Automate_Everything\\.git\\logs\\refs\\heads\n",
      "C:\\Users\\Athitawat\\Automate_Everything\\.git\\logs\\refs\\remotes\n",
      "C:\\Users\\Athitawat\\Automate_Everything\\.git\\logs\\refs\\remotes\\Automate_anything\n",
      "C:\\Users\\Athitawat\\Automate_Everything\\.git\\objects\\12\n",
      "C:\\Users\\Athitawat\\Automate_Everything\\.git\\objects\\16\n",
      "C:\\Users\\Athitawat\\Automate_Everything\\.git\\objects\\1d\n",
      "C:\\Users\\Athitawat\\Automate_Everything\\.git\\objects\\1f\n",
      "C:\\Users\\Athitawat\\Automate_Everything\\.git\\objects\\26\n",
      "C:\\Users\\Athitawat\\Automate_Everything\\.git\\objects\\27\n",
      "C:\\Users\\Athitawat\\Automate_Everything\\.git\\objects\\30\n",
      "C:\\Users\\Athitawat\\Automate_Everything\\.git\\objects\\32\n",
      "C:\\Users\\Athitawat\\Automate_Everything\\.git\\objects\\36\n",
      "C:\\Users\\Athitawat\\Automate_Everything\\.git\\objects\\44\n",
      "C:\\Users\\Athitawat\\Automate_Everything\\.git\\objects\\49\n",
      "C:\\Users\\Athitawat\\Automate_Everything\\.git\\objects\\4b\n",
      "C:\\Users\\Athitawat\\Automate_Everything\\.git\\objects\\4c\n",
      "C:\\Users\\Athitawat\\Automate_Everything\\.git\\objects\\56\n",
      "C:\\Users\\Athitawat\\Automate_Everything\\.git\\objects\\58\n",
      "C:\\Users\\Athitawat\\Automate_Everything\\.git\\objects\\63\n",
      "C:\\Users\\Athitawat\\Automate_Everything\\.git\\objects\\69\n",
      "C:\\Users\\Athitawat\\Automate_Everything\\.git\\objects\\6b\n",
      "C:\\Users\\Athitawat\\Automate_Everything\\.git\\objects\\70\n",
      "C:\\Users\\Athitawat\\Automate_Everything\\.git\\objects\\76\n",
      "C:\\Users\\Athitawat\\Automate_Everything\\.git\\objects\\77\n",
      "C:\\Users\\Athitawat\\Automate_Everything\\.git\\objects\\7a\n",
      "C:\\Users\\Athitawat\\Automate_Everything\\.git\\objects\\86\n",
      "C:\\Users\\Athitawat\\Automate_Everything\\.git\\objects\\89\n",
      "C:\\Users\\Athitawat\\Automate_Everything\\.git\\objects\\90\n",
      "C:\\Users\\Athitawat\\Automate_Everything\\.git\\objects\\91\n",
      "C:\\Users\\Athitawat\\Automate_Everything\\.git\\objects\\95\n",
      "C:\\Users\\Athitawat\\Automate_Everything\\.git\\objects\\9f\n",
      "C:\\Users\\Athitawat\\Automate_Everything\\.git\\objects\\a9\n",
      "C:\\Users\\Athitawat\\Automate_Everything\\.git\\objects\\b0\n",
      "C:\\Users\\Athitawat\\Automate_Everything\\.git\\objects\\b3\n",
      "C:\\Users\\Athitawat\\Automate_Everything\\.git\\objects\\b6\n",
      "C:\\Users\\Athitawat\\Automate_Everything\\.git\\objects\\bd\n",
      "C:\\Users\\Athitawat\\Automate_Everything\\.git\\objects\\c0\n",
      "C:\\Users\\Athitawat\\Automate_Everything\\.git\\objects\\c4\n",
      "C:\\Users\\Athitawat\\Automate_Everything\\.git\\objects\\cc\n",
      "C:\\Users\\Athitawat\\Automate_Everything\\.git\\objects\\cf\n",
      "C:\\Users\\Athitawat\\Automate_Everything\\.git\\objects\\d9\n",
      "C:\\Users\\Athitawat\\Automate_Everything\\.git\\objects\\ea\n",
      "C:\\Users\\Athitawat\\Automate_Everything\\.git\\objects\\ec\n",
      "C:\\Users\\Athitawat\\Automate_Everything\\.git\\objects\\f1\n",
      "C:\\Users\\Athitawat\\Automate_Everything\\.git\\objects\\f2\n",
      "C:\\Users\\Athitawat\\Automate_Everything\\.git\\objects\\f7\n",
      "C:\\Users\\Athitawat\\Automate_Everything\\.git\\objects\\f8\n",
      "C:\\Users\\Athitawat\\Automate_Everything\\.git\\objects\\fb\n",
      "C:\\Users\\Athitawat\\Automate_Everything\\.git\\objects\\info\n",
      "C:\\Users\\Athitawat\\Automate_Everything\\.git\\objects\\pack\n",
      "C:\\Users\\Athitawat\\Automate_Everything\\.git\\refs\\heads\n",
      "C:\\Users\\Athitawat\\Automate_Everything\\.git\\refs\\remotes\n",
      "C:\\Users\\Athitawat\\Automate_Everything\\.git\\refs\\tags\n",
      "C:\\Users\\Athitawat\\Automate_Everything\\.git\\refs\\remotes\\Automate_anything\n"
     ]
    }
   ],
   "source": [
    "for paths in file_paths.glob(\"**/*\"):\n",
    "    if paths.is_dir() and not paths.name.startswith(\".\"):\n",
    "        print(paths)"
   ]
  },
  {
   "cell_type": "code",
   "execution_count": 33,
   "id": "52d90c67-fe53-4498-b92f-0e12dbf89ff8",
   "metadata": {},
   "outputs": [
    {
     "name": "stdout",
     "output_type": "stream",
     "text": [
      "C:\\Users\\Athitawat\\Automate_Everything\\.git\n",
      "C:\\Users\\Athitawat\\Automate_Everything\\.ipynb_checkpoints\n",
      "C:\\Users\\Athitawat\\Automate_Everything\\data.txt\n",
      "C:\\Users\\Athitawat\\Automate_Everything\\day1-currency rate bs4.ipynb\n",
      "C:\\Users\\Athitawat\\Automate_Everything\\day2 - newapis.ipynb\n",
      "C:\\Users\\Athitawat\\Automate_Everything\\day2 - weather forecast.ipynb\n",
      "C:\\Users\\Athitawat\\Automate_Everything\\day3-create api currency ex.ipynb\n",
      "C:\\Users\\Athitawat\\Automate_Everything\\day4 - Graph api facebook api.ipynb\n",
      "C:\\Users\\Athitawat\\Automate_Everything\\day5 - spelling_check langtool api.ipynb\n",
      "C:\\Users\\Athitawat\\Automate_Everything\\day6 - Renamed dir with pathlib.ipynb\n",
      "C:\\Users\\Athitawat\\Automate_Everything\\December\n",
      "C:\\Users\\Athitawat\\Automate_Everything\\image.jpg\n",
      "C:\\Users\\Athitawat\\Automate_Everything\\Noverber\n",
      "C:\\Users\\Athitawat\\Automate_Everything\\.git\\COMMIT_EDITMSG\n",
      "C:\\Users\\Athitawat\\Automate_Everything\\.git\\config\n",
      "C:\\Users\\Athitawat\\Automate_Everything\\.git\\description\n",
      "C:\\Users\\Athitawat\\Automate_Everything\\.git\\FETCH_HEAD\n",
      "C:\\Users\\Athitawat\\Automate_Everything\\.git\\HEAD\n",
      "C:\\Users\\Athitawat\\Automate_Everything\\.git\\hooks\n",
      "C:\\Users\\Athitawat\\Automate_Everything\\.git\\index\n",
      "C:\\Users\\Athitawat\\Automate_Everything\\.git\\info\n",
      "C:\\Users\\Athitawat\\Automate_Everything\\.git\\logs\n",
      "C:\\Users\\Athitawat\\Automate_Everything\\.git\\objects\n",
      "C:\\Users\\Athitawat\\Automate_Everything\\.git\\ORIG_HEAD\n",
      "C:\\Users\\Athitawat\\Automate_Everything\\.git\\packed-refs\n",
      "C:\\Users\\Athitawat\\Automate_Everything\\.git\\refs\n",
      "C:\\Users\\Athitawat\\Automate_Everything\\.git\\hooks\\applypatch-msg.sample\n",
      "C:\\Users\\Athitawat\\Automate_Everything\\.git\\hooks\\commit-msg.sample\n",
      "C:\\Users\\Athitawat\\Automate_Everything\\.git\\hooks\\fsmonitor-watchman.sample\n",
      "C:\\Users\\Athitawat\\Automate_Everything\\.git\\hooks\\post-update.sample\n",
      "C:\\Users\\Athitawat\\Automate_Everything\\.git\\hooks\\pre-applypatch.sample\n",
      "C:\\Users\\Athitawat\\Automate_Everything\\.git\\hooks\\pre-commit.sample\n",
      "C:\\Users\\Athitawat\\Automate_Everything\\.git\\hooks\\pre-merge-commit.sample\n",
      "C:\\Users\\Athitawat\\Automate_Everything\\.git\\hooks\\pre-push.sample\n",
      "C:\\Users\\Athitawat\\Automate_Everything\\.git\\hooks\\pre-rebase.sample\n",
      "C:\\Users\\Athitawat\\Automate_Everything\\.git\\hooks\\pre-receive.sample\n",
      "C:\\Users\\Athitawat\\Automate_Everything\\.git\\hooks\\prepare-commit-msg.sample\n",
      "C:\\Users\\Athitawat\\Automate_Everything\\.git\\hooks\\push-to-checkout.sample\n",
      "C:\\Users\\Athitawat\\Automate_Everything\\.git\\hooks\\sendemail-validate.sample\n",
      "C:\\Users\\Athitawat\\Automate_Everything\\.git\\hooks\\update.sample\n",
      "C:\\Users\\Athitawat\\Automate_Everything\\.git\\info\\exclude\n",
      "C:\\Users\\Athitawat\\Automate_Everything\\.git\\logs\\HEAD\n",
      "C:\\Users\\Athitawat\\Automate_Everything\\.git\\logs\\refs\n",
      "C:\\Users\\Athitawat\\Automate_Everything\\.git\\logs\\refs\\heads\n",
      "C:\\Users\\Athitawat\\Automate_Everything\\.git\\logs\\refs\\remotes\n",
      "C:\\Users\\Athitawat\\Automate_Everything\\.git\\logs\\refs\\heads\\master\n",
      "C:\\Users\\Athitawat\\Automate_Everything\\.git\\logs\\refs\\remotes\\Automate_anything\n",
      "C:\\Users\\Athitawat\\Automate_Everything\\.git\\logs\\refs\\remotes\\Automate_anything\\master\n",
      "C:\\Users\\Athitawat\\Automate_Everything\\.git\\objects\\12\n",
      "C:\\Users\\Athitawat\\Automate_Everything\\.git\\objects\\16\n",
      "C:\\Users\\Athitawat\\Automate_Everything\\.git\\objects\\1d\n",
      "C:\\Users\\Athitawat\\Automate_Everything\\.git\\objects\\1f\n",
      "C:\\Users\\Athitawat\\Automate_Everything\\.git\\objects\\26\n",
      "C:\\Users\\Athitawat\\Automate_Everything\\.git\\objects\\27\n",
      "C:\\Users\\Athitawat\\Automate_Everything\\.git\\objects\\30\n",
      "C:\\Users\\Athitawat\\Automate_Everything\\.git\\objects\\32\n",
      "C:\\Users\\Athitawat\\Automate_Everything\\.git\\objects\\36\n",
      "C:\\Users\\Athitawat\\Automate_Everything\\.git\\objects\\44\n",
      "C:\\Users\\Athitawat\\Automate_Everything\\.git\\objects\\49\n",
      "C:\\Users\\Athitawat\\Automate_Everything\\.git\\objects\\4b\n",
      "C:\\Users\\Athitawat\\Automate_Everything\\.git\\objects\\4c\n",
      "C:\\Users\\Athitawat\\Automate_Everything\\.git\\objects\\56\n",
      "C:\\Users\\Athitawat\\Automate_Everything\\.git\\objects\\58\n",
      "C:\\Users\\Athitawat\\Automate_Everything\\.git\\objects\\63\n",
      "C:\\Users\\Athitawat\\Automate_Everything\\.git\\objects\\69\n",
      "C:\\Users\\Athitawat\\Automate_Everything\\.git\\objects\\6b\n",
      "C:\\Users\\Athitawat\\Automate_Everything\\.git\\objects\\70\n",
      "C:\\Users\\Athitawat\\Automate_Everything\\.git\\objects\\76\n",
      "C:\\Users\\Athitawat\\Automate_Everything\\.git\\objects\\77\n",
      "C:\\Users\\Athitawat\\Automate_Everything\\.git\\objects\\7a\n",
      "C:\\Users\\Athitawat\\Automate_Everything\\.git\\objects\\86\n",
      "C:\\Users\\Athitawat\\Automate_Everything\\.git\\objects\\89\n",
      "C:\\Users\\Athitawat\\Automate_Everything\\.git\\objects\\90\n",
      "C:\\Users\\Athitawat\\Automate_Everything\\.git\\objects\\91\n",
      "C:\\Users\\Athitawat\\Automate_Everything\\.git\\objects\\95\n",
      "C:\\Users\\Athitawat\\Automate_Everything\\.git\\objects\\9f\n",
      "C:\\Users\\Athitawat\\Automate_Everything\\.git\\objects\\a9\n",
      "C:\\Users\\Athitawat\\Automate_Everything\\.git\\objects\\b0\n",
      "C:\\Users\\Athitawat\\Automate_Everything\\.git\\objects\\b3\n",
      "C:\\Users\\Athitawat\\Automate_Everything\\.git\\objects\\b6\n",
      "C:\\Users\\Athitawat\\Automate_Everything\\.git\\objects\\bd\n",
      "C:\\Users\\Athitawat\\Automate_Everything\\.git\\objects\\c0\n",
      "C:\\Users\\Athitawat\\Automate_Everything\\.git\\objects\\c4\n",
      "C:\\Users\\Athitawat\\Automate_Everything\\.git\\objects\\cc\n",
      "C:\\Users\\Athitawat\\Automate_Everything\\.git\\objects\\cf\n",
      "C:\\Users\\Athitawat\\Automate_Everything\\.git\\objects\\d9\n",
      "C:\\Users\\Athitawat\\Automate_Everything\\.git\\objects\\ea\n",
      "C:\\Users\\Athitawat\\Automate_Everything\\.git\\objects\\ec\n",
      "C:\\Users\\Athitawat\\Automate_Everything\\.git\\objects\\f1\n",
      "C:\\Users\\Athitawat\\Automate_Everything\\.git\\objects\\f2\n",
      "C:\\Users\\Athitawat\\Automate_Everything\\.git\\objects\\f7\n",
      "C:\\Users\\Athitawat\\Automate_Everything\\.git\\objects\\f8\n",
      "C:\\Users\\Athitawat\\Automate_Everything\\.git\\objects\\fb\n",
      "C:\\Users\\Athitawat\\Automate_Everything\\.git\\objects\\info\n",
      "C:\\Users\\Athitawat\\Automate_Everything\\.git\\objects\\pack\n",
      "C:\\Users\\Athitawat\\Automate_Everything\\.git\\objects\\12\\8dc5d48f14d3f9cadda4761203d18c6c97a25e\n",
      "C:\\Users\\Athitawat\\Automate_Everything\\.git\\objects\\16\\96f4c2cf4ed3118a3d758641c56e3840b00a9a\n",
      "C:\\Users\\Athitawat\\Automate_Everything\\.git\\objects\\1d\\a4472992ba54e983923ba449b8c01a3d8360ef\n",
      "C:\\Users\\Athitawat\\Automate_Everything\\.git\\objects\\1f\\b5605839ccf34f95beb825f23a72a48828f579\n",
      "C:\\Users\\Athitawat\\Automate_Everything\\.git\\objects\\26\\a810f929abd4443b667093b7fa05d1cdd9e217\n",
      "C:\\Users\\Athitawat\\Automate_Everything\\.git\\objects\\27\\090b0b668463c4ee7408d3122d1afee3799f1d\n",
      "C:\\Users\\Athitawat\\Automate_Everything\\.git\\objects\\30\\bdb5e16cd50dbf61d14014f563be3bc7c337eb\n",
      "C:\\Users\\Athitawat\\Automate_Everything\\.git\\objects\\32\\77d63ef9065898d8a6bf45ad2170ed3754f2a6\n",
      "C:\\Users\\Athitawat\\Automate_Everything\\.git\\objects\\36\\3fcab7ed6e9634e198cf5555ceb88932c9a245\n",
      "C:\\Users\\Athitawat\\Automate_Everything\\.git\\objects\\44\\031feeeb89c94841b6678f392c269e328b5d7d\n",
      "C:\\Users\\Athitawat\\Automate_Everything\\.git\\objects\\49\\a612e2a67105148c4a98a8905e9eeeab0dce76\n",
      "C:\\Users\\Athitawat\\Automate_Everything\\.git\\objects\\4b\\825dc642cb6eb9a060e54bf8d69288fbee4904\n",
      "C:\\Users\\Athitawat\\Automate_Everything\\.git\\objects\\4c\\52a93cf0f7a287df6c3c244ca765a0e2010a51\n",
      "C:\\Users\\Athitawat\\Automate_Everything\\.git\\objects\\56\\62dd3aa086c338ccabdb9f6e015f592952042f\n",
      "C:\\Users\\Athitawat\\Automate_Everything\\.git\\objects\\58\\283211b7ed6bfe7ca6375fa785d2fd6ddaa055\n",
      "C:\\Users\\Athitawat\\Automate_Everything\\.git\\objects\\63\\bd5b8652512e94c9e208e67278ad55522b0073\n",
      "C:\\Users\\Athitawat\\Automate_Everything\\.git\\objects\\69\\80c7606260e41399a90e5005b247dda3374fb5\n",
      "C:\\Users\\Athitawat\\Automate_Everything\\.git\\objects\\6b\\b9066cad1319a568051640d7aa965afc9cb18a\n",
      "C:\\Users\\Athitawat\\Automate_Everything\\.git\\objects\\70\\952f058f464748bf0f6bb55c50808ea45220db\n",
      "C:\\Users\\Athitawat\\Automate_Everything\\.git\\objects\\76\\167780ad86c0d1ca617b901be2a8fbf0b9cd78\n",
      "C:\\Users\\Athitawat\\Automate_Everything\\.git\\objects\\77\\761166ee134dcfbab0d7eb2c407d21fefc784d\n",
      "C:\\Users\\Athitawat\\Automate_Everything\\.git\\objects\\7a\\91fd09c9b6b813137a0cbef43b28e09a681029\n",
      "C:\\Users\\Athitawat\\Automate_Everything\\.git\\objects\\86\\2d8b54cd9dd3f31133c32bf41a254537adf8dd\n",
      "C:\\Users\\Athitawat\\Automate_Everything\\.git\\objects\\89\\5eb7760d491b05f031e14e422c7529a02754be\n",
      "C:\\Users\\Athitawat\\Automate_Everything\\.git\\objects\\90\\dcb3a385e8c85fdfa45847e5f99b46c106811f\n",
      "C:\\Users\\Athitawat\\Automate_Everything\\.git\\objects\\91\\f8413453a6fc4cbf50dbeb23a855c6de261f7b\n",
      "C:\\Users\\Athitawat\\Automate_Everything\\.git\\objects\\95\\03545c86dbab1693e4a0a8b2866ecfc4dcee1e\n",
      "C:\\Users\\Athitawat\\Automate_Everything\\.git\\objects\\9f\\e2a3987ecfd6ad68cbf228066dbc40e40f4c5d\n",
      "C:\\Users\\Athitawat\\Automate_Everything\\.git\\objects\\a9\\d11614999ecef36454738d286fe5de58cbafd6\n",
      "C:\\Users\\Athitawat\\Automate_Everything\\.git\\objects\\b0\\8a1edd44b18c09e7bb3f47868a4b967b23d54c\n",
      "C:\\Users\\Athitawat\\Automate_Everything\\.git\\objects\\b3\\1f9111f680d2bad555c0ecbde07bb0381ed59a\n",
      "C:\\Users\\Athitawat\\Automate_Everything\\.git\\objects\\b6\\9e4eef5955fb7f1e4588a188d82a325b8332f1\n",
      "C:\\Users\\Athitawat\\Automate_Everything\\.git\\objects\\b6\\d56daae124851717ea2063e719b5376afe8d2a\n",
      "C:\\Users\\Athitawat\\Automate_Everything\\.git\\objects\\bd\\50f5ae11cfbd79f97cb2a13d545eea6bf2da21\n",
      "C:\\Users\\Athitawat\\Automate_Everything\\.git\\objects\\c0\\40cc5038b1d1ae3fde21e4fae13ce40475805a\n",
      "C:\\Users\\Athitawat\\Automate_Everything\\.git\\objects\\c4\\5ed717cc021705c56f84374fc0baa75cf929c4\n",
      "C:\\Users\\Athitawat\\Automate_Everything\\.git\\objects\\cc\\05d5daeb98618fdbee125e694bb5276f448c04\n",
      "C:\\Users\\Athitawat\\Automate_Everything\\.git\\objects\\cf\\e529bed42a7ada8d7ff765ccd0dfe99bd7ad47\n",
      "C:\\Users\\Athitawat\\Automate_Everything\\.git\\objects\\d9\\3f90f168899a3f298c7c09fcf9cbc9e3b13187\n",
      "C:\\Users\\Athitawat\\Automate_Everything\\.git\\objects\\ea\\1038c0497c9ac6018a63ef7a73361072d10d10\n",
      "C:\\Users\\Athitawat\\Automate_Everything\\.git\\objects\\ec\\c3e319d66497db54ffd83288fb11b835ec761d\n",
      "C:\\Users\\Athitawat\\Automate_Everything\\.git\\objects\\f1\\e2a09c02a931af5f9cd0a2932b3f7cc2e23079\n",
      "C:\\Users\\Athitawat\\Automate_Everything\\.git\\objects\\f2\\cca807b022b5020b12e1b7f164f7b3c43136fa\n",
      "C:\\Users\\Athitawat\\Automate_Everything\\.git\\objects\\f7\\0ca5f0403881177fd30dcb8b825e729c2f3256\n",
      "C:\\Users\\Athitawat\\Automate_Everything\\.git\\objects\\f8\\81e586d9f46673b453a28172a5d7936f55571e\n",
      "C:\\Users\\Athitawat\\Automate_Everything\\.git\\objects\\fb\\3495374142cf7be0110e0e3eb28c669238af1c\n",
      "C:\\Users\\Athitawat\\Automate_Everything\\.git\\refs\\heads\n",
      "C:\\Users\\Athitawat\\Automate_Everything\\.git\\refs\\remotes\n",
      "C:\\Users\\Athitawat\\Automate_Everything\\.git\\refs\\tags\n",
      "C:\\Users\\Athitawat\\Automate_Everything\\.git\\refs\\heads\\master\n",
      "C:\\Users\\Athitawat\\Automate_Everything\\.git\\refs\\remotes\\Automate_anything\n",
      "C:\\Users\\Athitawat\\Automate_Everything\\.git\\refs\\remotes\\Automate_anything\\master\n",
      "C:\\Users\\Athitawat\\Automate_Everything\\.ipynb_checkpoints\\data-checkpoint.txt\n",
      "C:\\Users\\Athitawat\\Automate_Everything\\.ipynb_checkpoints\\day1-currency rate bs4-checkpoint.ipynb\n",
      "C:\\Users\\Athitawat\\Automate_Everything\\.ipynb_checkpoints\\day2 - newapis-checkpoint.ipynb\n",
      "C:\\Users\\Athitawat\\Automate_Everything\\.ipynb_checkpoints\\day2 - weather forecast-checkpoint.ipynb\n",
      "C:\\Users\\Athitawat\\Automate_Everything\\.ipynb_checkpoints\\day3-create api currency ex-checkpoint.ipynb\n",
      "C:\\Users\\Athitawat\\Automate_Everything\\.ipynb_checkpoints\\day4 - Graph api facebook api-checkpoint.ipynb\n",
      "C:\\Users\\Athitawat\\Automate_Everything\\.ipynb_checkpoints\\day5 - spelling_check langtool api-checkpoint.ipynb\n",
      "C:\\Users\\Athitawat\\Automate_Everything\\.ipynb_checkpoints\\day6 - Renamed dir with pathlib-checkpoint.ipynb\n",
      "C:\\Users\\Athitawat\\Automate_Everything\\.ipynb_checkpoints\\fu-checkpoint.ipynb\n",
      "C:\\Users\\Athitawat\\Automate_Everything\\.ipynb_checkpoints\\image-checkpoint.jpg\n",
      "C:\\Users\\Athitawat\\Automate_Everything\\December\\.ipynb_checkpoints\n",
      "C:\\Users\\Athitawat\\Automate_Everything\\December\\December-ghi.txt\n",
      "C:\\Users\\Athitawat\\Automate_Everything\\December\\December-jkl.txt\n",
      "C:\\Users\\Athitawat\\Automate_Everything\\Noverber\\.ipynb_checkpoints\n",
      "C:\\Users\\Athitawat\\Automate_Everything\\Noverber\\Noverber-abc.txt\n",
      "C:\\Users\\Athitawat\\Automate_Everything\\Noverber\\Noverber-def.txt\n"
     ]
    }
   ],
   "source": [
    "if file_paths.is_dir() and not file_paths.name.startswith(\".\"):\n",
    "    for paths in file_paths.glob(\"**/*\"):\n",
    "        print(paths)"
   ]
  },
  {
   "cell_type": "code",
   "execution_count": 24,
   "id": "59191227-dc54-4818-bfcd-c026b2078023",
   "metadata": {},
   "outputs": [],
   "source": [
    "path_list = [paths for paths in file_paths.glob(\"*\") if paths.is_dir() and not paths.name.startswith(\".\")]"
   ]
  },
  {
   "cell_type": "code",
   "execution_count": 25,
   "id": "85a69dd1-511f-46f0-9281-733bfd3b879d",
   "metadata": {},
   "outputs": [
    {
     "data": {
      "text/plain": [
       "[WindowsPath('C:/Users/Athitawat/Automate_Everything/December'),\n",
       " WindowsPath('C:/Users/Athitawat/Automate_Everything/Noverber')]"
      ]
     },
     "execution_count": 25,
     "metadata": {},
     "output_type": "execute_result"
    }
   ],
   "source": [
    "path_list"
   ]
  },
  {
   "cell_type": "code",
   "execution_count": 48,
   "id": "d8833467-64b9-43ae-9350-2054ff8d28bf",
   "metadata": {},
   "outputs": [],
   "source": [
    "for path in path_list:\n",
    "    file_path = Path(path)\n",
    "    \n",
    "    for dir_path in file_path.iterdir():\n",
    "        if not dir_path.name.startswith(\".\"):\n",
    "            new_name = path.stem + \"-\" + dir_path.stem + dir_path.suffix\n",
    "            new_path = dir_path.with_name(new_name)\n",
    "            dir_path.rename(new_path)"
   ]
  },
  {
   "cell_type": "code",
   "execution_count": 3,
   "id": "4e1e3401-2b8b-4055-b38a-c91f0313e6e3",
   "metadata": {},
   "outputs": [],
   "source": [
    "for path in path_list:\n",
    "    print(path)"
   ]
  },
  {
   "cell_type": "code",
   "execution_count": 38,
   "id": "2bba0a86-0e46-4f18-9d29-d042c65242a1",
   "metadata": {},
   "outputs": [
    {
     "name": "stdout",
     "output_type": "stream",
     "text": [
      "December\n",
      "Noverber\n"
     ]
    }
   ],
   "source": [
    "for path in path_list:\n",
    "    new_name =  + path.stem + path.suffix"
   ]
  },
  {
   "cell_type": "code",
   "execution_count": null,
   "id": "4de01896-cba3-4b1d-bb49-db7de74558ae",
   "metadata": {},
   "outputs": [],
   "source": []
  }
 ],
 "metadata": {
  "kernelspec": {
   "display_name": "Python 3 (ipykernel)",
   "language": "python",
   "name": "python3"
  },
  "language_info": {
   "codemirror_mode": {
    "name": "ipython",
    "version": 3
   },
   "file_extension": ".py",
   "mimetype": "text/x-python",
   "name": "python",
   "nbconvert_exporter": "python",
   "pygments_lexer": "ipython3",
   "version": "3.9.16"
  }
 },
 "nbformat": 4,
 "nbformat_minor": 5
}
