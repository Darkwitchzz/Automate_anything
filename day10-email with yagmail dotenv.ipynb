{
 "cells": [
  {
   "cell_type": "code",
   "execution_count": null,
   "id": "ec889d69-2da2-4985-8a83-872d0bee69e1",
   "metadata": {},
   "outputs": [],
   "source": [
    "import yagmail\n",
    "from dotenv import load_dotenv\n",
    "import os\n",
    "import time\n",
    "from datetime import datetime\n",
    "\n",
    "sender = \"catcatdota10@gmail.com\"\n",
    "receiver = \"yiyew11666@endelite.com\"\n",
    "\n",
    "load_dotenv(\"credentials.env\")\n",
    "\n",
    "subject = \"Test how to send email with python\"\n",
    "content = \"\"\"\n",
    "Here is the content of emails\n",
    "Hi! Fuse Your are very handsome\n",
    "\"\"\"\n",
    "yag = yagmail.SMTP(user=sender, password=os.getenv(\"PASSWORD\"))\n",
    "\n",
    "while True:\n",
    "    now = datetime.now()\n",
    "    if (now.hour == 18) and (now.minute == 43):\n",
    "        yag.send(to=receiver, subject=subject, contents=content)\n",
    "        print(\"Email sent\")\n",
    "    time.sleep(60)"
   ]
  },
  {
   "cell_type": "code",
   "execution_count": null,
   "id": "b57157e3-7210-42c3-92f9-129a4b685a4a",
   "metadata": {},
   "outputs": [],
   "source": [
    "import yagmail\n",
    "from dotenv import load_dotenv\n",
    "import os\n",
    "import time\n",
    "from datetime import datetime"
   ]
  },
  {
   "cell_type": "code",
   "execution_count": null,
   "id": "84781506-a4cc-4985-ace7-19a91f6516e9",
   "metadata": {},
   "outputs": [],
   "source": [
    "load_dotenv(\"credentials.env\")"
   ]
  },
  {
   "cell_type": "code",
   "execution_count": null,
   "id": "d208d5c6-ac56-4bab-bf99-dd6efe396a6d",
   "metadata": {},
   "outputs": [],
   "source": [
    "os.getenv(\"PASSWORD\")"
   ]
  },
  {
   "cell_type": "code",
   "execution_count": null,
   "id": "982c9329-d29f-432e-a8e5-cd373a5f36a7",
   "metadata": {},
   "outputs": [],
   "source": [
    "sender = \"catcatdota10@gmail.com\"\n",
    "receiver = \"fffbyds@gmail.com\""
   ]
  },
  {
   "cell_type": "code",
   "execution_count": null,
   "id": "c6da6e25-3543-46a5-9a1c-e05b7472ee2e",
   "metadata": {},
   "outputs": [],
   "source": [
    "subject = \"Test how to send email with python\""
   ]
  },
  {
   "cell_type": "code",
   "execution_count": null,
   "id": "7bcd1631-a10f-440c-8cc9-0ff7711d67a5",
   "metadata": {},
   "outputs": [],
   "source": [
    "content = \"\"\"\n",
    "Here is the content of emails\n",
    "Hi! Fuse Your are very handsome\n",
    "\"\"\""
   ]
  },
  {
   "cell_type": "code",
   "execution_count": null,
   "id": "54b3dc34-a6aa-445e-ba3e-0fded5010dee",
   "metadata": {},
   "outputs": [],
   "source": [
    "yag = yagmail.SMTP(user=sender, password=os.getenv(\"PASSWORD\"))"
   ]
  },
  {
   "cell_type": "code",
   "execution_count": null,
   "id": "309f49a4-b9b4-4c1b-8ce3-51ddf63229de",
   "metadata": {},
   "outputs": [],
   "source": [
    "yag.send(to=receiver, subject=subject, contents=content)\n",
    "print(\"Email sent\")"
   ]
  },
  {
   "cell_type": "code",
   "execution_count": null,
   "id": "fb635387-4027-4dcf-b958-1391434f0080",
   "metadata": {},
   "outputs": [],
   "source": [
    "now = datetime.fromtimestamp(time.time()).strftime(\"%Y-%m-%d %H:%M:%S\")"
   ]
  },
  {
   "cell_type": "code",
   "execution_count": null,
   "id": "6bf87a4b-719b-4c62-96d0-5feb817a49ed",
   "metadata": {},
   "outputs": [],
   "source": [
    "now = datetime.fromtimestamp(time.time()).strftime(\"%Y-%m-%d %H:%M:%S\")\n",
    "print(f\"this time is {now}\")\n",
    "time.sleep(60)\n",
    "now = datetime.fromtimestamp(time.time()).strftime(\"%Y-%m-%d %H:%M:%S\")\n",
    "print(f\"this time is {now}\")"
   ]
  },
  {
   "cell_type": "code",
   "execution_count": null,
   "id": "0aba523d-d535-4818-9a35-80d7a8989358",
   "metadata": {},
   "outputs": [],
   "source": [
    "type(datetime.now().hour)"
   ]
  },
  {
   "cell_type": "code",
   "execution_count": null,
   "id": "93433f15-d5bf-4a74-8901-49daebbf1cfc",
   "metadata": {},
   "outputs": [],
   "source": [
    "import yagmail\n",
    "from dotenv import load_dotenv\n",
    "import os\n",
    "import time\n",
    "from datetime import datetime\n",
    "\n",
    "sender = \"catcatdota10@gmail.com\"\n",
    "receiver = \"yiyew11666@endelite.com\"\n",
    "\n",
    "load_dotenv(\"credentials.env\")\n",
    "\n",
    "subject = \"Test how to send email with python\"\n",
    "content = \"\"\"\n",
    "Here is the content of emails\n",
    "Hi! Fuse Your are very handsome\n",
    "\"\"\"\n",
    "yag = yagmail.SMTP(user=sender, password=os.getenv(\"PASSWORD\"))\n",
    "\n",
    "while True:\n",
    "    now = datetime.now()\n",
    "    if (now.hour == 18) and (now.minute == 43):\n",
    "        yag.send(to=receiver, subject=subject, contents=content)\n",
    "        print(\"Email sent\")\n",
    "    time.sleep(60)"
   ]
  },
  {
   "cell_type": "code",
   "execution_count": null,
   "id": "d91b51ee-599f-4075-8c0a-05a4ed2abb29",
   "metadata": {},
   "outputs": [],
   "source": []
  }
 ],
 "metadata": {
  "kernelspec": {
   "display_name": "Python 3 (ipykernel)",
   "language": "python",
   "name": "python3"
  },
  "language_info": {
   "codemirror_mode": {
    "name": "ipython",
    "version": 3
   },
   "file_extension": ".py",
   "mimetype": "text/x-python",
   "name": "python",
   "nbconvert_exporter": "python",
   "pygments_lexer": "ipython3",
   "version": "3.9.16"
  }
 },
 "nbformat": 4,
 "nbformat_minor": 5
}
