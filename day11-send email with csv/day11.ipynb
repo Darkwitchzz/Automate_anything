{
 "cells": [
  {
   "cell_type": "code",
   "execution_count": 128,
   "id": "b10687e6-00a8-4e85-b7be-2a6126649534",
   "metadata": {},
   "outputs": [
    {
     "name": "stdout",
     "output_type": "stream",
     "text": [
      "Email Send!!!\n",
      "Email Send!!!\n"
     ]
    }
   ],
   "source": [
    "import yagmail\n",
    "from dotenv import load_dotenv\n",
    "import os\n",
    "import pandas as pd\n",
    "\n",
    "sender = \"catcatdota10@gmail.com\"\n",
    "\n",
    "load_dotenv(\"credentials.env\")\n",
    "\n",
    "yag = yagmail.SMTP(user=sender, password=os.getenv(\"PASSWORD\"))\n",
    "df = pd.read_csv(\"contacts.csv\")\n",
    "\n",
    "subject = \"Test how to send email with python\"\n",
    "content = \"\"\"\n",
    "<NAME> Your have to pay <AMOUNT> THB\n",
    "Bill is attach!!\n",
    "\"\"\"\n",
    "\n",
    "def generate_file(filename, content):\n",
    "    with open(filename, \"w\") as file:\n",
    "        file.write(str(content))\n",
    "\n",
    "for index, row in df.iterrows():\n",
    "    name = row[\"name\"]\n",
    "    receiver = row[\"email\"]\n",
    "    amount = row[\"amount\"]\n",
    "    filename = name + \".txt\"\n",
    "    \n",
    "    generate_file(filename=filename, content=amount)\n",
    "    \n",
    "    new_content_name = content.replace(\"<NAME>\", name).replace(\"<AMOUNT>\", str(amount))\n",
    "    \n",
    "    yag.send(to=receiver, subject=subject, contents=new_content_name, attachments=filename)\n",
    "    print(\"Email Send!!!\")"
   ]
  },
  {
   "cell_type": "code",
   "execution_count": 48,
   "id": "18ccb3ee-60e2-4e7e-86c6-774f10c77783",
   "metadata": {},
   "outputs": [
    {
     "name": "stdout",
     "output_type": "stream",
     "text": [
      "Email Send!!!\n"
     ]
    }
   ],
   "source": [
    "import yagmail\n",
    "from dotenv import load_dotenv\n",
    "import os\n",
    "import pandas as pd\n",
    "\n",
    "sender = \"catcatdota10@gmail.com\"\n",
    "receiver = \"fffbyds@gmail.com\"\n",
    "\n",
    "load_dotenv(\"credentials.env\")\n",
    "\n",
    "yag = yagmail.SMTP(user=sender, password=os.getenv(\"PASSWORD\"))\n",
    "\n",
    "subject = \"Test how to send email with python\"\n",
    "content = \"\"\"\n",
    "Here is the content of emails\n",
    "Hi! Fuse Your are very handsome\n",
    "\"\"\"\n",
    "# content = [\"\"\"\n",
    "# Here is the content of emails\n",
    "# Hi! Fuse Your are very handsome\n",
    "# \"\"\", 'thunder_express.txt']\n",
    "attachment = \"thunder_express.txt\"\n",
    "\n",
    "yag.send(to=receiver, subject=subject, contents=content, attachments=attachment)\n",
    "# yag.send(to=receiver, subject=subject, contents=content)\n",
    "print(\"Email Send!!!\")"
   ]
  },
  {
   "cell_type": "markdown",
   "id": "79b31ebe-2d5c-4749-8698-548d130c5956",
   "metadata": {},
   "source": [
    "# Step by step"
   ]
  },
  {
   "cell_type": "code",
   "execution_count": 1,
   "id": "9217f65f-8bed-4c9d-b3ce-f9d1a5fb7ac4",
   "metadata": {},
   "outputs": [],
   "source": [
    "import yagmail\n",
    "from dotenv import load_dotenv\n",
    "import os\n",
    "import pandas as pd"
   ]
  },
  {
   "cell_type": "code",
   "execution_count": 2,
   "id": "1a51bda9-416d-4ace-8fd0-994276f24daf",
   "metadata": {},
   "outputs": [
    {
     "data": {
      "text/plain": [
       "True"
      ]
     },
     "execution_count": 2,
     "metadata": {},
     "output_type": "execute_result"
    }
   ],
   "source": [
    "load_dotenv(\"credentials.env\")"
   ]
  },
  {
   "cell_type": "code",
   "execution_count": 3,
   "id": "89e01c15-c3ea-4649-a03b-cc22b65b9f3a",
   "metadata": {},
   "outputs": [
    {
     "data": {
      "text/plain": [
       "'rigq hpjq hesy zfiq'"
      ]
     },
     "execution_count": 3,
     "metadata": {},
     "output_type": "execute_result"
    }
   ],
   "source": [
    "os.getenv(\"PASSWORD\")"
   ]
  },
  {
   "cell_type": "code",
   "execution_count": 4,
   "id": "2cc94978-8d91-4a2c-b9e4-fa04e4439055",
   "metadata": {},
   "outputs": [],
   "source": [
    "sender = \"catcatdota10@gmail.com\""
   ]
  },
  {
   "cell_type": "code",
   "execution_count": 33,
   "id": "3464543c-9d92-402b-b3ae-28eb882d50fc",
   "metadata": {},
   "outputs": [],
   "source": [
    "yag = yagmail.SMTP(user=sender, password=os.getenv(\"PASSWORD\"))"
   ]
  },
  {
   "cell_type": "code",
   "execution_count": 2,
   "id": "be4f4526-6928-4d04-a89f-e382ac2cd0e2",
   "metadata": {},
   "outputs": [
    {
     "data": {
      "text/html": [
       "<div>\n",
       "<style scoped>\n",
       "    .dataframe tbody tr th:only-of-type {\n",
       "        vertical-align: middle;\n",
       "    }\n",
       "\n",
       "    .dataframe tbody tr th {\n",
       "        vertical-align: top;\n",
       "    }\n",
       "\n",
       "    .dataframe thead th {\n",
       "        text-align: right;\n",
       "    }\n",
       "</style>\n",
       "<table border=\"1\" class=\"dataframe\">\n",
       "  <thead>\n",
       "    <tr style=\"text-align: right;\">\n",
       "      <th></th>\n",
       "      <th>name</th>\n",
       "      <th>email</th>\n",
       "      <th>amount</th>\n",
       "    </tr>\n",
       "  </thead>\n",
       "  <tbody>\n",
       "    <tr>\n",
       "      <th>0</th>\n",
       "      <td>fuse</td>\n",
       "      <td>fffbyds@gmail.com</td>\n",
       "      <td>86</td>\n",
       "    </tr>\n",
       "    <tr>\n",
       "      <th>1</th>\n",
       "      <td>feda</td>\n",
       "      <td>ajaacrdfiddfsb@dropmail.me</td>\n",
       "      <td>37</td>\n",
       "    </tr>\n",
       "  </tbody>\n",
       "</table>\n",
       "</div>"
      ],
      "text/plain": [
       "   name                       email  amount\n",
       "0  fuse           fffbyds@gmail.com      86\n",
       "1  feda  ajaacrdfiddfsb@dropmail.me      37"
      ]
     },
     "execution_count": 2,
     "metadata": {},
     "output_type": "execute_result"
    }
   ],
   "source": [
    "df = pd.read_csv(\"contacts.csv\")\n",
    "df"
   ]
  },
  {
   "cell_type": "code",
   "execution_count": 40,
   "id": "2c8caf66-2c55-4ea3-a740-7839c4dd4237",
   "metadata": {},
   "outputs": [],
   "source": [
    "subject = \"Test how to send email with python\"\n",
    "content = \"\"\"\n",
    "Here is the content of emails\n",
    "Hi! <NAME> Your are very handsome\n",
    "\"\"\""
   ]
  },
  {
   "cell_type": "code",
   "execution_count": 3,
   "id": "8608f506-ef5c-475e-9b2f-2ad368e53b15",
   "metadata": {},
   "outputs": [
    {
     "name": "stdout",
     "output_type": "stream",
     "text": [
      "0\n",
      "name                   fuse\n",
      "email     fffbyds@gmail.com\n",
      "amount                   86\n",
      "Name: 0, dtype: object\n",
      "1\n",
      "name                            feda\n",
      "email     ajaacrdfiddfsb@dropmail.me\n",
      "amount                            37\n",
      "Name: 1, dtype: object\n"
     ]
    }
   ],
   "source": [
    "for index, row in df.iterrows():\n",
    "    print(index)\n",
    "    print(row)"
   ]
  },
  {
   "cell_type": "code",
   "execution_count": 42,
   "id": "7fa60b3d-8ae4-4790-b994-706cf83a8142",
   "metadata": {},
   "outputs": [
    {
     "name": "stdout",
     "output_type": "stream",
     "text": [
      "Email Send!!!\n"
     ]
    }
   ],
   "source": [
    "for index, row in df.iterrows():\n",
    "    new_content = content.replace(\"<NAME>\", row[\"name\"])\n",
    "    yag.send(to=row[\"email\"], subject=subject, contents=new_content)\n",
    "print(\"Email Send!!!\")"
   ]
  },
  {
   "cell_type": "code",
   "execution_count": 52,
   "id": "11d089ca-eb3f-4869-b820-c7b7714b0d07",
   "metadata": {},
   "outputs": [],
   "source": [
    "df[\"filepath\"] = [\"bill-\"+ str(num) + \".txt\" for num in range(1, 3)]"
   ]
  },
  {
   "cell_type": "code",
   "execution_count": 66,
   "id": "1ceaecb5-2dc4-459b-8ad6-16a10daeb2b6",
   "metadata": {},
   "outputs": [
    {
     "data": {
      "text/html": [
       "<div>\n",
       "<style scoped>\n",
       "    .dataframe tbody tr th:only-of-type {\n",
       "        vertical-align: middle;\n",
       "    }\n",
       "\n",
       "    .dataframe tbody tr th {\n",
       "        vertical-align: top;\n",
       "    }\n",
       "\n",
       "    .dataframe thead th {\n",
       "        text-align: right;\n",
       "    }\n",
       "</style>\n",
       "<table border=\"1\" class=\"dataframe\">\n",
       "  <thead>\n",
       "    <tr style=\"text-align: right;\">\n",
       "      <th></th>\n",
       "      <th>name</th>\n",
       "      <th>email</th>\n",
       "      <th>filepath</th>\n",
       "    </tr>\n",
       "  </thead>\n",
       "  <tbody>\n",
       "    <tr>\n",
       "      <th>0</th>\n",
       "      <td>fuse</td>\n",
       "      <td>ujysmysxk@emlhub.com</td>\n",
       "      <td>bill-1.txt</td>\n",
       "    </tr>\n",
       "    <tr>\n",
       "      <th>1</th>\n",
       "      <td>feda</td>\n",
       "      <td>rceuoksml@emlpro.com</td>\n",
       "      <td>bill-2.txt</td>\n",
       "    </tr>\n",
       "  </tbody>\n",
       "</table>\n",
       "</div>"
      ],
      "text/plain": [
       "   name                 email    filepath\n",
       "0  fuse  ujysmysxk@emlhub.com  bill-1.txt\n",
       "1  feda  rceuoksml@emlpro.com  bill-2.txt"
      ]
     },
     "execution_count": 66,
     "metadata": {},
     "output_type": "execute_result"
    }
   ],
   "source": [
    "df"
   ]
  },
  {
   "cell_type": "code",
   "execution_count": 69,
   "id": "76dc937e-7f8a-41fa-8c15-c199c9f083e1",
   "metadata": {},
   "outputs": [],
   "source": [
    "df.to_csv(\"contacts.csv\", index=False)"
   ]
  },
  {
   "cell_type": "code",
   "execution_count": 54,
   "id": "1f843f41-4873-45ed-bac1-8ae19016ce3f",
   "metadata": {},
   "outputs": [],
   "source": [
    "import pathlib"
   ]
  },
  {
   "cell_type": "code",
   "execution_count": 56,
   "id": "2fcc43e6-7dec-4b1f-b19d-a6fd7eb8f06d",
   "metadata": {},
   "outputs": [],
   "source": [
    "path = pathlib.Path(\".\")"
   ]
  },
  {
   "cell_type": "code",
   "execution_count": 57,
   "id": "0d33df58-d731-440d-8435-633d9324dbc1",
   "metadata": {},
   "outputs": [
    {
     "name": "stdout",
     "output_type": "stream",
     "text": [
      ".ipynb_checkpoints\n",
      "contacts.csv\n",
      "credentials.env\n",
      "day11.ipynb\n",
      "thunder_express.txt\n"
     ]
    }
   ],
   "source": [
    "for i in path.glob(\"*\"):\n",
    "    print(i)"
   ]
  },
  {
   "cell_type": "code",
   "execution_count": 65,
   "id": "1766cccf-67ca-459b-a425-2c892e3ea290",
   "metadata": {},
   "outputs": [
    {
     "name": "stdout",
     "output_type": "stream",
     "text": [
      "Create file bill-1.txt success!!\n",
      "Create file bill-2.txt success!!\n"
     ]
    }
   ],
   "source": [
    "for i in range(1, 3):\n",
    "    new_file = path / f\"bill-{i}.txt\"\n",
    "    new_file.touch()\n",
    "    print(f\"Create file {new_file} success!!\")\n"
   ]
  },
  {
   "cell_type": "code",
   "execution_count": 74,
   "id": "9c066bf0-53e2-4d43-bb99-6302ec677e62",
   "metadata": {},
   "outputs": [],
   "source": [
    "df.drop(columns=\"filepath\", inplace=True)"
   ]
  },
  {
   "cell_type": "code",
   "execution_count": 75,
   "id": "d3751c28-8395-42f3-959c-1ac6a678dc51",
   "metadata": {},
   "outputs": [
    {
     "data": {
      "text/html": [
       "<div>\n",
       "<style scoped>\n",
       "    .dataframe tbody tr th:only-of-type {\n",
       "        vertical-align: middle;\n",
       "    }\n",
       "\n",
       "    .dataframe tbody tr th {\n",
       "        vertical-align: top;\n",
       "    }\n",
       "\n",
       "    .dataframe thead th {\n",
       "        text-align: right;\n",
       "    }\n",
       "</style>\n",
       "<table border=\"1\" class=\"dataframe\">\n",
       "  <thead>\n",
       "    <tr style=\"text-align: right;\">\n",
       "      <th></th>\n",
       "      <th>name</th>\n",
       "      <th>email</th>\n",
       "    </tr>\n",
       "  </thead>\n",
       "  <tbody>\n",
       "    <tr>\n",
       "      <th>0</th>\n",
       "      <td>fuse</td>\n",
       "      <td>fffbyds@gmail.com</td>\n",
       "    </tr>\n",
       "    <tr>\n",
       "      <th>1</th>\n",
       "      <td>feda</td>\n",
       "      <td>rceuoksml@emlpro.com</td>\n",
       "    </tr>\n",
       "  </tbody>\n",
       "</table>\n",
       "</div>"
      ],
      "text/plain": [
       "   name                 email\n",
       "0  fuse     fffbyds@gmail.com\n",
       "1  feda  rceuoksml@emlpro.com"
      ]
     },
     "execution_count": 75,
     "metadata": {},
     "output_type": "execute_result"
    }
   ],
   "source": [
    "df"
   ]
  },
  {
   "cell_type": "code",
   "execution_count": 76,
   "id": "cc797412-2526-4d38-a5f1-f81cff6f97a7",
   "metadata": {},
   "outputs": [],
   "source": [
    "import numpy as np"
   ]
  },
  {
   "cell_type": "code",
   "execution_count": 108,
   "id": "fd6af62b-bbd8-4bea-8f50-d4df936a9db5",
   "metadata": {},
   "outputs": [],
   "source": [
    "np.random.seed(123)"
   ]
  },
  {
   "cell_type": "code",
   "execution_count": 109,
   "id": "98048e06-16b0-4b50-b61c-4b909453f1d5",
   "metadata": {},
   "outputs": [
    {
     "data": {
      "text/plain": [
       "86"
      ]
     },
     "execution_count": 109,
     "metadata": {},
     "output_type": "execute_result"
    }
   ],
   "source": [
    "np.random.randint(20, 101)"
   ]
  },
  {
   "cell_type": "code",
   "execution_count": 110,
   "id": "4a240e99-f621-4505-8adb-2e3b9fa3a50b",
   "metadata": {},
   "outputs": [],
   "source": [
    "np.random.seed(123)\n",
    "df[\"amount\"] = [np.random.randint(20, 101) for i in range(1, 3)]    "
   ]
  },
  {
   "cell_type": "code",
   "execution_count": 111,
   "id": "50602d61-1471-47ac-a863-c32741612b2b",
   "metadata": {},
   "outputs": [
    {
     "data": {
      "text/html": [
       "<div>\n",
       "<style scoped>\n",
       "    .dataframe tbody tr th:only-of-type {\n",
       "        vertical-align: middle;\n",
       "    }\n",
       "\n",
       "    .dataframe tbody tr th {\n",
       "        vertical-align: top;\n",
       "    }\n",
       "\n",
       "    .dataframe thead th {\n",
       "        text-align: right;\n",
       "    }\n",
       "</style>\n",
       "<table border=\"1\" class=\"dataframe\">\n",
       "  <thead>\n",
       "    <tr style=\"text-align: right;\">\n",
       "      <th></th>\n",
       "      <th>name</th>\n",
       "      <th>email</th>\n",
       "      <th>amount</th>\n",
       "    </tr>\n",
       "  </thead>\n",
       "  <tbody>\n",
       "    <tr>\n",
       "      <th>0</th>\n",
       "      <td>fuse</td>\n",
       "      <td>fffbyds@gmail.com</td>\n",
       "      <td>86</td>\n",
       "    </tr>\n",
       "    <tr>\n",
       "      <th>1</th>\n",
       "      <td>feda</td>\n",
       "      <td>rceuoksml@emlpro.com</td>\n",
       "      <td>37</td>\n",
       "    </tr>\n",
       "  </tbody>\n",
       "</table>\n",
       "</div>"
      ],
      "text/plain": [
       "   name                 email  amount\n",
       "0  fuse     fffbyds@gmail.com      86\n",
       "1  feda  rceuoksml@emlpro.com      37"
      ]
     },
     "execution_count": 111,
     "metadata": {},
     "output_type": "execute_result"
    }
   ],
   "source": [
    "df"
   ]
  },
  {
   "cell_type": "code",
   "execution_count": 112,
   "id": "9af7453e-a94d-4f9a-b51e-713985a935ea",
   "metadata": {},
   "outputs": [],
   "source": [
    "df.to_csv(\"contacts.csv\", index=False)"
   ]
  },
  {
   "cell_type": "code",
   "execution_count": 119,
   "id": "89df523e-c913-4375-9904-30d1d934bb9b",
   "metadata": {},
   "outputs": [
    {
     "data": {
      "text/html": [
       "<div>\n",
       "<style scoped>\n",
       "    .dataframe tbody tr th:only-of-type {\n",
       "        vertical-align: middle;\n",
       "    }\n",
       "\n",
       "    .dataframe tbody tr th {\n",
       "        vertical-align: top;\n",
       "    }\n",
       "\n",
       "    .dataframe thead th {\n",
       "        text-align: right;\n",
       "    }\n",
       "</style>\n",
       "<table border=\"1\" class=\"dataframe\">\n",
       "  <thead>\n",
       "    <tr style=\"text-align: right;\">\n",
       "      <th></th>\n",
       "      <th>name</th>\n",
       "      <th>email</th>\n",
       "      <th>amount</th>\n",
       "    </tr>\n",
       "  </thead>\n",
       "  <tbody>\n",
       "    <tr>\n",
       "      <th>0</th>\n",
       "      <td>fuse</td>\n",
       "      <td>fffbyds@gmail.com</td>\n",
       "      <td>86</td>\n",
       "    </tr>\n",
       "    <tr>\n",
       "      <th>1</th>\n",
       "      <td>feda</td>\n",
       "      <td>rceuoksml@emlpro.com</td>\n",
       "      <td>37</td>\n",
       "    </tr>\n",
       "  </tbody>\n",
       "</table>\n",
       "</div>"
      ],
      "text/plain": [
       "   name                 email  amount\n",
       "0  fuse     fffbyds@gmail.com      86\n",
       "1  feda  rceuoksml@emlpro.com      37"
      ]
     },
     "execution_count": 119,
     "metadata": {},
     "output_type": "execute_result"
    }
   ],
   "source": [
    "pd.read_csv(\"contacts.csv\")"
   ]
  },
  {
   "cell_type": "code",
   "execution_count": null,
   "id": "1ef3ff01-b528-4af5-83ab-f2572df0c4fe",
   "metadata": {},
   "outputs": [],
   "source": [
    "def generate_file(filename, content):\n",
    "    with open(f\"{filename}.txt\", \"w\") as file:\n",
    "        file.write(content)"
   ]
  },
  {
   "cell_type": "code",
   "execution_count": 123,
   "id": "f436ebf1-1ab4-468a-be2d-c321fff744ff",
   "metadata": {},
   "outputs": [],
   "source": [
    "content = \"\"\"\n",
    "<NAME> Your have to pay <AMOUNT>\n",
    "Bill is attach!!\n",
    "\"\"\""
   ]
  },
  {
   "cell_type": "code",
   "execution_count": 124,
   "id": "f88d70d7-107e-4fe3-93d0-a68239cdb50e",
   "metadata": {},
   "outputs": [],
   "source": [
    "a = 37"
   ]
  },
  {
   "cell_type": "code",
   "execution_count": 126,
   "id": "529565ba-6b17-4f16-b937-8c4369b8f053",
   "metadata": {},
   "outputs": [],
   "source": [
    "test_content = content.replace(\"<AMOUNT>\", str(a))"
   ]
  },
  {
   "cell_type": "code",
   "execution_count": 127,
   "id": "21f075c4-95ac-4ff0-b392-32fee1413680",
   "metadata": {},
   "outputs": [
    {
     "data": {
      "text/plain": [
       "'\\n<NAME> Your have to pay 37\\nBill is attach!!\\n'"
      ]
     },
     "execution_count": 127,
     "metadata": {},
     "output_type": "execute_result"
    }
   ],
   "source": [
    "test_content"
   ]
  },
  {
   "cell_type": "code",
   "execution_count": null,
   "id": "82f25fd2-8ed0-4809-998e-9c664687443e",
   "metadata": {},
   "outputs": [],
   "source": []
  }
 ],
 "metadata": {
  "kernelspec": {
   "display_name": "Python 3 (ipykernel)",
   "language": "python",
   "name": "python3"
  },
  "language_info": {
   "codemirror_mode": {
    "name": "ipython",
    "version": 3
   },
   "file_extension": ".py",
   "mimetype": "text/x-python",
   "name": "python",
   "nbconvert_exporter": "python",
   "pygments_lexer": "ipython3",
   "version": "3.9.16"
  }
 },
 "nbformat": 4,
 "nbformat_minor": 5
}
