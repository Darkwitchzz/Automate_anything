{
 "cells": [
  {
   "cell_type": "code",
   "execution_count": 44,
   "id": "72272bf0-5734-4951-b7b9-bfddd9717d58",
   "metadata": {},
   "outputs": [],
   "source": [
    "import smtplib\n",
    "from dotenv import load_dotenv\n",
    "import os\n",
    "from email.mime.text import MIMEText\n",
    "from email.mime.multipart import MIMEMultipart\n",
    "from email.mime.base import MIMEBase\n",
    "from email import encoders\n",
    "\n",
    "load_dotenv(\"credentials.env\")\n",
    "\n",
    "sender = \"catcatdota10@gmail.com\"\n",
    "receiver = \"hywjwzccm@emltmp.com\"\n",
    "\n",
    "# Construct structure of email\n",
    "message = MIMEMultipart()\n",
    "message[\"From\"] = sender\n",
    "message[\"To\"] = receiver\n",
    "message[\"Subject\"] = \"Hello Fuse!!\"\n",
    "\n",
    "# Attach body content to email\n",
    "body = \"\"\"\n",
    "You are very \n",
    "<h1>handsome!!!</h1>\n",
    "\"\"\"\n",
    "mimetext = MIMEText(body, \"html\")\n",
    "message.attach(mimetext)\n",
    "\n",
    "# Attach attachment to email\n",
    "attachment_path = \"textfile.txt\"\n",
    "\n",
    "with open(attachment_path, \"rb\") as attachment:\n",
    "    payload = MIMEBase(\"application\", \"octet-stream\")\n",
    "    payload.set_payload(attachment.read())\n",
    "    \n",
    "encoders.encode_base64(payload)\n",
    "payload.add_header(\"Content-Disposition\", \"attachment\", filename=attachment_path)\n",
    "\n",
    "message.attach(payload)\n",
    "\n",
    "# Send email\n",
    "with smtplib.SMTP(\"smtp.gmail.com\", 587) as server:\n",
    "    server.starttls()\n",
    "    server.login(user=sender, password=os.getenv(\"PASSWORD\"))\n",
    "    # server.sendmail(from_addr=sender, to_addrs=receiver, msg=message.as_string())\n",
    "    server.send_message(message)"
   ]
  },
  {
   "cell_type": "code",
   "execution_count": null,
   "id": "8bb781fe-d9d5-486f-b1fb-78ef183e018f",
   "metadata": {},
   "outputs": [],
   "source": []
  },
  {
   "cell_type": "code",
   "execution_count": 1,
   "id": "e2a2ccbb-34b0-49f2-a884-5fa9132fdb8a",
   "metadata": {},
   "outputs": [],
   "source": [
    "import smtplib\n",
    "from dotenv import load_dotenv\n",
    "import os"
   ]
  },
  {
   "cell_type": "code",
   "execution_count": 2,
   "id": "8057d328-09d9-4f31-ab14-09fdc608ea0a",
   "metadata": {},
   "outputs": [
    {
     "data": {
      "text/plain": [
       "True"
      ]
     },
     "execution_count": 2,
     "metadata": {},
     "output_type": "execute_result"
    }
   ],
   "source": [
    "load_dotenv(\"credentials.env\")"
   ]
  },
  {
   "cell_type": "code",
   "execution_count": 4,
   "id": "40c72c3e-0840-4a30-9cf3-abc46c94e26c",
   "metadata": {},
   "outputs": [],
   "source": [
    "sender = \"catcatdota10@gmail.com\"\n",
    "receiver = \"071bwb89g0@freeml.net\""
   ]
  },
  {
   "cell_type": "code",
   "execution_count": 10,
   "id": "5f9a8716-1f36-40d0-bdbc-26c80d21d520",
   "metadata": {},
   "outputs": [],
   "source": [
    "content = \"\"\"\\\n",
    "subject: Hello Fuse\n",
    "\n",
    "You are very handsome!!!\n",
    "\"\"\""
   ]
  },
  {
   "cell_type": "code",
   "execution_count": 11,
   "id": "249ca2d9-0b03-4457-91d6-b9048533568a",
   "metadata": {},
   "outputs": [],
   "source": [
    "with smtplib.SMTP(\"smtp.gmail.com\", 587) as server:\n",
    "    server.starttls()\n",
    "    server.login(user=sender, password=os.getenv(\"PASSWORD\"))\n",
    "    server.sendmail(from_addr=sender, to_addrs=receiver, msg=content)"
   ]
  },
  {
   "cell_type": "code",
   "execution_count": 12,
   "id": "ec42c7ea-ddb9-4659-8f59-d01c70e6a5ce",
   "metadata": {},
   "outputs": [],
   "source": [
    "from email.mime.text import MIMEText\n",
    "from email.mime.multipart import MIMEMultipart"
   ]
  },
  {
   "cell_type": "code",
   "execution_count": 13,
   "id": "6407c789-5f5d-4794-8dec-dcc143754ed8",
   "metadata": {},
   "outputs": [],
   "source": [
    "message = MIMEMultipart()"
   ]
  },
  {
   "cell_type": "code",
   "execution_count": 31,
   "id": "e30483bb-fd87-4e77-a93a-50efe4f3ecf4",
   "metadata": {},
   "outputs": [
    {
     "data": {
      "text/plain": [
       "<email.mime.multipart.MIMEMultipart at 0x144eb65e9a0>"
      ]
     },
     "execution_count": 31,
     "metadata": {},
     "output_type": "execute_result"
    }
   ],
   "source": [
    "message"
   ]
  },
  {
   "cell_type": "code",
   "execution_count": 17,
   "id": "0979556a-eeb2-463c-825d-6851e3a6f7ae",
   "metadata": {},
   "outputs": [],
   "source": [
    "message[\"From\"] = sender"
   ]
  },
  {
   "cell_type": "code",
   "execution_count": 25,
   "id": "c6b3f2ce-fe1d-493a-bdcd-abf1387d02f1",
   "metadata": {},
   "outputs": [],
   "source": [
    "message[\"To\"] = receiver"
   ]
  },
  {
   "cell_type": "code",
   "execution_count": 26,
   "id": "85145a82-782b-4e63-929d-b346b6caa79b",
   "metadata": {},
   "outputs": [],
   "source": [
    "message[\"Subject\"] = \"Hello Fuse!!\""
   ]
  },
  {
   "cell_type": "code",
   "execution_count": 27,
   "id": "22689d89-d943-48d4-b92f-09ed6d265555",
   "metadata": {},
   "outputs": [],
   "source": [
    "body = \"\"\"\n",
    "You are very \n",
    "<h1>handsome!!!</h1>\n",
    "\"\"\""
   ]
  },
  {
   "cell_type": "code",
   "execution_count": 28,
   "id": "0b1cdc3e-1a24-435b-8691-b168105d5849",
   "metadata": {},
   "outputs": [],
   "source": [
    "message.attach(MIMEText(body, \"html\"))"
   ]
  },
  {
   "cell_type": "code",
   "execution_count": 30,
   "id": "2264d810-aefe-437c-abff-69643433fb1a",
   "metadata": {},
   "outputs": [
    {
     "name": "stdout",
     "output_type": "stream",
     "text": [
      "Content-Type: multipart/mixed; boundary=\"===============8838093713926558393==\"\n",
      "MIME-Version: 1.0\n",
      "From: catcatdota10@gmail.com\n",
      "To: 071bwb89g0@freeml.net\n",
      "Subject: Hello Fuse!!\n",
      "\n",
      "--===============8838093713926558393==\n",
      "Content-Type: text/html; charset=\"us-ascii\"\n",
      "MIME-Version: 1.0\n",
      "Content-Transfer-Encoding: 7bit\n",
      "\n",
      "\n",
      "You are very \n",
      "<h1>handsome!!!</h1>\n",
      "\n",
      "--===============8838093713926558393==--\n",
      "\n"
     ]
    }
   ],
   "source": [
    "message.as_string()"
   ]
  },
  {
   "cell_type": "code",
   "execution_count": 33,
   "id": "42ecf18e-8069-4fe2-a753-b9ce7af058ba",
   "metadata": {},
   "outputs": [],
   "source": [
    "with open(\"textfile.txt\", \"w\") as file:\n",
    "    file.write(\"test file\")"
   ]
  },
  {
   "cell_type": "code",
   "execution_count": 36,
   "id": "2154c253-6e53-4886-9893-b93c3e8f7b8f",
   "metadata": {},
   "outputs": [],
   "source": [
    "from email.mime.base import MIMEBase\n",
    "from email import encoders"
   ]
  },
  {
   "cell_type": "code",
   "execution_count": 40,
   "id": "d280e4ce-667e-4259-89ab-5a1ae09ab9ec",
   "metadata": {},
   "outputs": [],
   "source": [
    "attachment_path = \"textfile.txt\""
   ]
  },
  {
   "cell_type": "code",
   "execution_count": 41,
   "id": "f0d98861-a403-4910-8b06-3e82b97fd7cc",
   "metadata": {},
   "outputs": [],
   "source": [
    "with open(attachment_path, \"rb\") as attachment:\n",
    "    payload = MIMEBase(\"application\", \"octet-stream\")\n",
    "    payload.set_payload(attachment.read())\n",
    "    \n",
    "encoders.encode_base64(payload)\n"
   ]
  },
  {
   "cell_type": "code",
   "execution_count": 42,
   "id": "833b815a-e104-449c-975f-1e8cc53802e1",
   "metadata": {},
   "outputs": [],
   "source": [
    "payload.add_header(\"Content-Disposition\", \"attachment\", filename=attachment_path)"
   ]
  },
  {
   "cell_type": "code",
   "execution_count": 43,
   "id": "9c04f40a-69c5-481a-9c7a-afaf22da636c",
   "metadata": {},
   "outputs": [
    {
     "data": {
      "text/plain": [
       "'Content-Type: application/octet-stream\\nMIME-Version: 1.0\\nContent-Transfer-Encoding: base64\\nContent-Disposition: attachment; filename=\"textfile.txt\"\\n\\ndGVzdCBmaWxl\\n'"
      ]
     },
     "execution_count": 43,
     "metadata": {},
     "output_type": "execute_result"
    }
   ],
   "source": [
    "payload.as_string()"
   ]
  },
  {
   "cell_type": "code",
   "execution_count": null,
   "id": "4385cc1a-a5a8-4eaf-91c5-39f0042133eb",
   "metadata": {},
   "outputs": [],
   "source": []
  }
 ],
 "metadata": {
  "kernelspec": {
   "display_name": "Python 3 (ipykernel)",
   "language": "python",
   "name": "python3"
  },
  "language_info": {
   "codemirror_mode": {
    "name": "ipython",
    "version": 3
   },
   "file_extension": ".py",
   "mimetype": "text/x-python",
   "name": "python",
   "nbconvert_exporter": "python",
   "pygments_lexer": "ipython3",
   "version": "3.9.16"
  }
 },
 "nbformat": 4,
 "nbformat_minor": 5
}
