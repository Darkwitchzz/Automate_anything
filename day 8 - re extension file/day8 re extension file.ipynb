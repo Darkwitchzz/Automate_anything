{
 "cells": [
  {
   "cell_type": "code",
   "execution_count": 11,
   "id": "dc287431-05f4-4a6c-9a34-76220b301e42",
   "metadata": {},
   "outputs": [],
   "source": [
    "from pathlib import Path\n",
    "\n",
    "file_path = Path(\"files\")\n",
    "\n",
    "for file in file_path.glob(\"*.txt\"):\n",
    "    if file.is_file():\n",
    "        new_path = file.with_suffix(\".csv\")\n",
    "        file.rename(new_path)"
   ]
  },
  {
   "cell_type": "markdown",
   "id": "130ad6c7-27b5-48bd-9534-b0221d93db35",
   "metadata": {},
   "source": [
    "# Step by step"
   ]
  },
  {
   "cell_type": "code",
   "execution_count": 3,
   "id": "8ad06874-03bc-41f7-b792-f60b3dbc18dd",
   "metadata": {},
   "outputs": [],
   "source": [
    "from pathlib import Path"
   ]
  },
  {
   "cell_type": "code",
   "execution_count": 5,
   "id": "fa88ce80-7d10-4e0f-8215-e3ad39b69179",
   "metadata": {},
   "outputs": [],
   "source": [
    "file_path = Path(\"files\")"
   ]
  },
  {
   "cell_type": "code",
   "execution_count": 9,
   "id": "9c1fcf41-06e7-4357-ac5d-54d0e6d65377",
   "metadata": {},
   "outputs": [],
   "source": [
    "for file in file_path.glob(\"*.txt\"):\n",
    "    if file.is_file():\n",
    "        new_path = file.with_suffix(\".csv\")\n",
    "        file.rename(new_path)"
   ]
  },
  {
   "cell_type": "code",
   "execution_count": null,
   "id": "24d6669f-dfdf-4375-9322-b43409a83b2b",
   "metadata": {},
   "outputs": [],
   "source": []
  }
 ],
 "metadata": {
  "kernelspec": {
   "display_name": "Python 3 (ipykernel)",
   "language": "python",
   "name": "python3"
  },
  "language_info": {
   "codemirror_mode": {
    "name": "ipython",
    "version": 3
   },
   "file_extension": ".py",
   "mimetype": "text/x-python",
   "name": "python",
   "nbconvert_exporter": "python",
   "pygments_lexer": "ipython3",
   "version": "3.9.16"
  }
 },
 "nbformat": 4,
 "nbformat_minor": 5
}
