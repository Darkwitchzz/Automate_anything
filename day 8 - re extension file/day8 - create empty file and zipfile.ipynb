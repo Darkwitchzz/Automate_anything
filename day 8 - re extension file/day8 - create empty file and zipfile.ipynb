{
 "cells": [
  {
   "cell_type": "code",
   "execution_count": null,
   "id": "b55fba54-c7e3-4807-9fb0-7a4add7a401c",
   "metadata": {},
   "outputs": [],
   "source": [
    "from pathlib import Path\n",
    "import zipfile\n",
    "\n",
    "filepath = Path(\"files\")\n",
    "achieve_path = filepath / Path(\"achieve.zip\")\n",
    "\n",
    "with zipfile.ZipFile(achieve_path, \"w\") as zf:\n",
    "    for path in filepath.rglob(\"*txt\"):\n",
    "        if path.is_file():\n",
    "            zf.write(path)\n",
    "            path.unlink()"
   ]
  },
  {
   "cell_type": "code",
   "execution_count": null,
   "id": "b660e08e-6d71-4aa7-9f6d-d91cd7248094",
   "metadata": {},
   "outputs": [],
   "source": [
    "from pathlib import Path\n",
    "\n",
    "filepath = Path(\"files\")\n",
    "\n",
    "for i in range(10, 21):\n",
    "    new_file = filepath / (str(i) + \".txt\")\n",
    "    new_file.touch()"
   ]
  },
  {
   "cell_type": "markdown",
   "id": "8e66bef7-232a-4727-aee2-d6c9ae914a59",
   "metadata": {},
   "source": [
    "# Step by step "
   ]
  },
  {
   "cell_type": "code",
   "execution_count": 22,
   "id": "ac086706-1c58-4b0a-9b12-4660b34cd8a8",
   "metadata": {},
   "outputs": [],
   "source": [
    "from pathlib import Path\n",
    "import zipfile"
   ]
  },
  {
   "cell_type": "code",
   "execution_count": 20,
   "id": "bd1d8a20-8104-42e4-bd5f-a80bb269388f",
   "metadata": {},
   "outputs": [],
   "source": [
    "filepath = Path(\"files\")"
   ]
  },
  {
   "cell_type": "code",
   "execution_count": 21,
   "id": "1e2fb74e-315f-4326-bfdd-971af449450e",
   "metadata": {},
   "outputs": [],
   "source": [
    "for i in range(10, 21):\n",
    "    new_file = filepath / (str(i) + \".txt\")\n",
    "    new_file.touch()"
   ]
  },
  {
   "cell_type": "code",
   "execution_count": 23,
   "id": "c7382a12-5ecc-4047-852b-66d1fdfdcc30",
   "metadata": {},
   "outputs": [],
   "source": [
    "filepath = Path(\"files\")"
   ]
  },
  {
   "cell_type": "code",
   "execution_count": 25,
   "id": "75f7c9a7-2313-4e8f-ab7c-48f9db3847fe",
   "metadata": {},
   "outputs": [],
   "source": [
    "achieve_path = filepath / Path(\"achieve.zip\")"
   ]
  },
  {
   "cell_type": "code",
   "execution_count": 28,
   "id": "27ce0ed3-d8ac-48bc-9caf-d621a8735d0d",
   "metadata": {},
   "outputs": [],
   "source": [
    "with zipfile.ZipFile(achieve_path, \"w\") as zf:\n",
    "    for path in filepath.rglob(\"*txt\"):\n",
    "        if path.is_file():\n",
    "            zf.write(path)\n",
    "            path.unlink()"
   ]
  },
  {
   "cell_type": "code",
   "execution_count": null,
   "id": "5080d0d0-87a0-4545-aa11-655153b8d95f",
   "metadata": {},
   "outputs": [],
   "source": []
  }
 ],
 "metadata": {
  "kernelspec": {
   "display_name": "Python 3 (ipykernel)",
   "language": "python",
   "name": "python3"
  },
  "language_info": {
   "codemirror_mode": {
    "name": "ipython",
    "version": 3
   },
   "file_extension": ".py",
   "mimetype": "text/x-python",
   "name": "python",
   "nbconvert_exporter": "python",
   "pygments_lexer": "ipython3",
   "version": "3.9.16"
  }
 },
 "nbformat": 4,
 "nbformat_minor": 5
}
