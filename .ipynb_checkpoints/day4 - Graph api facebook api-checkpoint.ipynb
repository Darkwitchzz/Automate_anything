{
 "cells": [
  {
   "cell_type": "code",
   "execution_count": 16,
   "id": "aaa3be0a-76e7-42d6-a75b-64f84e206f06",
   "metadata": {},
   "outputs": [],
   "source": [
    "import requests\n",
    "import json\n",
    "\n",
    "url = \"your graph api\"\n",
    "\n",
    "response = requests.get(url)\n",
    "data = response.text\n",
    "\n",
    "data = json.loads(data)\n",
    "image_url = data[\"picture\"][\"data\"][\"url\"]\n",
    "image_byte = requests.get(image_url).content\n",
    "\n",
    "with open(\"image.jpg\", \"wb\") as file:\n",
    "    file.write(image_byte)"
   ]
  },
  {
   "cell_type": "markdown",
   "id": "f61bef5f-f32f-45f7-9d66-f2492dd8f7f9",
   "metadata": {},
   "source": [
    "# Step by step"
   ]
  },
  {
   "cell_type": "code",
   "execution_count": 9,
   "id": "c796608e-bba5-4aca-9556-8a2df3f1a6aa",
   "metadata": {},
   "outputs": [],
   "source": [
    "url = \"your graph api\""
   ]
  },
  {
   "cell_type": "code",
   "execution_count": 10,
   "id": "38cb6aa8-2986-432f-b596-40abf077b7c0",
   "metadata": {},
   "outputs": [
    {
     "data": {
      "text/plain": [
       "<Response [200]>"
      ]
     },
     "execution_count": 10,
     "metadata": {},
     "output_type": "execute_result"
    }
   ],
   "source": [
    "response = requests.get(url)\n",
    "response"
   ]
  },
  {
   "cell_type": "code",
   "execution_count": 20,
   "id": "11f7efb1-9b9c-4445-8ebd-35beff7c43f5",
   "metadata": {},
   "outputs": [],
   "source": [
    "data = response.text"
   ]
  },
  {
   "cell_type": "code",
   "execution_count": 21,
   "id": "2412f974-ea5c-4165-a174-46c4aa6e2cae",
   "metadata": {},
   "outputs": [],
   "source": [
    "data = json.loads(data)"
   ]
  },
  {
   "cell_type": "code",
   "execution_count": 1,
   "id": "7dfd245d-20c1-487f-8daf-8453ef5af241",
   "metadata": {},
   "outputs": [],
   "source": [
    "data"
   ]
  },
  {
   "cell_type": "code",
   "execution_count": 27,
   "id": "26c10bdb-8e3a-4f44-b4bf-a5f9487a90b9",
   "metadata": {},
   "outputs": [],
   "source": [
    "image_url = data[\"picture\"][\"data\"][\"url\"]"
   ]
  },
  {
   "cell_type": "code",
   "execution_count": 29,
   "id": "b677f2d9-761c-4e17-907a-52fa994236d6",
   "metadata": {},
   "outputs": [],
   "source": [
    "image_byte = requests.get(image_url).content"
   ]
  },
  {
   "cell_type": "code",
   "execution_count": 30,
   "id": "352dd1d6-9c2a-440a-80f3-c6410c687b31",
   "metadata": {},
   "outputs": [],
   "source": [
    "with open(\"image.jpg\", \"wb\") as file:\n",
    "    file.write(image_byte)"
   ]
  },
  {
   "cell_type": "code",
   "execution_count": null,
   "id": "8c255a61-b80f-4cc2-adb3-c53c72e5d218",
   "metadata": {},
   "outputs": [],
   "source": []
  }
 ],
 "metadata": {
  "kernelspec": {
   "display_name": "Python 3 (ipykernel)",
   "language": "python",
   "name": "python3"
  },
  "language_info": {
   "codemirror_mode": {
    "name": "ipython",
    "version": 3
   },
   "file_extension": ".py",
   "mimetype": "text/x-python",
   "name": "python",
   "nbconvert_exporter": "python",
   "pygments_lexer": "ipython3",
   "version": "3.9.16"
  }
 },
 "nbformat": 4,
 "nbformat_minor": 5
}
