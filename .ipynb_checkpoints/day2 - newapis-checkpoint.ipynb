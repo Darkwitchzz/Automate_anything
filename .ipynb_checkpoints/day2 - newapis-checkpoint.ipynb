{
 "cells": [
  {
   "cell_type": "code",
   "execution_count": 78,
   "id": "6e42dd45-34f9-4197-962a-5c3a299ad2ab",
   "metadata": {},
   "outputs": [],
   "source": [
    "import requests\n",
    "\n",
    "def get_news(topic, from_date, to_date):\n",
    "\n",
    "    api_key = \"b9d56d20a7794126a976c0d66c9b322b\"\n",
    "    website = f\"https://newsapi.org/v2/everything?q={topic}&from={from_date}&to={to_date}&language=en&sortBy=popularity&apiKey=b9d56d20a7794126a976c0d66c9b322b\"\n",
    "\n",
    "    response = requests.get(website)\n",
    "    articles = response.json()[\"articles\"]\n",
    "    news = []\n",
    "\n",
    "    for article in articles:\n",
    "        news.append(f\"Tile : {article['title']}\\nDescription : {article['description']}\\nSource : {article['url']}\\n\")\n",
    "        # print(f\"Tile : {article['title']}\\nDescription : {article['description']}\\nSource : {article['url']}\\n\")\n",
    "\n",
    "    return news\n",
    "\n",
    "def get_headlines(country, category=\"business\"):\n",
    "    '''\n",
    "    The category you want to get headlines for. \n",
    "    Possible options: business, entertainment, general, health, science, sports, technology\n",
    "    Defalth business\n",
    "    '''\n",
    "    api_key = \"b9d56d20a7794126a976c0d66c9b322b\"\n",
    "    website = f\"https://newsapi.org/v2/top-headlines?country={country}&category={category}&apiKey=b9d56d20a7794126a976c0d66c9b322b\"\n",
    "\n",
    "    response = requests.get(website)\n",
    "    articles = response.json()[\"articles\"]\n",
    "    news = []\n",
    "\n",
    "    for article in articles:\n",
    "        news.append(f\"Tile : {article['title']}\\nDescription : {article['description']}\\nSource : {article['url']}\\n\")\n",
    "        # print(f\"Tile : {article['title']}\\nDescription : {article['description']}\\nSource : {article['url']}\\n\")\n",
    "\n",
    "    return news\n",
    "\n",
    "    \n",
    "        "
   ]
  },
  {
   "cell_type": "code",
   "execution_count": 63,
   "id": "7ca01dcc-94b8-44dc-9f65-a7ea93076e56",
   "metadata": {},
   "outputs": [],
   "source": [
    "topic = \"arbitrum\"\n",
    "from_date = \"2025-05-08\"\n",
    "to_date = \"2025-05-09\""
   ]
  },
  {
   "cell_type": "code",
   "execution_count": 68,
   "id": "353ce215-35c8-48a9-90c6-a8bd0648ba6a",
   "metadata": {},
   "outputs": [],
   "source": [
    "news_list = get_news(topic, from_date, to_date)"
   ]
  },
  {
   "cell_type": "code",
   "execution_count": 69,
   "id": "5d73653d-33eb-48d7-9e4b-c8d6b0898c04",
   "metadata": {},
   "outputs": [
    {
     "name": "stdout",
     "output_type": "stream",
     "text": [
      "Tile : Ether-Bitcoin Ratio Signals ETH is 'Extremely Undervalued,' But Headwinds Remain: CryptoQuant\n",
      "Description : Undervaluation signals have previously preceded ETH rallies, but surging supply, flat demand, and weakened burn mechanics complicate the outlook.\n",
      "Source : https://www.coindesk.com/markets/2025/05/08/ether-bitcoin-ratio-signals-eth-is-extremely-undervalued-but-headwinds-remain-cryptoquant\n",
      "\n",
      "Tile : Solana price gained 500% the last time this SOL metric turned bullish\n",
      "Description : Key Takeaways:<ul><li>Solana's 15% surge and potential close above the 50-week EMA signal strong bullish momentum, which previously led to a 515% rally in 2024. \n",
      "</li><li>The $120 million in liquidity bridged to Solana reflects growing network confidence.\n",
      "<…\n",
      "Source : https://cointelegraph.com/news/solana-price-gained-500-the-last-time-this-sol-metric-turned-bullish\n",
      "\n",
      "Tile : Are layer 2s good for Ethereum, or are they ‘extractive?’\n",
      "Description : Layer 2s have been a great blockchain success story. They’ve reduced congestion on the Ethereum mainnet, driving down gas fees while preserving security.But maybe they’ve become too successful, drawing chain activity and fee income from the parent that spawne…\n",
      "Source : https://cointelegraph.com/news/layer-2s-good-for-ethereum-or-extractive\n",
      "\n",
      "Tile : Sweat wallet adds AI assistant, expands to multichain DeFi\n",
      "Description : Sweat, a move-to-earn platform that rewards users for physical activity, has launched a personalized AI agent and expanded its multichain infrastructure. The update is designed to improve user onboarding by offering interactive guidance and simplifying asset …\n",
      "Source : https://cointelegraph.com/news/sweat-wallet-launches-ai-agent-mia-crosschain-defi\n",
      "\n",
      "Tile : Ethereum Staking Surges Post-Pectra—Is a Bullish Breakout Brewing?\n",
      "Description : Ethereum’s price has seen a moderate recovery over the past week, tracking closely with the broader crypto market’s positive momentum. At the time of writing, ETH is trading at $1,820, reflecting a 3.3% increase over the last seven days and a 2.5% gain in the…\n",
      "Source : http://www.newsbtc.com/news/ethereum/ethereum-staking-surges-post-pectra-is-a-bullish-breakout-brewing/\n",
      "\n",
      "Tile : Robinhood Is Bringing US Securities On-Chain in Europe – Boost for Altcoins\n",
      "Description : Robinhood is about to shake up the finance world again. The trading app is planning to build its own blockchain platform to enable European investors to trade tokenized U.S. securities. The idea is as bold as it is historic: turn stocks and ETFs into blockcha…\n",
      "Source : https://bitcoinist.com/robinhood-is-bringing-us-securities-on-chain-in-europe-boost-for-altcoins/\n",
      "\n",
      "Tile : New T-Rex Blockchain Raises $17 Million to Redefine the Web3 Attention Layer\n",
      "Description : A new purpose-built blockchain, T-Rex, has raised $17 million to revolutionize online content publishing by seamlessly rewarding consumers for everyday interactions on social platforms. The blockchain built for entertainment, content, and cultural virality wi…\n",
      "Source : https://zycrypto.com/new-t-rex-blockchain-raises-17-million-to-redefine-the-web3-attention-layer/\n",
      "\n",
      "Tile : New Purpose-Built Blockchain T-Rex Raises $17 Million To Transform Attention Layer in Web 3.0\n",
      "Description : May 9, 2025 – Hong Kong, China Launching summer 2025, T-Rex’s built-in distribution engine introduces a radically simple idea – rewarding people seamlessly for doing what they already love online. T-Rex, a purpose-built blockchain for entertainment, content a…\n",
      "Source : https://dailyhodl.com/2025/05/08/new-purpose-built-blockchain-t-rex-raises-17-million-to-transform-attention-layer-in-web-3-0/\n",
      "\n",
      "Tile : New Purpose-Built Blockchain T-Rex Raises $17 Million to Transform Attention Layer in Web3\n",
      "Description : May 9th, 2025 – Hong Kong, Hong Kong Launching Summer 2025, T-Rex’s built-in distribution engine introduces a radically simple idea: rewarding people seamlessly for doing what they already love online. T-Rex, a purpose-built blockchain for entertainment, cont…\n",
      "Source : https://dailyhodl.com/2025/05/08/new-purpose-built-blockchain-t-rex-raises-17-million-to-transform-attention-layer-in-web3/\n",
      "\n",
      "Tile : Arbitrum DAO approves 35 million ARB allocation to tokenized US Treasurys from Franklin Templeton, Spiko, and WisdomTree\n",
      "Description : Around $11.6 million of Arbitrum's treasury will now be allocated to Franklin Templeton's FOBXX, Spiko's USTBL, and WisdomTree's WTGXX.\n",
      "Source : https://biztoc.com/x/5d844b88bdf3d3b1\n",
      "\n",
      "Tile : Move-to-Earn Game 'Sweat' Reveals AI Agent Amid Multi-Chain Expansion\n",
      "Description : The Sweat app, which pays you crypto for the steps you take, is now leaning into AI as its token expands out to additional chains.\n",
      "Source : https://decrypt.co/318475/move-earn-game-sweat-ai-agent-multi-chain\n",
      "\n",
      "Tile : Solana unveils bold plan to rival Nasdaq – Will this help SOL cross $200?\n",
      "Description : What's next for SOL as the race for on-chain issuance of stocks heats up?\n",
      "Source : https://ambcrypto.com/solana-unveils-bold-plan-to-rival-nasdaq-will-this-help-sol-cross-200/\n",
      "\n",
      "Tile : Robinhood to bring tokenisation to Europe\n",
      "Description : US-based stock trading app Robinhood is planning to expand its European presence by offering investors in the region access to tokenised US securities.\n",
      "Source : https://www.finextra.com/newsarticle/45952/robinhood-to-bring-tokenisation-to-europe\n",
      "\n"
     ]
    }
   ],
   "source": [
    "for news in news_list:\n",
    "    print(news)"
   ]
  },
  {
   "cell_type": "code",
   "execution_count": 75,
   "id": "3e857190-61aa-40c2-983f-ebe16d8fd8be",
   "metadata": {},
   "outputs": [],
   "source": [
    "country = \"us\""
   ]
  },
  {
   "cell_type": "code",
   "execution_count": 80,
   "id": "1fe18621-5616-48e3-9e84-e7bf36ddee61",
   "metadata": {},
   "outputs": [],
   "source": [
    "headlines = get_headlines(country)"
   ]
  },
  {
   "cell_type": "code",
   "execution_count": 81,
   "id": "88190dca-dbad-446e-8b79-69227b4d188d",
   "metadata": {},
   "outputs": [
    {
     "name": "stdout",
     "output_type": "stream",
     "text": [
      "Tile : Europe stocks rise as investors look ahead to U.S.-China trade talks in Switzerland - CNBC\n",
      "Description : European stocks opened higher on Friday as investors look forward to the U.S.-China trade talks set to begin this weekend in Switzerland.\n",
      "Source : https://www.cnbc.com/2025/05/09/europe-stocks-set-to-as-investors-look-ahead-to-us-china-trade-talks.html\n",
      "\n",
      "Tile : Treasury Secretary Bessent Blasts Senate for Blocking GENIUS Stablecoin Bill - Decrypt\n",
      "Description : Scott Bessent has slammed the Senate for blocking the GENIUS Act, warning it weakens U.S. crypto leadership ahead of the 2026 midterms.\n",
      "Source : https://decrypt.co/318730/treasury-secretary-bessent-blasts-senate-failing-stablecoin-bill\n",
      "\n",
      "Tile : CNBC Daily Open: London markets didn't seem to view the U.K.-U.S. trade deal positively - CNBC\n",
      "Description : Specifics of the plan were not announced, but it does seem unbalanced, at least based on the fact that a 10% tariff will remain on all U.K. imports.\n",
      "Source : https://www.cnbc.com/2025/05/09/cnbc-daily-open-london-markets-didnt-like-the-uk-us-trade-deal.html\n",
      "\n",
      "Tile : Trump Team Seeks Tariff Cuts, Rare Earths Relief in China Talks - Yahoo Finance\n",
      "Description : (Bloomberg) -- Supply Lines is a daily newsletter that tracks global trade. Sign up here.Most Read from BloombergIs Trump’s Plan to Reopen the Notorious...\n",
      "Source : https://finance.yahoo.com/news/trump-team-seeks-tariff-cuts-053233874.html\n",
      "\n",
      "Tile : China reports bumper April exports ahead of crucial trade talks with US - Financial Times\n",
      "Description : Trade data shows a rise in shipments to south-east Asia and Europe offsets drop to America\n",
      "Source : https://www.ft.com/content/fd98d384-fa82-489e-8f50-0ff84214733c\n",
      "\n",
      "Tile : Watch These Bitcoin Price Levels as Cryptocurrency Reclaims $100,000 Level - Investopedia\n",
      "Description : Bitcoin surged above the closely watched $100,000 level on Thursday for the first time since early February. These are the important support and resistance levels to monitor.\n",
      "Source : https://www.investopedia.com/watch-these-bitcoin-price-levels-as-cryptocurrency-reclaims-usd100k-level-11731488\n",
      "\n",
      "Tile : Jeff Bezos wanted to break down the impact of tariffs on Amazon's prices: one phone call was enough to make him backtrack. - Farmingdale Observer\n",
      "Description : It all started with a report on Tuesday morning by the website Punchbowl: Amazon is reportedly planning to indicate, at the time of payment, the additional costs associated with customs tariffs imposed on products imported from China. A decision which, althou…\n",
      "Source : https://farmingdale-observer.com/2025/05/08/jeff-bezos-wanted-to-break-down-the-impact-of-tariffs-on-amazons-prices-one-phone-call-was-enough-to-make-him-backtrack/\n",
      "\n",
      "Tile : Celsius founder Alex Mashinsky sentenced to 12 years in prison - Financial Times\n",
      "Description : None\n",
      "Source : https://www.ft.com/content/0ab6d246-d4ac-4667-8e7b-3c05ff4fb164\n",
      "\n",
      "Tile : Coinbase shares fall after first-quarter revenue misses Wall Street estimates - CNBC\n",
      "Description : Earlier Thursday, Coinbase announced plans to buy Dubai-based Deribit, in an attempt to broaden its international business.\n",
      "Source : https://www.cnbc.com/2025/05/08/coinbase-coin-earnings-q1-2025.html\n",
      "\n",
      "Tile : Rocket Lab Partners With U.S. Air Force for Neutron Launch for Re-Entry Mission - Rocket Lab\n",
      "Description : *Long Beach, CALIF. May 8, 2025.* Rocket Lab USA, Inc. (Nasdaq: RKLB) (“Rocket Lab” or “the Company”), a global leader in launch services and space systems, today announced it will launch its new medium-lift reusable rocket Neutron for the U.S. Air Force Rese…\n",
      "Source : https://www.rocketlabusa.com/updates/rocket-lab-partners-with-u-s-air-force-for-neutron-launch-for-re-entry-mission/\n",
      "\n",
      "Tile : Adobe to Cut Software Price for US Government After DOGE Review - Bloomberg\n",
      "Description : Adobe Inc. will offer a package of its products to the government at a discounted rate following scrutiny on software spending by the Trump administration.\n",
      "Source : https://www.bloomberg.com/news/articles/2025-05-08/adobe-to-cut-software-price-for-us-government-after-doge-review\n",
      "\n",
      "Tile : McKesson Reports Fiscal 2025 Fourth Quarter and Full Year Results and Provides Fiscal 2026 Guidance; Announces Intent to Separate Medical-Surgical Solutions - McKesson\n",
      "Description : McKesson Corporation (NYSE:MCK) today announced results for the fourth quarter and fiscal year ended March 31, 2025.\n",
      "Source : https://www.mckesson.com/about-mckesson/newsroom/press-releases/2025/mckesson-reports-fiscal-2025-fourth-quarter-and-full-year-results/\n",
      "\n",
      "Tile : Cleveland-Cliffs Stock Tanks. Tariffs Haven’t Stopped Steel-Mill Shutdowns. - Barron's\n",
      "Description : None\n",
      "Source : https://www.barrons.com/articles/tariffs-steel-cleveland-cliffs-earnings-stock-c704d2e5\n",
      "\n",
      "Tile : Tariff Tracker: We're Watching Prices for 11 Products You Might Need to Buy - CNET\n",
      "Description : Worried about tariffs? See how President Trump's new import taxes are affecting the prices of popular products like iPhones, video games and coffee.\n",
      "Source : https://www.cnet.com/tech/tariff-tracker-were-watching-prices-for-11-products-you-might-need-to-buy/\n",
      "\n",
      "Tile : Trump Trade War: Shipping Giant Changes Outlook; Outlines Scenarios For U.S.-China Trade Talks - Investor's Business Daily\n",
      "Description : Maersk tweaked its 2025 global shipping volumes forecast amid \"U.S. centric rather than global\" trade tensions.\n",
      "Source : https://www.investors.com/news/trump-trade-war-shipping-outlook-maersk-u-s-china-trade-talks/\n",
      "\n",
      "Tile : Paramount Still Sees Skydance Deal Closing First Half Despite Noise; Streaming & Sports Buoy Q1 - Deadline\n",
      "Description : Paramount Global said it expects the Skydance merger to close in the first half despite noise as it reported solid quarterly earnings buoyed by streaming, sports ads.\n",
      "Source : http://deadline.com/2025/05/paramount-skydance-q1-earnings-streaming-sports-advertising-1236390377/\n",
      "\n",
      "Tile : U.S. Space Force narrows field in $100 million space laser terminal program - SpaceNews\n",
      "Description : WASHINGTON — The U.S. Space Force has advanced three companies — CACI, General Atomics and Viasat — to the next phase of a $100 million program aimed at developing laser-based space communication t…\n",
      "Source : http://spacenews.com/u-s-space-force-narrows-field-in-100-million-space-laser-terminal-program/\n",
      "\n",
      "Tile : Shopify Dips On Q1 Earnings Report, Updated 2025 Outlook - Investor's Business Daily\n",
      "Description : Shopify stock dipped after the e-commerce firm reported Q1 revenue that edged by estimates its June quarter outlook came in mixed amid higher investments.\n",
      "Source : https://www.investors.com/news/technology/shopify-stock-news-shopify-earnings-march2025/\n",
      "\n"
     ]
    }
   ],
   "source": [
    "for headline in headlines:\n",
    "    print(headline)"
   ]
  },
  {
   "cell_type": "code",
   "execution_count": null,
   "id": "7be1bde2-9571-438d-9b7b-3a5b50b21c0b",
   "metadata": {},
   "outputs": [],
   "source": []
  },
  {
   "cell_type": "markdown",
   "id": "cf12f7b6-35f7-48a0-8efc-45545888e11a",
   "metadata": {},
   "source": [
    "# Step by step"
   ]
  },
  {
   "cell_type": "code",
   "execution_count": 1,
   "id": "44d075d5-8cc9-4199-a2ba-058d72bb67ed",
   "metadata": {},
   "outputs": [],
   "source": [
    "api_key = \"b9d56d20a7794126a976c0d66c9b322b\""
   ]
  },
  {
   "cell_type": "code",
   "execution_count": 24,
   "id": "3cb89cc9-335f-4c07-86c0-4571fe56dcce",
   "metadata": {},
   "outputs": [],
   "source": [
    "q = \"arbitrum\"\n",
    "from_date = \"2025-05-08\"\n",
    "to_date = \"2025-05-09\""
   ]
  },
  {
   "cell_type": "code",
   "execution_count": 38,
   "id": "3451baea-d9e1-464e-b261-4c95f60e2459",
   "metadata": {},
   "outputs": [],
   "source": [
    "website = f\"https://newsapi.org/v2/everything?q={q}&from={from_date}&language=en&sortBy=popularity&apiKey=b9d56d20a7794126a976c0d66c9b322b\""
   ]
  },
  {
   "cell_type": "code",
   "execution_count": 39,
   "id": "056e12de-8310-4583-a30e-424df94fad23",
   "metadata": {},
   "outputs": [],
   "source": [
    "import requests"
   ]
  },
  {
   "cell_type": "code",
   "execution_count": 40,
   "id": "45c2405e-d81e-4fd2-8767-b194523c0a61",
   "metadata": {},
   "outputs": [],
   "source": [
    "response = requests.get(website)"
   ]
  },
  {
   "cell_type": "code",
   "execution_count": 43,
   "id": "252d084b-ebae-42db-818b-059e64860e3d",
   "metadata": {},
   "outputs": [],
   "source": [
    "articles = response.json()[\"articles\"]"
   ]
  },
  {
   "cell_type": "code",
   "execution_count": 47,
   "id": "9bcd4a06-61aa-441e-87e3-d5846747a251",
   "metadata": {},
   "outputs": [
    {
     "name": "stdout",
     "output_type": "stream",
     "text": [
      "Tile : Ether-Bitcoin Ratio Signals ETH is 'Extremely Undervalued,' But Headwinds Remain: CryptoQuant\n",
      "Description : Undervaluation signals have previously preceded ETH rallies, but surging supply, flat demand, and weakened burn mechanics complicate the outlook.\n",
      "Source : https://www.coindesk.com/markets/2025/05/08/ether-bitcoin-ratio-signals-eth-is-extremely-undervalued-but-headwinds-remain-cryptoquant\n",
      "\n",
      "Tile : Are layer 2s good for Ethereum, or are they ‘extractive?’\n",
      "Description : Layer 2s have been a great blockchain success story. They’ve reduced congestion on the Ethereum mainnet, driving down gas fees while preserving security.But maybe they’ve become too successful, drawing chain activity and fee income from the parent that spawne…\n",
      "Source : https://cointelegraph.com/news/layer-2s-good-for-ethereum-or-extractive\n",
      "\n",
      "Tile : Sweat wallet adds AI assistant, expands to multichain DeFi\n",
      "Description : Sweat, a move-to-earn platform that rewards users for physical activity, has launched a personalized AI agent and expanded its multichain infrastructure. The update is designed to improve user onboarding by offering interactive guidance and simplifying asset …\n",
      "Source : https://cointelegraph.com/news/sweat-wallet-launches-ai-agent-mia-crosschain-defi\n",
      "\n",
      "Tile : Ethereum Staking Surges Post-Pectra—Is a Bullish Breakout Brewing?\n",
      "Description : Ethereum’s price has seen a moderate recovery over the past week, tracking closely with the broader crypto market’s positive momentum. At the time of writing, ETH is trading at $1,820, reflecting a 3.3% increase over the last seven days and a 2.5% gain in the…\n",
      "Source : http://www.newsbtc.com/news/ethereum/ethereum-staking-surges-post-pectra-is-a-bullish-breakout-brewing/\n",
      "\n",
      "Tile : Robinhood Is Bringing US Securities On-Chain in Europe – Boost for Altcoins\n",
      "Description : Robinhood is about to shake up the finance world again. The trading app is planning to build its own blockchain platform to enable European investors to trade tokenized U.S. securities. The idea is as bold as it is historic: turn stocks and ETFs into blockcha…\n",
      "Source : https://bitcoinist.com/robinhood-is-bringing-us-securities-on-chain-in-europe-boost-for-altcoins/\n",
      "\n",
      "Tile : New Purpose-Built Blockchain T-Rex Raises $17 Million To Transform Attention Layer in Web 3.0\n",
      "Description : May 9, 2025 – Hong Kong, China Launching summer 2025, T-Rex’s built-in distribution engine introduces a radically simple idea – rewarding people seamlessly for doing what they already love online. T-Rex, a purpose-built blockchain for entertainment, content a…\n",
      "Source : https://dailyhodl.com/2025/05/08/new-purpose-built-blockchain-t-rex-raises-17-million-to-transform-attention-layer-in-web-3-0/\n",
      "\n",
      "Tile : New Purpose-Built Blockchain T-Rex Raises $17 Million to Transform Attention Layer in Web3\n",
      "Description : May 9th, 2025 – Hong Kong, Hong Kong Launching Summer 2025, T-Rex’s built-in distribution engine introduces a radically simple idea: rewarding people seamlessly for doing what they already love online. T-Rex, a purpose-built blockchain for entertainment, cont…\n",
      "Source : https://dailyhodl.com/2025/05/08/new-purpose-built-blockchain-t-rex-raises-17-million-to-transform-attention-layer-in-web3/\n",
      "\n",
      "Tile : Arbitrum DAO approves 35 million ARB allocation to tokenized US Treasurys from Franklin Templeton, Spiko, and WisdomTree\n",
      "Description : Around $11.6 million of Arbitrum's treasury will now be allocated to Franklin Templeton's FOBXX, Spiko's USTBL, and WisdomTree's WTGXX.\n",
      "Source : https://biztoc.com/x/5d844b88bdf3d3b1\n",
      "\n",
      "Tile : Move-to-Earn Game 'Sweat' Reveals AI Agent Amid Multi-Chain Expansion\n",
      "Description : The Sweat app, which pays you crypto for the steps you take, is now leaning into AI as its token expands out to additional chains.\n",
      "Source : https://decrypt.co/318475/move-earn-game-sweat-ai-agent-multi-chain\n",
      "\n",
      "Tile : Robinhood to bring tokenisation to Europe\n",
      "Description : US-based stock trading app Robinhood is planning to expand its European presence by offering investors in the region access to tokenised US securities.\n",
      "Source : https://www.finextra.com/newsarticle/45952/robinhood-to-bring-tokenisation-to-europe\n",
      "\n"
     ]
    }
   ],
   "source": [
    "for article in articles:\n",
    "    print(f\"Tile : {article['title']}\\nDescription : {article['description']}\\nSource : {article['url']}\\n\")"
   ]
  },
  {
   "cell_type": "code",
   "execution_count": 41,
   "id": "896fc48a-56f3-4b28-8854-f0a20bb36ae5",
   "metadata": {},
   "outputs": [
    {
     "data": {
      "text/plain": [
       "{'status': 'ok',\n",
       " 'totalResults': 10,\n",
       " 'articles': [{'source': {'id': None, 'name': 'CoinDesk'},\n",
       "   'author': 'Shaurya Malwa',\n",
       "   'title': \"Ether-Bitcoin Ratio Signals ETH is 'Extremely Undervalued,' But Headwinds Remain: CryptoQuant\",\n",
       "   'description': 'Undervaluation signals have previously preceded ETH rallies, but surging supply, flat demand, and weakened burn mechanics complicate the outlook.',\n",
       "   'url': 'https://www.coindesk.com/markets/2025/05/08/ether-bitcoin-ratio-signals-eth-is-extremely-undervalued-but-headwinds-remain-cryptoquant',\n",
       "   'urlToImage': 'https://cdn.sanity.io/images/s3y3vcno/production/e9dcf20160071d4dbba863134d9a3873c3a740a4-4104x2308.jpg?auto=format',\n",
       "   'publishedAt': '2025-05-08T12:23:42Z',\n",
       "   'content': 'The ether-bitcoin (ETH/BTC) ratio has reached an extremely undervalued zone in a move that flashes a historically bullish signal but traders betting on a sharp ether (ETH) recovery may want to pause.… [+2785 chars]'},\n",
       "  {'source': {'id': None, 'name': 'Cointelegraph'},\n",
       "   'author': 'Cointelegraph by Andrew Singer',\n",
       "   'title': 'Are layer 2s good for Ethereum, or are they ‘extractive?’',\n",
       "   'description': 'Layer 2s have been a great blockchain success story. They’ve reduced congestion on the Ethereum mainnet, driving down gas fees while preserving security.But maybe they’ve become too successful, drawing chain activity and fee income from the parent that spawne…',\n",
       "   'url': 'https://cointelegraph.com/news/layer-2s-good-for-ethereum-or-extractive',\n",
       "   'urlToImage': 'https://images.cointelegraph.com/cdn-cgi/image/format=auto,onerror=redirect,quality=90,width=1200/https://s3.cointelegraph.com/uploads/2024-11/01930755-0236-7dfa-ac92-a6863c93d8d9',\n",
       "   'publishedAt': '2025-05-08T17:00:00Z',\n",
       "   'content': 'Layer 2s have been a great blockchain success story. Theyve reduced congestion on the Ethereum mainnet, driving down gas fees while preserving security.\\r\\nBut maybe theyve become too successful, drawi… [+9664 chars]'},\n",
       "  {'source': {'id': None, 'name': 'Cointelegraph'},\n",
       "   'author': 'Cointelegraph by Lyne Qian',\n",
       "   'title': 'Sweat wallet adds AI assistant, expands to multichain DeFi',\n",
       "   'description': 'Sweat, a move-to-earn platform that rewards users for physical activity, has launched a personalized AI agent and expanded its multichain infrastructure. The update is designed to improve user onboarding by offering interactive guidance and simplifying asset …',\n",
       "   'url': 'https://cointelegraph.com/news/sweat-wallet-launches-ai-agent-mia-crosschain-defi',\n",
       "   'urlToImage': 'https://images.cointelegraph.com/cdn-cgi/image/format=auto,onerror=redirect,quality=90,width=1200/https://s3.cointelegraph.com/uploads/2025-01/019442a8-633c-7c18-a6b0-8925662fe401',\n",
       "   'publishedAt': '2025-05-08T12:49:36Z',\n",
       "   'content': 'Sweat, a move-to-earn platform that rewards users for physical activity, has launched a personalized AI agent and expanded its multichain infrastructure. The update is designed to improve user onboar… [+3316 chars]'},\n",
       "  {'source': {'id': None, 'name': 'newsBTC'},\n",
       "   'author': 'Samuel Edyme',\n",
       "   'title': 'Ethereum Staking Surges Post-Pectra—Is a Bullish Breakout Brewing?',\n",
       "   'description': 'Ethereum’s price has seen a moderate recovery over the past week, tracking closely with the broader crypto market’s positive momentum. At the time of writing, ETH is trading at $1,820, reflecting a 3.3% increase over the last seven days and a 2.5% gain in the…',\n",
       "   'url': 'http://www.newsbtc.com/news/ethereum/ethereum-staking-surges-post-pectra-is-a-bullish-breakout-brewing/',\n",
       "   'urlToImage': 'https://www.newsbtc.com/wp-content/uploads/2025/05/DALL·E-2025-05-07-17.47.47-A-symbolic-and-modern-digital-illustration-showing-a-surge-in-Ethereum-staking-following-the-Pectra-upgrade-suggesting-a-potential-bullish-breakout.-.jpg?fit=1024%2C1024',\n",
       "   'publishedAt': '2025-05-08T10:00:10Z',\n",
       "   'content': 'Strict editorial policy that focuses on accuracy, relevance, and impartiality\\r\\nCreated by industry experts and meticulously reviewed\\r\\nThe highest standards in reporting and publishing\\r\\nStrict editori… [+3544 chars]'},\n",
       "  {'source': {'id': None, 'name': 'Bitcoinist'},\n",
       "   'author': 'Bitcoinist',\n",
       "   'title': 'Robinhood Is Bringing US Securities On-Chain in Europe – Boost for Altcoins',\n",
       "   'description': 'Robinhood is about to shake up the finance world again. The trading app is planning to build its own blockchain platform to enable European investors to trade tokenized U.S. securities. The idea is as bold as it is historic: turn stocks and ETFs into blockcha…',\n",
       "   'url': 'https://bitcoinist.com/robinhood-is-bringing-us-securities-on-chain-in-europe-boost-for-altcoins/',\n",
       "   'urlToImage': 'https://bitcoinist.com/wp-content/uploads/2025/05/robinhood-is-bringing-us-securities-on-chain-in-europe-boost-for-altcoins.jpg',\n",
       "   'publishedAt': '2025-05-08T11:37:03Z',\n",
       "   'content': 'Robinhood is about to shake up the finance world again. The trading app is planning to build its own blockchain platform to enable European investors to trade tokenized U.S. securities.\\r\\nThe idea is … [+6435 chars]'},\n",
       "  {'source': {'id': None, 'name': 'The Daily Hodl'},\n",
       "   'author': 'Chainwire',\n",
       "   'title': 'New Purpose-Built Blockchain T-Rex Raises $17 Million To Transform Attention Layer in Web 3.0',\n",
       "   'description': 'May 9, 2025 – Hong Kong, China Launching summer 2025, T-Rex’s built-in distribution engine introduces a radically simple idea – rewarding people seamlessly for doing what they already love online. T-Rex, a purpose-built blockchain for entertainment, content a…',\n",
       "   'url': 'https://dailyhodl.com/2025/05/08/new-purpose-built-blockchain-t-rex-raises-17-million-to-transform-attention-layer-in-web-3-0/',\n",
       "   'urlToImage': 'https://dailyhodl.com/wp-content/uploads/2025/05/20250509-014924_1746726796zHpDsOeodZ.jpg',\n",
       "   'publishedAt': '2025-05-09T03:07:01Z',\n",
       "   'content': 'May 9, 2025 Hong Kong, China\\r\\nLaunching summer 2025, T-Rexs built-in distribution engine introduces a radically simple idea rewarding people seamlessly for doing what they already love online.\\r\\nT-Rex… [+7513 chars]'},\n",
       "  {'source': {'id': None, 'name': 'The Daily Hodl'},\n",
       "   'author': 'Chainwire',\n",
       "   'title': 'New Purpose-Built Blockchain T-Rex Raises $17 Million to Transform Attention Layer in Web3',\n",
       "   'description': 'May 9th, 2025 – Hong Kong, Hong Kong Launching Summer 2025, T-Rex’s built-in distribution engine introduces a radically simple idea: rewarding people seamlessly for doing what they already love online. T-Rex,\\xa0a purpose-built blockchain for entertainment, cont…',\n",
       "   'url': 'https://dailyhodl.com/2025/05/08/new-purpose-built-blockchain-t-rex-raises-17-million-to-transform-attention-layer-in-web3/',\n",
       "   'urlToImage': 'https://dailyhodl.com/wp-content/uploads/2025/05/20250509-014924_1746726796zHpDsOeodZ.jpg',\n",
       "   'publishedAt': '2025-05-09T03:07:01Z',\n",
       "   'content': 'May 9th, 2025 Hong Kong, Hong Kong\\r\\nLaunching Summer 2025, T-Rexs built-in distribution engine introduces a radically simple idea: rewarding people seamlessly for doing what they already love online.… [+7643 chars]'},\n",
       "  {'source': {'id': None, 'name': 'Biztoc.com'},\n",
       "   'author': 'theblock.co',\n",
       "   'title': 'Arbitrum DAO approves 35 million ARB allocation to tokenized US Treasurys from Franklin Templeton, Spiko, and WisdomTree',\n",
       "   'description': \"Around $11.6 million of Arbitrum's treasury will now be allocated to Franklin Templeton's FOBXX, Spiko's USTBL, and WisdomTree's WTGXX.\",\n",
       "   'url': 'https://biztoc.com/x/5d844b88bdf3d3b1',\n",
       "   'urlToImage': 'https://biztoc.com/cdn/5d844b88bdf3d3b1_s.webp',\n",
       "   'publishedAt': '2025-05-08T13:05:49Z',\n",
       "   'content': \"Around $11.6 million of Arbitrum's treasury will now be allocated to Franklin Templeton's FOBXX, Spiko's USTBL, and WisdomTree's WTGXX.\\r\\nThis story appeared on theblock.co, 2025-05-08 13:00:00.\"},\n",
       "  {'source': {'id': None, 'name': 'Decrypt'},\n",
       "   'author': 'Logan Hitchcock',\n",
       "   'title': \"Move-to-Earn Game 'Sweat' Reveals AI Agent Amid Multi-Chain Expansion\",\n",
       "   'description': 'The Sweat app, which pays you crypto for the steps you take, is now leaning into AI as its token expands out to additional chains.',\n",
       "   'url': 'https://decrypt.co/318475/move-earn-game-sweat-ai-agent-multi-chain',\n",
       "   'urlToImage': 'https://cdn.decrypt.co/resize/1024/height/512/wp-content/uploads/2020/09/four-runners-feet-gID_7.jpg',\n",
       "   'publishedAt': '2025-05-08T12:35:16Z',\n",
       "   'content': 'In brief\\r\\n<ul><li>Move-to-earn protocol Sweat is adding an AI agent and going multi-chain with its token. </li><li>The AI agent, Mia, will assist users with fitness and finance via a simple chat inte… [+3251 chars]'},\n",
       "  {'source': {'id': None, 'name': 'Finextra'},\n",
       "   'author': 'Editorial Team',\n",
       "   'title': 'Robinhood to bring tokenisation to Europe',\n",
       "   'description': 'US-based stock trading app Robinhood is planning to expand its European presence by offering investors in the region access to tokenised US securities.',\n",
       "   'url': 'https://www.finextra.com/newsarticle/45952/robinhood-to-bring-tokenisation-to-europe',\n",
       "   'urlToImage': 'https://www.finextra.com/finextra-images/top_pics/xl/robin-hood-statue-we-are-the-romans-hr-captioned-01-002.jpg',\n",
       "   'publishedAt': '2025-05-08T10:35:43Z',\n",
       "   'content': 'US-based stock trading app Robinhood is planning to expand its European presence by offering investors in the region access to tokenised US securities.According to a Bloomberg report, Robinhood is pl… [+1665 chars]'}]}"
      ]
     },
     "execution_count": 41,
     "metadata": {},
     "output_type": "execute_result"
    }
   ],
   "source": [
    "response.json()"
   ]
  },
  {
   "cell_type": "code",
   "execution_count": null,
   "id": "35105872-b87f-4adf-bf9b-743d76371457",
   "metadata": {},
   "outputs": [],
   "source": []
  }
 ],
 "metadata": {
  "kernelspec": {
   "display_name": "Python 3 (ipykernel)",
   "language": "python",
   "name": "python3"
  },
  "language_info": {
   "codemirror_mode": {
    "name": "ipython",
    "version": 3
   },
   "file_extension": ".py",
   "mimetype": "text/x-python",
   "name": "python",
   "nbconvert_exporter": "python",
   "pygments_lexer": "ipython3",
   "version": "3.9.16"
  }
 },
 "nbformat": 4,
 "nbformat_minor": 5
}
