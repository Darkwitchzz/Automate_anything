{
 "cells": [
  {
   "cell_type": "code",
   "execution_count": null,
   "id": "746118a0-f9b8-4ea6-9996-27e92877aa72",
   "metadata": {},
   "outputs": [],
   "source": [
    "import requests\n",
    "from datetime import datetime\n",
    "\n",
    "api_key = \"14d30d2565feac09e56d5bf136a69f59\"\n",
    "# city = \"Bangkok\"\n",
    "\n",
    "def get_weather_forecast(city):\n",
    "\n",
    "    # Get latitude and longtitude from city\n",
    "    city_url = f\"http://api.openweathermap.org/geo/1.0/direct?q={city}&limit=5&appid={api_key}\"\n",
    "    response = requests.get(city_url)\n",
    "    lat = response.json()[0][\"lat\"]\n",
    "    lon = response.json()[0][\"lon\"]\n",
    "    \n",
    "    # Use latitude and longtitude to forecast weather\n",
    "    weather_url = f\"http://api.openweathermap.org/data/2.5/forecast?lat={lat}&lon={lon}&units=metric&appid={api_key}\"\n",
    "    response = requests.get(weather_url)\n",
    "    weather_data = response.json()[\"list\"]\n",
    "\n",
    "    weather_list = []\n",
    "    \n",
    "    for weather in weather_data:\n",
    "        timestamps = datetime.fromtimestamp(weather[\"dt\"])\n",
    "        temp = weather[\"main\"][\"temp\"]\n",
    "        cond = weather[\"weather\"][0][\"description\"]\n",
    "        weather_list.append(f\"{city},{timestamps},{temp},{cond}\")\n",
    "        # print(f\"City : {city} | Time : {timestamps} | Temperature : {temp} | Condition : {cond}\")\n",
    "\n",
    "    # Write forecasted weather to text file\n",
    "    with open(\"data.txt\", \"w\") as file:\n",
    "    pass\n",
    "\n",
    "    with open(\"data.txt\", \"a\") as file:\n",
    "        file.write(\"City,Time,Temperature,Condition\\n\")\n",
    "    \n",
    "        for timestamp in weather_list:\n",
    "            file.write(timestamp + \"\\n\")\n",
    "\n",
    "    print(\"Forecast Success!!\")\n",
    "    \n",
    "\n",
    "\n",
    "\n"
   ]
  },
  {
   "cell_type": "code",
   "execution_count": 16,
   "id": "f158f776-5d69-4b98-95a4-4640b318a7e9",
   "metadata": {},
   "outputs": [],
   "source": [
    "api_key = \"14d30d2565feac09e56d5bf136a69f59\""
   ]
  },
  {
   "cell_type": "code",
   "execution_count": 46,
   "id": "fb05d0a7-eefd-4145-90fa-59092e350753",
   "metadata": {},
   "outputs": [],
   "source": [
    "import requests\n",
    "from datetime import datetime"
   ]
  },
  {
   "cell_type": "code",
   "execution_count": 57,
   "id": "9b80ec0d-4169-40d7-96ed-b1cd4dfd4bfb",
   "metadata": {},
   "outputs": [],
   "source": [
    "city = \"Bangkok\""
   ]
  },
  {
   "cell_type": "code",
   "execution_count": 58,
   "id": "06d3fdbf-a32d-43b4-9470-d103290c8901",
   "metadata": {},
   "outputs": [],
   "source": [
    "city_url = f\"http://api.openweathermap.org/geo/1.0/direct?q={city}&limit=5&appid={api_key}\""
   ]
  },
  {
   "cell_type": "code",
   "execution_count": 59,
   "id": "09dd86b8-a8ec-4464-81fc-3e738ffe518b",
   "metadata": {},
   "outputs": [],
   "source": [
    "response = requests.get(city_url)"
   ]
  },
  {
   "cell_type": "code",
   "execution_count": 60,
   "id": "b72e15da-dc4c-4987-8e99-39014969f81b",
   "metadata": {},
   "outputs": [],
   "source": [
    "lat = response.json()[0][\"lat\"]\n",
    "lon = response.json()[0][\"lon\"]"
   ]
  },
  {
   "cell_type": "code",
   "execution_count": 65,
   "id": "51f94d4f-e6de-4320-a9aa-d03d86735194",
   "metadata": {},
   "outputs": [],
   "source": [
    "weather_url = f\"http://api.openweathermap.org/data/2.5/forecast?lat={lat}&lon={lon}&units=metric&appid={api_key}\""
   ]
  },
  {
   "cell_type": "code",
   "execution_count": 66,
   "id": "ec87a467-ff61-4285-8a03-849e8a9f1774",
   "metadata": {},
   "outputs": [],
   "source": [
    "response = requests.get(weather_url)"
   ]
  },
  {
   "cell_type": "code",
   "execution_count": 67,
   "id": "2e2e89e3-10a4-4e0e-8e8e-81f6eaa0feb9",
   "metadata": {},
   "outputs": [],
   "source": [
    "weather_data = response.json()[\"list\"]"
   ]
  },
  {
   "cell_type": "markdown",
   "id": "8e8cbb53-16d5-4e20-93e9-ab7f3f62fb96",
   "metadata": {},
   "source": [
    "### City,Time,Temperature,Condition"
   ]
  },
  {
   "cell_type": "code",
   "execution_count": 71,
   "id": "dcda0e7f-94b7-424e-9db4-08b32e4d4e5c",
   "metadata": {},
   "outputs": [
    {
     "name": "stdout",
     "output_type": "stream",
     "text": [
      "City : Bangkok | Time : 2025-05-10 22:00:00 | Temperature : 24.44 | Condition : light rain\n",
      "City : Bangkok | Time : 2025-05-11 01:00:00 | Temperature : 25.35 | Condition : light rain\n",
      "City : Bangkok | Time : 2025-05-11 04:00:00 | Temperature : 26.78 | Condition : overcast clouds\n",
      "City : Bangkok | Time : 2025-05-11 07:00:00 | Temperature : 26.25 | Condition : overcast clouds\n",
      "City : Bangkok | Time : 2025-05-11 10:00:00 | Temperature : 30.88 | Condition : overcast clouds\n",
      "City : Bangkok | Time : 2025-05-11 13:00:00 | Temperature : 32.98 | Condition : light rain\n",
      "City : Bangkok | Time : 2025-05-11 16:00:00 | Temperature : 29.42 | Condition : moderate rain\n",
      "City : Bangkok | Time : 2025-05-11 19:00:00 | Temperature : 28.79 | Condition : light rain\n",
      "City : Bangkok | Time : 2025-05-11 22:00:00 | Temperature : 28.5 | Condition : light rain\n",
      "City : Bangkok | Time : 2025-05-12 01:00:00 | Temperature : 27.47 | Condition : moderate rain\n",
      "City : Bangkok | Time : 2025-05-12 04:00:00 | Temperature : 26.38 | Condition : light rain\n",
      "City : Bangkok | Time : 2025-05-12 07:00:00 | Temperature : 26.53 | Condition : light rain\n",
      "City : Bangkok | Time : 2025-05-12 10:00:00 | Temperature : 30.58 | Condition : overcast clouds\n",
      "City : Bangkok | Time : 2025-05-12 13:00:00 | Temperature : 33.19 | Condition : light rain\n",
      "City : Bangkok | Time : 2025-05-12 16:00:00 | Temperature : 31.14 | Condition : light rain\n",
      "City : Bangkok | Time : 2025-05-12 19:00:00 | Temperature : 29.57 | Condition : overcast clouds\n",
      "City : Bangkok | Time : 2025-05-12 22:00:00 | Temperature : 28.76 | Condition : overcast clouds\n",
      "City : Bangkok | Time : 2025-05-13 01:00:00 | Temperature : 28.41 | Condition : light rain\n",
      "City : Bangkok | Time : 2025-05-13 04:00:00 | Temperature : 28.07 | Condition : light rain\n",
      "City : Bangkok | Time : 2025-05-13 07:00:00 | Temperature : 27.47 | Condition : light rain\n",
      "City : Bangkok | Time : 2025-05-13 10:00:00 | Temperature : 27.93 | Condition : moderate rain\n",
      "City : Bangkok | Time : 2025-05-13 13:00:00 | Temperature : 30.37 | Condition : light rain\n",
      "City : Bangkok | Time : 2025-05-13 16:00:00 | Temperature : 29.12 | Condition : overcast clouds\n",
      "City : Bangkok | Time : 2025-05-13 19:00:00 | Temperature : 28.42 | Condition : light rain\n",
      "City : Bangkok | Time : 2025-05-13 22:00:00 | Temperature : 27.27 | Condition : light rain\n",
      "City : Bangkok | Time : 2025-05-14 01:00:00 | Temperature : 27.38 | Condition : overcast clouds\n",
      "City : Bangkok | Time : 2025-05-14 04:00:00 | Temperature : 27.41 | Condition : light rain\n",
      "City : Bangkok | Time : 2025-05-14 07:00:00 | Temperature : 27.17 | Condition : moderate rain\n",
      "City : Bangkok | Time : 2025-05-14 10:00:00 | Temperature : 26.61 | Condition : moderate rain\n",
      "City : Bangkok | Time : 2025-05-14 13:00:00 | Temperature : 27.19 | Condition : light rain\n",
      "City : Bangkok | Time : 2025-05-14 16:00:00 | Temperature : 27.48 | Condition : light rain\n",
      "City : Bangkok | Time : 2025-05-14 19:00:00 | Temperature : 27.07 | Condition : overcast clouds\n",
      "City : Bangkok | Time : 2025-05-14 22:00:00 | Temperature : 27.05 | Condition : overcast clouds\n",
      "City : Bangkok | Time : 2025-05-15 01:00:00 | Temperature : 26.6 | Condition : light rain\n",
      "City : Bangkok | Time : 2025-05-15 04:00:00 | Temperature : 25.61 | Condition : moderate rain\n",
      "City : Bangkok | Time : 2025-05-15 07:00:00 | Temperature : 25.81 | Condition : light rain\n",
      "City : Bangkok | Time : 2025-05-15 10:00:00 | Temperature : 25.77 | Condition : light rain\n",
      "City : Bangkok | Time : 2025-05-15 13:00:00 | Temperature : 26.34 | Condition : light rain\n",
      "City : Bangkok | Time : 2025-05-15 16:00:00 | Temperature : 25.92 | Condition : light rain\n",
      "City : Bangkok | Time : 2025-05-15 19:00:00 | Temperature : 25.66 | Condition : light rain\n"
     ]
    }
   ],
   "source": [
    "weather_list = []\n",
    "\n",
    "for weather in weather_data:\n",
    "    timestamps = datetime.fromtimestamp(weather[\"dt\"])\n",
    "    temp = weather[\"main\"][\"temp\"]\n",
    "    cond = weather[\"weather\"][0][\"description\"]\n",
    "    weather_list.append(f\"{city},{timestamps},{temp},{cond}\")\n",
    "    # print(f\"City : {city} | Time : {timestamps} | Temperature : {temp} | Condition : {cond}\")"
   ]
  },
  {
   "cell_type": "code",
   "execution_count": 72,
   "id": "2a895ae2-98d9-4ebc-95fc-a7da98a892ab",
   "metadata": {},
   "outputs": [],
   "source": [
    "weather_list = []\n",
    "\n",
    "for weather in weather_data:\n",
    "    timestamps = datetime.fromtimestamp(weather[\"dt\"])\n",
    "    temp = weather[\"main\"][\"temp\"]\n",
    "    cond = weather[\"weather\"][0][\"description\"]\n",
    "    weather_list.append(f\"{city},{timestamps},{temp},{cond}\")"
   ]
  },
  {
   "cell_type": "code",
   "execution_count": 74,
   "id": "2d844f06-dd51-4126-82e7-e7d393dfacd3",
   "metadata": {},
   "outputs": [
    {
     "data": {
      "text/plain": [
       "['Bangkok,2025-05-10 22:00:00,24.44,light rain',\n",
       " 'Bangkok,2025-05-11 01:00:00,25.35,light rain',\n",
       " 'Bangkok,2025-05-11 04:00:00,26.78,overcast clouds',\n",
       " 'Bangkok,2025-05-11 07:00:00,26.25,overcast clouds',\n",
       " 'Bangkok,2025-05-11 10:00:00,30.88,overcast clouds',\n",
       " 'Bangkok,2025-05-11 13:00:00,32.98,light rain',\n",
       " 'Bangkok,2025-05-11 16:00:00,29.42,moderate rain',\n",
       " 'Bangkok,2025-05-11 19:00:00,28.79,light rain',\n",
       " 'Bangkok,2025-05-11 22:00:00,28.5,light rain',\n",
       " 'Bangkok,2025-05-12 01:00:00,27.47,moderate rain',\n",
       " 'Bangkok,2025-05-12 04:00:00,26.38,light rain',\n",
       " 'Bangkok,2025-05-12 07:00:00,26.53,light rain',\n",
       " 'Bangkok,2025-05-12 10:00:00,30.58,overcast clouds',\n",
       " 'Bangkok,2025-05-12 13:00:00,33.19,light rain',\n",
       " 'Bangkok,2025-05-12 16:00:00,31.14,light rain',\n",
       " 'Bangkok,2025-05-12 19:00:00,29.57,overcast clouds',\n",
       " 'Bangkok,2025-05-12 22:00:00,28.76,overcast clouds',\n",
       " 'Bangkok,2025-05-13 01:00:00,28.41,light rain',\n",
       " 'Bangkok,2025-05-13 04:00:00,28.07,light rain',\n",
       " 'Bangkok,2025-05-13 07:00:00,27.47,light rain',\n",
       " 'Bangkok,2025-05-13 10:00:00,27.93,moderate rain',\n",
       " 'Bangkok,2025-05-13 13:00:00,30.37,light rain',\n",
       " 'Bangkok,2025-05-13 16:00:00,29.12,overcast clouds',\n",
       " 'Bangkok,2025-05-13 19:00:00,28.42,light rain',\n",
       " 'Bangkok,2025-05-13 22:00:00,27.27,light rain',\n",
       " 'Bangkok,2025-05-14 01:00:00,27.38,overcast clouds',\n",
       " 'Bangkok,2025-05-14 04:00:00,27.41,light rain',\n",
       " 'Bangkok,2025-05-14 07:00:00,27.17,moderate rain',\n",
       " 'Bangkok,2025-05-14 10:00:00,26.61,moderate rain',\n",
       " 'Bangkok,2025-05-14 13:00:00,27.19,light rain',\n",
       " 'Bangkok,2025-05-14 16:00:00,27.48,light rain',\n",
       " 'Bangkok,2025-05-14 19:00:00,27.07,overcast clouds',\n",
       " 'Bangkok,2025-05-14 22:00:00,27.05,overcast clouds',\n",
       " 'Bangkok,2025-05-15 01:00:00,26.6,light rain',\n",
       " 'Bangkok,2025-05-15 04:00:00,25.61,moderate rain',\n",
       " 'Bangkok,2025-05-15 07:00:00,25.81,light rain',\n",
       " 'Bangkok,2025-05-15 10:00:00,25.77,light rain',\n",
       " 'Bangkok,2025-05-15 13:00:00,26.34,light rain',\n",
       " 'Bangkok,2025-05-15 16:00:00,25.92,light rain',\n",
       " 'Bangkok,2025-05-15 19:00:00,25.66,light rain']"
      ]
     },
     "execution_count": 74,
     "metadata": {},
     "output_type": "execute_result"
    }
   ],
   "source": [
    "weather_list"
   ]
  },
  {
   "cell_type": "code",
   "execution_count": 76,
   "id": "42627d54-5668-42db-8911-ef1c3fd9c537",
   "metadata": {},
   "outputs": [],
   "source": [
    "with open(\"data.txt\", \"w\") as file:\n",
    "    pass\n",
    "\n",
    "with open(\"data.txt\", \"a\") as file:\n",
    "    file.write(\"City,Time,Temperature,Condition\\n\")\n",
    "\n",
    "    for timestamp in weather_list:\n",
    "        file.write(timestamp + \"\\n\")  "
   ]
  },
  {
   "cell_type": "code",
   "execution_count": null,
   "id": "42112a2e-b165-4bad-b627-14aaddfb2792",
   "metadata": {},
   "outputs": [],
   "source": []
  }
 ],
 "metadata": {
  "kernelspec": {
   "display_name": "Python 3 (ipykernel)",
   "language": "python",
   "name": "python3"
  },
  "language_info": {
   "codemirror_mode": {
    "name": "ipython",
    "version": 3
   },
   "file_extension": ".py",
   "mimetype": "text/x-python",
   "name": "python",
   "nbconvert_exporter": "python",
   "pygments_lexer": "ipython3",
   "version": "3.9.16"
  }
 },
 "nbformat": 4,
 "nbformat_minor": 5
}
