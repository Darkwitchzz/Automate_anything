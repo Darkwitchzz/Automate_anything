{
 "cells": [
  {
   "cell_type": "code",
   "execution_count": 49,
   "id": "0c3a92b6-e4f5-4ba1-aa7e-eb21551d1c1a",
   "metadata": {},
   "outputs": [],
   "source": [
    "from pathlib import Path\n",
    "file_paths = Path(r\"your path\")\n",
    "\n",
    "# Filter only folder_path \n",
    "path_list = [paths for paths in file_paths.glob(\"*\") if paths.is_dir() and not paths.name.startswith(\".\")]\n",
    "\n",
    "# Locate to folder that stored file\n",
    "for path in path_list:\n",
    "    file_path = Path(path)\n",
    "\n",
    "    # Filter only text file\n",
    "    for dir_path in file_path.glob(\"*.txt\"):\n",
    "        new_name = path.stem + \"-\" + dir_path.stem + dir_path.suffix\n",
    "        new_path = dir_path.with_name(new_name)\n",
    "        dir_path.rename(new_path)"
   ]
  },
  {
   "cell_type": "markdown",
   "id": "31b15a71-3fe4-4e7f-9c3d-2de65dc455c8",
   "metadata": {},
   "source": [
    "# Steo by step"
   ]
  },
  {
   "cell_type": "code",
   "execution_count": 32,
   "id": "45182351-25c9-4390-9623-7894ad275886",
   "metadata": {},
   "outputs": [],
   "source": [
    "from pathlib import Path"
   ]
  },
  {
   "cell_type": "code",
   "execution_count": 33,
   "id": "84c2d396-de76-451d-922d-dd421325a950",
   "metadata": {},
   "outputs": [],
   "source": [
    "file_paths = Path(r\"your path\")"
   ]
  },
  {
   "cell_type": "code",
   "execution_count": 1,
   "id": "7938b18b-0761-40a9-92cf-250870623d38",
   "metadata": {},
   "outputs": [],
   "source": [
    "file_paths"
   ]
  },
  {
   "cell_type": "code",
   "execution_count": 34,
   "id": "59191227-dc54-4818-bfcd-c026b2078023",
   "metadata": {},
   "outputs": [],
   "source": [
    "path_list = [paths for paths in file_paths.glob(\"*\") if paths.is_dir() and not paths.name.startswith(\".\")]"
   ]
  },
  {
   "cell_type": "code",
   "execution_count": 2,
   "id": "85a69dd1-511f-46f0-9281-733bfd3b879d",
   "metadata": {},
   "outputs": [],
   "source": [
    "path_list"
   ]
  },
  {
   "cell_type": "code",
   "execution_count": 48,
   "id": "d8833467-64b9-43ae-9350-2054ff8d28bf",
   "metadata": {},
   "outputs": [],
   "source": [
    "for path in path_list:\n",
    "    file_path = Path(path)\n",
    "    \n",
    "    for dir_path in file_path.iterdir():\n",
    "        if not dir_path.name.startswith(\".\"):\n",
    "            new_name = path.stem + \"-\" + dir_path.stem + dir_path.suffix\n",
    "            new_path = dir_path.with_name(new_name)\n",
    "            dir_path.rename(new_path)"
   ]
  },
  {
   "cell_type": "code",
   "execution_count": 3,
   "id": "4e1e3401-2b8b-4055-b38a-c91f0313e6e3",
   "metadata": {},
   "outputs": [],
   "source": [
    "for path in path_list:\n",
    "    print(path)"
   ]
  },
  {
   "cell_type": "code",
   "execution_count": 38,
   "id": "2bba0a86-0e46-4f18-9d29-d042c65242a1",
   "metadata": {},
   "outputs": [
    {
     "name": "stdout",
     "output_type": "stream",
     "text": [
      "December\n",
      "Noverber\n"
     ]
    }
   ],
   "source": [
    "for path in path_list:\n",
    "    new_name =  + path.stem + path.suffix"
   ]
  },
  {
   "cell_type": "code",
   "execution_count": null,
   "id": "4de01896-cba3-4b1d-bb49-db7de74558ae",
   "metadata": {},
   "outputs": [],
   "source": []
  }
 ],
 "metadata": {
  "kernelspec": {
   "display_name": "Python 3 (ipykernel)",
   "language": "python",
   "name": "python3"
  },
  "language_info": {
   "codemirror_mode": {
    "name": "ipython",
    "version": 3
   },
   "file_extension": ".py",
   "mimetype": "text/x-python",
   "name": "python",
   "nbconvert_exporter": "python",
   "pygments_lexer": "ipython3",
   "version": "3.9.16"
  }
 },
 "nbformat": 4,
 "nbformat_minor": 5
}
