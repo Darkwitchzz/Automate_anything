{
 "cells": [
  {
   "cell_type": "code",
   "execution_count": 2,
   "id": "27048f5c-82fc-4a74-8a92-1552fa367fc5",
   "metadata": {},
   "outputs": [],
   "source": [
    "from pathlib import Path\n",
    "import zipfile"
   ]
  },
  {
   "cell_type": "code",
   "execution_count": null,
   "id": "9307ffc0-7ed1-4bc1-8dfa-769d94647df8",
   "metadata": {},
   "outputs": [],
   "source": [
    "from pathlib import Path\n",
    "\n",
    "filepath = Path(\".\")\n",
    "\n",
    "for i in range(10, 21):\n",
    "    new_name = filepath / (str(i) + \".csv\")\n",
    "    new_name.touch()"
   ]
  },
  {
   "cell_type": "code",
   "execution_count": 34,
   "id": "28598d75-0ef6-4138-b044-e1b67ac3160a",
   "metadata": {},
   "outputs": [],
   "source": [
    "from pathlib import Path\n",
    "import zipfile\n",
    "\n",
    "filepath = Path(\".\")\n",
    "\n",
    "num_file = 0\n",
    "max_file = len(list(filepath.glob(\"*csv\")))\n",
    "\n",
    "for file in filepath.glob(\"*.csv\"):\n",
    "    num_file += 1\n",
    "    \n",
    "    if round(max_file / 2,0) >= num_file:\n",
    "        achieve_path = filepath / f\"item1.zip\"\n",
    "    else:\n",
    "        achieve_path = filepath / f\"item2.zip\"\n",
    "        \n",
    "    with zipfile.ZipFile(achieve_path, \"a\") as zf:\n",
    "        if file not in zf.namelist():\n",
    "            zf.write(file)\n",
    "\n",
    "    file.unlink()"
   ]
  },
  {
   "cell_type": "code",
   "execution_count": null,
   "id": "83eb788b-ea7d-4249-ab47-7ca41d0460ab",
   "metadata": {},
   "outputs": [],
   "source": [
    "from pathlib import Path\n",
    "import zipfile\n",
    "\n",
    "filepath = Path(\".\")\n",
    "\n",
    "new_folder = filepath / \"destination\"\n",
    "new_folder.mkdir(exist_ok=True)\n",
    "\n",
    "extract_path = Path(\"./destination\")\n",
    "\n",
    "for file in filepath.glob(\"*.zip\"):\n",
    "    with zipfile.ZipFile(file, \"r\") as zf:\n",
    "        final_path = extract_path / file.stem\n",
    "        zf.extractall(path = extract_path / file.stem)\n"
   ]
  },
  {
   "cell_type": "markdown",
   "id": "08d39e08-6d5e-4f8a-9916-46f9a1839216",
   "metadata": {},
   "source": [
    "# Step by step"
   ]
  },
  {
   "cell_type": "code",
   "execution_count": 10,
   "id": "c9d1487a-f1bb-4605-b746-c41db8314fee",
   "metadata": {},
   "outputs": [],
   "source": [
    "from pathlib import Path\n",
    "import zipfile"
   ]
  },
  {
   "cell_type": "code",
   "execution_count": 2,
   "id": "e73c83b3-1515-40b8-b8ad-4235524d2426",
   "metadata": {},
   "outputs": [],
   "source": [
    "filepath = Path(\".\")"
   ]
  },
  {
   "cell_type": "code",
   "execution_count": 3,
   "id": "3895f3f2-6087-4065-b548-61228b41a6a1",
   "metadata": {},
   "outputs": [
    {
     "data": {
      "text/plain": [
       "WindowsPath('.')"
      ]
     },
     "execution_count": 3,
     "metadata": {},
     "output_type": "execute_result"
    }
   ],
   "source": [
    "filepath"
   ]
  },
  {
   "cell_type": "code",
   "execution_count": 6,
   "id": "1413e06a-8fd8-45a7-adfd-d233d8d9ed5f",
   "metadata": {},
   "outputs": [],
   "source": [
    "for i in range(10, 21):\n",
    "    new_name = filepath / (str(i) + \".csv\")\n",
    "    new_name.touch()"
   ]
  },
  {
   "cell_type": "code",
   "execution_count": 30,
   "id": "f931a368-39f3-465c-8144-7f64510a0946",
   "metadata": {},
   "outputs": [],
   "source": [
    "num_file = 0\n",
    "max_file = len(list(filepath.glob(\"*csv\")))\n",
    "\n",
    "for file in filepath.glob(\"*.csv\"):\n",
    "    num_file += 1\n",
    "    \n",
    "    if round(max_file / 2,0) >= num_file:\n",
    "        achieve_path = filepath / f\"item1.zip\"\n",
    "        \n",
    "        with zipfile.ZipFile(achieve_path, \"a\") as zf:\n",
    "            zf.write(file)\n",
    "\n",
    "    else:\n",
    "        achieve_path = filepath / f\"item2.zip\"\n",
    "        \n",
    "        with zipfile.ZipFile(achieve_path, \"a\") as zf:\n",
    "            zf.write(file)"
   ]
  },
  {
   "cell_type": "code",
   "execution_count": 37,
   "id": "0d764db0-35de-484e-8de2-3d1495e607c8",
   "metadata": {},
   "outputs": [],
   "source": [
    "new_folder = filepath / \"destination\""
   ]
  },
  {
   "cell_type": "code",
   "execution_count": 40,
   "id": "d68e150d-7cd2-40a8-b679-62bbd21e0181",
   "metadata": {},
   "outputs": [],
   "source": [
    "new_folder.mkdir(exist_ok=True)"
   ]
  },
  {
   "cell_type": "code",
   "execution_count": 41,
   "id": "5468b6b9-b5be-41e8-bbfc-db81f49ad1b2",
   "metadata": {},
   "outputs": [],
   "source": [
    "extract_path = Path(\"./destination\")"
   ]
  },
  {
   "cell_type": "code",
   "execution_count": 42,
   "id": "b4871c16-ec13-44a7-bd5a-c48c22cd892a",
   "metadata": {},
   "outputs": [
    {
     "data": {
      "text/plain": [
       "WindowsPath('destination')"
      ]
     },
     "execution_count": 42,
     "metadata": {},
     "output_type": "execute_result"
    }
   ],
   "source": [
    "extract_path"
   ]
  },
  {
   "cell_type": "code",
   "execution_count": 46,
   "id": "637b0773-6566-4224-8a62-2d115ce8a14d",
   "metadata": {},
   "outputs": [],
   "source": [
    "for file in filepath.glob(\"*.zip\"):\n",
    "    with zipfile.ZipFile(file, \"r\") as zf:\n",
    "        final_path = extract_path / file.stem\n",
    "        zf.extractall(path = extract_path / file.stem)\n"
   ]
  },
  {
   "cell_type": "code",
   "execution_count": 9,
   "id": "541ab2e0-5788-428e-a7d3-5b7f3eedcdf2",
   "metadata": {},
   "outputs": [],
   "source": [
    "filepath = Path(\"/destination/item1\")"
   ]
  },
  {
   "cell_type": "code",
   "execution_count": 12,
   "id": "1189189d-c08b-4b9d-b80a-1ce9bbdc5b1d",
   "metadata": {},
   "outputs": [
    {
     "data": {
      "text/plain": [
       "WindowsPath('destination/item1/another 14.csv')"
      ]
     },
     "execution_count": 12,
     "metadata": {},
     "output_type": "execute_result"
    }
   ],
   "source": [
    "filepath = Path(\"./destination/item1\")\n",
    "new_file = filepath / \"another 14.csv\"\n",
    "new_file"
   ]
  },
  {
   "cell_type": "code",
   "execution_count": 8,
   "id": "7cdfd4d4-a3de-48f7-92df-26e21ea0eddf",
   "metadata": {},
   "outputs": [
    {
     "data": {
      "text/plain": [
       "WindowsPath('/destination/item1/another 14.csv')"
      ]
     },
     "execution_count": 8,
     "metadata": {},
     "output_type": "execute_result"
    }
   ],
   "source": [
    "new_file"
   ]
  },
  {
   "cell_type": "code",
   "execution_count": 13,
   "id": "50de9432-5ebc-4dee-8d21-178678187067",
   "metadata": {},
   "outputs": [],
   "source": [
    "new_file.touch()"
   ]
  },
  {
   "cell_type": "code",
   "execution_count": null,
   "id": "830495ea-a0ae-4fe3-bdf5-ead88c1f85a9",
   "metadata": {},
   "outputs": [],
   "source": []
  }
 ],
 "metadata": {
  "kernelspec": {
   "display_name": "Python 3 (ipykernel)",
   "language": "python",
   "name": "python3"
  },
  "language_info": {
   "codemirror_mode": {
    "name": "ipython",
    "version": 3
   },
   "file_extension": ".py",
   "mimetype": "text/x-python",
   "name": "python",
   "nbconvert_exporter": "python",
   "pygments_lexer": "ipython3",
   "version": "3.9.16"
  }
 },
 "nbformat": 4,
 "nbformat_minor": 5
}
