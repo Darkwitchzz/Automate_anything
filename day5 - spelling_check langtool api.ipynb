{
 "cells": [
  {
   "cell_type": "code",
   "execution_count": 134,
   "id": "61d62975-f74f-4c43-b330-90bb0a4cd9d0",
   "metadata": {},
   "outputs": [],
   "source": [
    "import requests\n",
    "url = \"https://api.languagetoolplus.com/v2/check\"\n",
    "\n",
    "def check_spelling(text, langauge=\"auto\"):\n",
    "    '''\n",
    "    A language code like en-US, de-DE, fr, or auto to guess the language automatically \n",
    "    (see preferredVariants below). For languages with variants (English, German, Portuguese) \n",
    "    spell checking will only be activated when you specify the variant, e.g. en-GB instead of just en.\n",
    "    '''\n",
    "    \n",
    "    data = {\n",
    "        \"text\": text,\n",
    "        \"language\": langauge\n",
    "    }\n",
    "    response = requests.post(url, data)\n",
    "    results = response.json()\n",
    "\n",
    "    try:\n",
    "        \n",
    "        if not results[\"matches\"]:\n",
    "                print(\"No spelling mistake found.\")\n",
    "            \n",
    "        else:\n",
    "            for result in results[\"matches\"]:\n",
    "                    \n",
    "                start_str = result[\"offset\"]\n",
    "                length_str = result[\"length\"]\n",
    "                miss_word = text[start_str: start_str+length_str]\n",
    "                fix_word = result[\"replacements\"][0][\"value\"]\n",
    "                print(f\"Your possible spelling mistake is : {miss_word} | replacements is : {fix_word}\" )\n",
    "    \n",
    "    except IndexError:\n",
    "        print(\"No spelling mistake found.\")\n",
    "    "
   ]
  },
  {
   "cell_type": "code",
   "execution_count": 132,
   "id": "a6df8bd6-67a2-4051-b006-1dd66be8f2e6",
   "metadata": {},
   "outputs": [],
   "source": [
    "text = \"your symptom is siniusitis\""
   ]
  },
  {
   "cell_type": "code",
   "execution_count": 140,
   "id": "6c8f8503-5c78-4f33-b2f3-7d2f0bf741df",
   "metadata": {},
   "outputs": [
    {
     "name": "stdout",
     "output_type": "stream",
     "text": [
      "No spelling mistake found.\n"
     ]
    }
   ],
   "source": [
    "check_spelling(text=text)"
   ]
  },
  {
   "cell_type": "markdown",
   "id": "49527d61-49a4-4ae6-82c3-9127bbdf9c6c",
   "metadata": {},
   "source": [
    "# Step by step"
   ]
  },
  {
   "cell_type": "code",
   "execution_count": 4,
   "id": "5e86482b-0130-4cb6-a743-b9452bd682b8",
   "metadata": {},
   "outputs": [],
   "source": [
    "import requests"
   ]
  },
  {
   "cell_type": "code",
   "execution_count": 18,
   "id": "9ca7483f-ce42-4635-bb46-8f2c5bc683dc",
   "metadata": {},
   "outputs": [],
   "source": [
    "url = \"https://api.languagetoolplus.com/v2/check\""
   ]
  },
  {
   "cell_type": "code",
   "execution_count": 102,
   "id": "db862530-488f-4e02-9f63-7fc4167a03b2",
   "metadata": {},
   "outputs": [],
   "source": [
    "text = \"อออ\"\n",
    "langauge = \"auto\""
   ]
  },
  {
   "cell_type": "code",
   "execution_count": 103,
   "id": "2a75470e-38a4-47d2-8079-73ef532b77e5",
   "metadata": {},
   "outputs": [],
   "source": [
    "data = {\n",
    "    \"text\": text,\n",
    "    \"language\": langauge\n",
    "}"
   ]
  },
  {
   "cell_type": "code",
   "execution_count": 104,
   "id": "27f96b76-a326-41ce-ae92-704a493927e0",
   "metadata": {},
   "outputs": [],
   "source": [
    "response = requests.post(url, data)"
   ]
  },
  {
   "cell_type": "code",
   "execution_count": 105,
   "id": "3b4f9fa4-99b2-4c1c-9808-21d5606ec2a0",
   "metadata": {},
   "outputs": [
    {
     "data": {
      "text/plain": [
       "{'software': {'name': 'LanguageTool',\n",
       "  'version': '6.7.5',\n",
       "  'buildDate': '2025-05-16 12:37:35 +0000',\n",
       "  'apiVersion': 1,\n",
       "  'premium': True,\n",
       "  'premiumHint': 'You might be missing errors only the Premium version can find. Contact us at support<at>languagetoolplus.com.',\n",
       "  'status': ''},\n",
       " 'warnings': {'incompleteResults': False},\n",
       " 'language': {'name': 'NoopLanguage',\n",
       "  'code': 'zz',\n",
       "  'detectedLanguage': {'name': 'NoopLanguage',\n",
       "   'code': 'zz',\n",
       "   'confidence': 1.0,\n",
       "   'source': None}},\n",
       " 'matches': [],\n",
       " 'sentenceRanges': [[0, 3]],\n",
       " 'extendedSentenceRanges': [{'from': 0,\n",
       "   'to': 3,\n",
       "   'detectedLanguages': [{'language': 'zz', 'rate': 1.0}]}]}"
      ]
     },
     "execution_count": 105,
     "metadata": {},
     "output_type": "execute_result"
    }
   ],
   "source": [
    "results = response.json()\n",
    "results"
   ]
  },
  {
   "cell_type": "code",
   "execution_count": 108,
   "id": "f6f04eab-be8f-4beb-a9dd-4c47ed55307c",
   "metadata": {},
   "outputs": [],
   "source": [
    "# try:\n",
    "for result in results[\"matches\"]:\n",
    "    \n",
    "    start_str = result[\"offset\"]\n",
    "    length_str = result[\"length\"]\n",
    "    miss_word = text[start_str: start_str+length_str]\n",
    "    fix_word = result[\"replacements\"][0][\"value\"]\n",
    "    print(f\"Your possible spelling mistake is : {miss_word} | replacements is : {fix_word}\" )\n",
    "\n",
    "# except IndexError:\n",
    "#     print(\"No spelling mistake found.\")"
   ]
  },
  {
   "cell_type": "code",
   "execution_count": 127,
   "id": "fb2d9c8a-7098-4cce-a3db-4c9a7890ad22",
   "metadata": {},
   "outputs": [
    {
     "data": {
      "text/plain": [
       "[]"
      ]
     },
     "execution_count": 127,
     "metadata": {},
     "output_type": "execute_result"
    }
   ],
   "source": [
    "results[\"matches\"]"
   ]
  },
  {
   "cell_type": "code",
   "execution_count": 126,
   "id": "b7fc36f1-d2a2-4c5f-8ce5-2f8d1eb5e77c",
   "metadata": {},
   "outputs": [],
   "source": [
    "for result in results[\"matches\"]:\n",
    "    print(result)"
   ]
  },
  {
   "cell_type": "code",
   "execution_count": 112,
   "id": "69908a88-e214-4c62-a3d0-61513dc0edfd",
   "metadata": {},
   "outputs": [
    {
     "name": "stdout",
     "output_type": "stream",
     "text": [
      "afk\n"
     ]
    }
   ],
   "source": [
    "if not results[\"matches\"]:\n",
    "    print(\"afk\")\n"
   ]
  },
  {
   "cell_type": "code",
   "execution_count": null,
   "id": "35451cfa-6f43-4fee-bb87-88722bc47be8",
   "metadata": {},
   "outputs": [],
   "source": []
  }
 ],
 "metadata": {
  "kernelspec": {
   "display_name": "Python 3 (ipykernel)",
   "language": "python",
   "name": "python3"
  },
  "language_info": {
   "codemirror_mode": {
    "name": "ipython",
    "version": 3
   },
   "file_extension": ".py",
   "mimetype": "text/x-python",
   "name": "python",
   "nbconvert_exporter": "python",
   "pygments_lexer": "ipython3",
   "version": "3.9.16"
  }
 },
 "nbformat": 4,
 "nbformat_minor": 5
}
