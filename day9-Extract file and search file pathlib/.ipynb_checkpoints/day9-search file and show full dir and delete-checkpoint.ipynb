{
 "cells": [
  {
   "cell_type": "code",
   "execution_count": 27,
   "id": "127f4980-fa37-400f-a265-a9745de2c9c3",
   "metadata": {},
   "outputs": [
    {
     "name": "stdout",
     "output_type": "stream",
     "text": [
      "C:\\Users\\Athitawat\\Automate_Everything\\day9-Extract file and search file pathlib\\destination\\item1\\14.csv\n",
      "C:\\Users\\Athitawat\\Automate_Everything\\day9-Extract file and search file pathlib\\destination\\item1\\another 14.csv\n"
     ]
    }
   ],
   "source": [
    "from pathlib import Path\n",
    "\n",
    "filepath = Path(\".\")\n",
    "\n",
    "keyword = \"14\"\n",
    "keyword = str(keyword)\n",
    "\n",
    "for file in filepath.rglob(f\"*{keyword}*\"):\n",
    "    if file.is_file():\n",
    "        print(file.absolute())\n"
   ]
  },
  {
   "cell_type": "markdown",
   "id": "40d0452f-9774-4db7-9f9f-d8452c632a6e",
   "metadata": {},
   "source": [
    "# Step by step"
   ]
  },
  {
   "cell_type": "code",
   "execution_count": 2,
   "id": "c8cb0a36-2e05-45de-8dc9-29f4b9acc426",
   "metadata": {},
   "outputs": [],
   "source": [
    "from pathlib import Path"
   ]
  },
  {
   "cell_type": "code",
   "execution_count": 3,
   "id": "f1486185-2abf-4f81-8303-5653f582fbbf",
   "metadata": {},
   "outputs": [],
   "source": [
    "filepath = Path(\".\")"
   ]
  },
  {
   "cell_type": "code",
   "execution_count": 14,
   "id": "53317b7d-9783-4de1-89d5-ae5a31a568de",
   "metadata": {},
   "outputs": [],
   "source": [
    "keyword = 14\n",
    "keyword = str(keyword)"
   ]
  },
  {
   "cell_type": "code",
   "execution_count": 18,
   "id": "476f275a-fc62-4bfe-a698-055e30ab47c3",
   "metadata": {},
   "outputs": [
    {
     "name": "stdout",
     "output_type": "stream",
     "text": [
      "C:\\Users\\Athitawat\\Automate_Everything\\day9-Extract file and search file pathlib\\destination\\item1\\14.csv\n",
      "C:\\Users\\Athitawat\\Automate_Everything\\day9-Extract file and search file pathlib\\destination\\item1\\another 14.csv\n"
     ]
    }
   ],
   "source": [
    "for file in filepath.rglob(f\"*{keyword}*\"):\n",
    "    print(file.absolute())\n"
   ]
  },
  {
   "cell_type": "code",
   "execution_count": 23,
   "id": "6fd3b17e-01fc-4194-9054-08f178eb994f",
   "metadata": {},
   "outputs": [
    {
     "name": "stdout",
     "output_type": "stream",
     "text": [
      "destination\\item1\\14.csv\n",
      "destination\\item1\\another 14.csv\n"
     ]
    }
   ],
   "source": [
    "for file in filepath.rglob(\"*\"):\n",
    "    if keyword in file.stem:\n",
    "        print(file)\n"
   ]
  },
  {
   "cell_type": "code",
   "execution_count": 31,
   "id": "0808e4ad-5952-4bb8-9e5c-1bc1c40f8d37",
   "metadata": {},
   "outputs": [],
   "source": [
    "filepath = Path(\".\")"
   ]
  },
  {
   "cell_type": "code",
   "execution_count": 32,
   "id": "ca6df6f2-53a3-451b-9d2e-83fe17090079",
   "metadata": {},
   "outputs": [],
   "source": [
    "for file in filepath.rglob(\"*.csv\"):\n",
    "    print(file)"
   ]
  },
  {
   "cell_type": "code",
   "execution_count": null,
   "id": "57689cbb-d41f-4570-ae29-1c8cad250bce",
   "metadata": {},
   "outputs": [],
   "source": []
  }
 ],
 "metadata": {
  "kernelspec": {
   "display_name": "Python 3 (ipykernel)",
   "language": "python",
   "name": "python3"
  },
  "language_info": {
   "codemirror_mode": {
    "name": "ipython",
    "version": 3
   },
   "file_extension": ".py",
   "mimetype": "text/x-python",
   "name": "python",
   "nbconvert_exporter": "python",
   "pygments_lexer": "ipython3",
   "version": "3.9.16"
  }
 },
 "nbformat": 4,
 "nbformat_minor": 5
}
