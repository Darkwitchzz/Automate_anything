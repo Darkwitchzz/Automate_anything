{
 "cells": [
  {
   "cell_type": "code",
   "execution_count": 15,
   "id": "e9fcff0f-fa87-4380-97f8-597e0b8a0140",
   "metadata": {},
   "outputs": [],
   "source": [
    "from pathlib import Path\n",
    "\n",
    "file_path = Path(r\"C:\\Users\\Athitawat\\Automate_Everything\\day7 - Rename Files Based on the sub-sub-folders\")\n",
    "\n",
    "for file in file_path.glob(\"**/*.txt\"):\n",
    "    parent_paths = file.parts[-3: ]\n",
    "    file_newname = \"-\".join(parent_paths)\n",
    "    file_newpath = file.with_name(file_newname)\n",
    "    file.rename(file_newpath)"
   ]
  },
  {
   "cell_type": "code",
   "execution_count": 16,
   "id": "61094f74-3833-4e26-8d7e-4af0ea154665",
   "metadata": {},
   "outputs": [],
   "source": [
    "from pathlib import Path\n",
    "\n",
    "# Reset file name\n",
    "file_path = Path(r\"C:\\Users\\Athitawat\\Automate_Everything\\day7 - Rename Files Based on the sub-sub-folders\")\n",
    "\n",
    "for file in file_path.glob(\"**/*.txt\"):\n",
    "    reset_name = file.parts[-1].split(\"-\")[-1]\n",
    "    file_newpath = file.with_name(reset_name)\n",
    "    file.rename(file_newpath)"
   ]
  },
  {
   "cell_type": "code",
   "execution_count": null,
   "id": "b5b38fba-7fa9-4f88-983f-1effa974c944",
   "metadata": {},
   "outputs": [],
   "source": [
    "from pathlib import Path\n",
    "\n",
    "file_path = Path(r\"C:\\Users\\Athitawat\\Automate_Everything\\day7 - Rename Files Based on the sub-sub-folders\")\n",
    "\n",
    "for file in file_path.glob(\"**/*.txt\"):\n",
    "    # Filter .ipynb_checkpoints out\n",
    "    if not file.parts[-2][0] == \".\":\n",
    "\n",
    "        # Find create time\n",
    "        create_unix_time = file.stat().st_ctime\n",
    "        create_time = datetime.fromtimestamp(create_unix_time)\n",
    "        create_time_str = create_time.strftime(\"%Y-%m-%d_%H-%M-%S\")\n",
    "\n",
    "        # Rename file\n",
    "        new_filename = create_time_str + \"-\" + file.name\n",
    "        new_filepath = file.with_name(new_filename)\n",
    "        file.rename(new_filepath)"
   ]
  },
  {
   "cell_type": "markdown",
   "id": "cb89b867-1eba-441c-9845-be1c89962e6c",
   "metadata": {},
   "source": [
    "# Step by step"
   ]
  },
  {
   "cell_type": "code",
   "execution_count": 30,
   "id": "06353d69-483b-44f3-a468-d36ff9828d09",
   "metadata": {},
   "outputs": [],
   "source": [
    "from pathlib import Path\n",
    "from datetime import datetime"
   ]
  },
  {
   "cell_type": "code",
   "execution_count": 17,
   "id": "806b067f-4874-4c29-b91f-3477359b9898",
   "metadata": {},
   "outputs": [
    {
     "data": {
      "text/plain": [
       "WindowsPath('C:/Users/Athitawat/Automate_Everything/day7 - Rename Files Based on the sub-sub-folders')"
      ]
     },
     "execution_count": 17,
     "metadata": {},
     "output_type": "execute_result"
    }
   ],
   "source": [
    "file_path = Path(r\"C:\\Users\\Athitawat\\Automate_Everything\\day7 - Rename Files Based on the sub-sub-folders\")\n",
    "file_path"
   ]
  },
  {
   "cell_type": "code",
   "execution_count": 6,
   "id": "f70ac0ea-a4f2-445d-9c67-b89f4bc597b3",
   "metadata": {},
   "outputs": [
    {
     "name": "stdout",
     "output_type": "stream",
     "text": [
      "('2023', 'Dec', 'a.txt')\n",
      "('2023', 'Dec', 'b.txt')\n",
      "('2023', 'Nov', 'c.txt')\n",
      "('2023', 'Nov', 'd.txt')\n",
      "('2024', 'Dec', 'e.txt')\n",
      "('2024', 'Dec', 'f.txt')\n",
      "('2024', 'Nov', 'g.txt')\n",
      "('2024', 'Nov', 'h.txt')\n"
     ]
    }
   ],
   "source": [
    "for file in file_path.glob(\"**/*.txt\"):\n",
    "    parent_paths = file.parts[-3: ]\n",
    "    print(parent_paths)\n",
    "    "
   ]
  },
  {
   "cell_type": "code",
   "execution_count": 18,
   "id": "ba6756ac-2dad-4c2e-9511-91bf668192e3",
   "metadata": {},
   "outputs": [
    {
     "data": {
      "text/plain": [
       "WindowsPath('C:/Users/Athitawat/Automate_Everything/day7 - Rename Files Based on the sub-sub-folders')"
      ]
     },
     "execution_count": 18,
     "metadata": {},
     "output_type": "execute_result"
    }
   ],
   "source": [
    "file_path = Path(r\"C:\\Users\\Athitawat\\Automate_Everything\\day7 - Rename Files Based on the sub-sub-folders\")\n",
    "file_path"
   ]
  },
  {
   "cell_type": "code",
   "execution_count": 33,
   "id": "23788d3b-5f00-4d56-8b7d-f5de63bc4f16",
   "metadata": {},
   "outputs": [
    {
     "name": "stdout",
     "output_type": "stream",
     "text": [
      "C:\\Users\\Athitawat\\Automate_Everything\\day7 - Rename Files Based on the sub-sub-folders\\2023\\Dec\\a.txt\n",
      "C:\\Users\\Athitawat\\Automate_Everything\\day7 - Rename Files Based on the sub-sub-folders\\2023\\Dec\\b.txt\n",
      "C:\\Users\\Athitawat\\Automate_Everything\\day7 - Rename Files Based on the sub-sub-folders\\2023\\Nov\\c.txt\n",
      "C:\\Users\\Athitawat\\Automate_Everything\\day7 - Rename Files Based on the sub-sub-folders\\2023\\Nov\\d.txt\n",
      "C:\\Users\\Athitawat\\Automate_Everything\\day7 - Rename Files Based on the sub-sub-folders\\2024\\Dec\\e.txt\n",
      "C:\\Users\\Athitawat\\Automate_Everything\\day7 - Rename Files Based on the sub-sub-folders\\2024\\Dec\\f.txt\n",
      "C:\\Users\\Athitawat\\Automate_Everything\\day7 - Rename Files Based on the sub-sub-folders\\2024\\Dec\\.ipynb_checkpoints\\checkpoint.txt\n",
      "C:\\Users\\Athitawat\\Automate_Everything\\day7 - Rename Files Based on the sub-sub-folders\\2024\\Nov\\g.txt\n",
      "C:\\Users\\Athitawat\\Automate_Everything\\day7 - Rename Files Based on the sub-sub-folders\\2024\\Nov\\h.txt\n"
     ]
    }
   ],
   "source": [
    "for file in file_path.glob(\"**/*.txt\"):\n",
    "    print(file)"
   ]
  },
  {
   "cell_type": "code",
   "execution_count": 43,
   "id": "7b3d4381-ccb6-484a-8f7d-ff5f64ad991e",
   "metadata": {},
   "outputs": [],
   "source": [
    "for file in file_path.glob(\"**/*.txt\"):\n",
    "    # Filter .ipynb_checkpoints out\n",
    "    if not file.parts[-2][0] == \".\":\n",
    "\n",
    "        # Find create time\n",
    "        create_unix_time = file.stat().st_ctime\n",
    "        create_time = datetime.fromtimestamp(create_unix_time)\n",
    "        create_time_str = create_time.strftime(\"%Y-%m-%d_%H-%M-%S\")\n",
    "\n",
    "        # Rename file\n",
    "        new_filename = create_time_str + \"-\" + file.name\n",
    "        new_filepath = file.with_name(new_filename)\n",
    "        file.rename(new_filepath)"
   ]
  },
  {
   "cell_type": "code",
   "execution_count": null,
   "id": "247ce04d-7140-493e-8675-20d3915e282b",
   "metadata": {},
   "outputs": [],
   "source": []
  }
 ],
 "metadata": {
  "kernelspec": {
   "display_name": "Python 3 (ipykernel)",
   "language": "python",
   "name": "python3"
  },
  "language_info": {
   "codemirror_mode": {
    "name": "ipython",
    "version": 3
   },
   "file_extension": ".py",
   "mimetype": "text/x-python",
   "name": "python",
   "nbconvert_exporter": "python",
   "pygments_lexer": "ipython3",
   "version": "3.9.16"
  }
 },
 "nbformat": 4,
 "nbformat_minor": 5
}
